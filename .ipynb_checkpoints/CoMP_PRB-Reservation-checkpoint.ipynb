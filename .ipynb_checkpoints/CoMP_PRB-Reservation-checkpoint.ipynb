{
 "cells": [
  {
   "cell_type": "code",
   "execution_count": 1,
   "metadata": {},
   "outputs": [],
   "source": [
    "import eventDrivenSimulation as eds\n",
    "import simpy\n",
    "import numpy as np\n",
    "import pandas as pd\n",
    "import scipy\n",
    "import matplotlib.pyplot as plt\n",
    "import show as sh\n",
    "import requests\n",
    "import folium\n",
    "import haversine\n",
    "import math\n",
    "import bibliothek as bib\n",
    "import random\n",
    "import simulation as sm\n",
    "import statistics"
   ]
  },
  {
   "cell_type": "markdown",
   "metadata": {},
   "source": [
    "## Data Generation"
   ]
  },
  {
   "cell_type": "code",
   "execution_count": 2,
   "metadata": {},
   "outputs": [],
   "source": [
    "CONFIG = {}\n",
    "\n",
    "CONFIG['LAT'] = 51.34053598409240\n",
    "CONFIG['LON'] = 12.381419774766130\n",
    "CONFIG['RADIUS'] = 500\n",
    "CONFIG['NUM_UES'] = 400\n",
    "CONFIG['URL'] = 'https://pqos-api-test.radiolab.dit.htwk-leipzig.de' "
   ]
  },
  {
   "cell_type": "code",
   "execution_count": 3,
   "metadata": {},
   "outputs": [
    {
     "ename": "KeyError",
     "evalue": "'ue_data'",
     "output_type": "error",
     "traceback": [
      "\u001b[1;31m---------------------------------------------------------------------------\u001b[0m",
      "\u001b[1;31mKeyError\u001b[0m                                  Traceback (most recent call last)",
      "\u001b[1;32m<ipython-input-3-020a897f6b7a>\u001b[0m in \u001b[0;36m<module>\u001b[1;34m\u001b[0m\n\u001b[0;32m      9\u001b[0m \u001b[1;33m\u001b[0m\u001b[0m\n\u001b[0;32m     10\u001b[0m \u001b[0mul_response_data\u001b[0m \u001b[1;33m=\u001b[0m \u001b[0mrequests\u001b[0m\u001b[1;33m.\u001b[0m\u001b[0mget\u001b[0m\u001b[1;33m(\u001b[0m\u001b[0mul_query_string\u001b[0m\u001b[1;33m)\u001b[0m\u001b[1;33m.\u001b[0m\u001b[0mjson\u001b[0m\u001b[1;33m(\u001b[0m\u001b[1;33m)\u001b[0m\u001b[1;33m\u001b[0m\u001b[1;33m\u001b[0m\u001b[0m\n\u001b[1;32m---> 11\u001b[1;33m \u001b[0mue_data\u001b[0m \u001b[1;33m=\u001b[0m \u001b[0mul_response_data\u001b[0m\u001b[1;33m[\u001b[0m\u001b[1;34m'ue_data'\u001b[0m\u001b[1;33m]\u001b[0m\u001b[1;33m\u001b[0m\u001b[1;33m\u001b[0m\u001b[0m\n\u001b[0m\u001b[0;32m     12\u001b[0m \u001b[0mcell_data\u001b[0m\u001b[1;33m=\u001b[0m\u001b[0mul_response_data\u001b[0m\u001b[1;33m[\u001b[0m\u001b[1;34m'cell_data'\u001b[0m\u001b[1;33m]\u001b[0m\u001b[1;33m\u001b[0m\u001b[1;33m\u001b[0m\u001b[0m\n\u001b[0;32m     13\u001b[0m \u001b[1;33m\u001b[0m\u001b[0m\n",
      "\u001b[1;31mKeyError\u001b[0m: 'ue_data'"
     ]
    }
   ],
   "source": [
    "ul_scenario_map = folium.Map(location = [CONFIG['LAT'], CONFIG['LON']], tiles = \"cartodbpositron\", zoom_start = 15)\n",
    "\n",
    "ul_query_string = CONFIG['URL'] + '/generate_scenario' + \\\n",
    "                                  '?lat=' + str(CONFIG['LAT']) + \\\n",
    "                                  '&lon=' + str(CONFIG['LON']) + \\\n",
    "                                  '&radius=' + str(CONFIG['RADIUS']) + \\\n",
    "                                  '&num_ues=' + str(CONFIG['NUM_UES']) + \\\n",
    "                                '&cell_type=NGMN3600'\n",
    "\n",
    "ul_response_data = requests.get(ul_query_string).json()\n",
    "ue_data = ul_response_data['ue_data']\n",
    "cell_data=ul_response_data['cell_data']\n",
    "\n",
    "eds.plot_map(CONFIG,cell_data)"
   ]
  },
  {
   "cell_type": "code",
   "execution_count": null,
   "metadata": {},
   "outputs": [],
   "source": [
    "df_cell = pd.DataFrame(cell_data)"
   ]
  },
  {
   "cell_type": "code",
   "execution_count": null,
   "metadata": {},
   "outputs": [],
   "source": [
    "sectors=df_cell['pci'].unique()"
   ]
  },
  {
   "cell_type": "code",
   "execution_count": null,
   "metadata": {},
   "outputs": [],
   "source": [
    "bs_dict={}\n",
    "for i in df_cell.index:\n",
    "    bs_dict.update({df_cell.loc[i]['pci']:[df_cell.loc[i]['lon'],df_cell.loc[i]['lat']]})"
   ]
  },
  {
   "cell_type": "code",
   "execution_count": null,
   "metadata": {},
   "outputs": [],
   "source": [
    "user_dataframe=pd.DataFrame()\n",
    "x=np.array([])\n",
    "for i in df_ue['id']:\n",
    "    dic=df_ue.loc[i]['cell_info']\n",
    "    powers={}\n",
    "    pos=df_ue.loc[i]['pos']\n",
    "    powers.update({'lat':pos[0]})\n",
    "    powers.update({'lon':pos[1]})\n",
    "    for i in dic:\n",
    "        powers.update({i['pci']:i['dl_rx_power']})\n",
    "    x=np.append(x,powers)\n",
    "user_dataframe = pd.DataFrame.from_records(x)"
   ]
  },
  {
   "cell_type": "markdown",
   "metadata": {},
   "source": [
    "## Preprocessing & CoMP Calculations"
   ]
  },
  {
   "cell_type": "markdown",
   "metadata": {},
   "source": [
    "Settings for the CoMP Calculations: \n",
    "* noise power = -104 dBm\n",
    "\n",
    "P=vector with receiving powers from all PCIs (N)\n",
    "\n",
    "**SINR without CoMP**: $\\frac{P_{0}}{P_{N}+P_{1:N}}$\n",
    "\n",
    "**SINR with CoMP (2 coord. PCIs)** : $\\frac{(\\sqrt{P_{0}}+\\sqrt{P_{1}})^2}{P_{N}+P_{2:N}}$"
   ]
  },
  {
   "cell_type": "code",
   "execution_count": null,
   "metadata": {},
   "outputs": [],
   "source": [
    "noise=np.power(10,-104/10) #https://www.sciencedirect.com/topics/engineering/noise-power -> 10MHz bandwidth (50PRBs)\n",
    "cluster=sectors #all the cells are put in one cluster"
   ]
  },
  {
   "cell_type": "code",
   "execution_count": null,
   "metadata": {},
   "outputs": [],
   "source": [
    "df=user_dataframe.copy()\n",
    "SINR_list=np.array([])\n",
    "SINRwithCoMP_list=np.array([])\n",
    "SINRwithCoMP_phaseshiftList=np.array([])\n",
    "tp_1_list=np.array([])\n",
    "tp_2_list=np.array([])\n",
    "for i in np.arange(0, len(df)):\n",
    "    P=df.loc[i,:][2:] #goes through file line by line and selects the line\n",
    "    P=np.power(10, P/10) # calculate the linear values for capacity calculations\n",
    "    P=P.sort_values(ascending=False) # sort values by their order\n",
    "    A=np.sqrt(P) #calculate the amplitude\n",
    "    index=P.index.values #Extract all index values \n",
    "    index=index.astype(np.int) #PCIen as integer\n",
    "    A=np.array(A)\n",
    "    P=np.array(P)\n",
    "    SINR= P[0]/(np.sum(P[1:])+noise)\n",
    "    SINRwithCoMP= np.power(np.sum(A[0:2]),2)/(np.sum(P[2:])+noise)\n",
    "    #phi=random.gauss(0, math.pi)\n",
    "    phi=random.gauss(0, math.pi/4)\n",
    "    SINRwithCoMP_phaseshift=10*np.log10((np.power(A[0]+A[1]*np.cos(phi),2)+np.power(A[1]*np.sin(phi),2))/(np.sum(P[2:])+noise))\n",
    "    \n",
    "    SINR_list=np.append(SINR_list,10*np.log10(SINR)) #appends the calculated elements\n",
    "    SINRwithCoMP_list=np.append(SINRwithCoMP_list,10*np.log10(SINRwithCoMP))\n",
    "    SINRwithCoMP_phaseshiftList=np.append(SINRwithCoMP_phaseshiftList,SINRwithCoMP_phaseshift)\n",
    "\n",
    "    tp_1_list=np.append(tp_1_list,index[0])\n",
    "    tp_2_list=np.append(tp_2_list,index[1])"
   ]
  },
  {
   "cell_type": "markdown",
   "metadata": {},
   "source": [
    "##### Building the dataframe"
   ]
  },
  {
   "cell_type": "code",
   "execution_count": 4,
   "metadata": {},
   "outputs": [
    {
     "ename": "NameError",
     "evalue": "name 'user_dataframe' is not defined",
     "output_type": "error",
     "traceback": [
      "\u001b[1;31m---------------------------------------------------------------------------\u001b[0m",
      "\u001b[1;31mNameError\u001b[0m                                 Traceback (most recent call last)",
      "\u001b[1;32m<ipython-input-4-046afc5e9d08>\u001b[0m in \u001b[0;36m<module>\u001b[1;34m\u001b[0m\n\u001b[1;32m----> 1\u001b[1;33m \u001b[0mdf\u001b[0m\u001b[1;33m[\u001b[0m\u001b[1;34m'lat'\u001b[0m\u001b[1;33m]\u001b[0m\u001b[1;33m=\u001b[0m\u001b[0muser_dataframe\u001b[0m\u001b[1;33m[\u001b[0m\u001b[1;34m'lat'\u001b[0m\u001b[1;33m]\u001b[0m\u001b[1;33m\u001b[0m\u001b[1;33m\u001b[0m\u001b[0m\n\u001b[0m\u001b[0;32m      2\u001b[0m \u001b[0mdf\u001b[0m\u001b[1;33m[\u001b[0m\u001b[1;34m'lon'\u001b[0m\u001b[1;33m]\u001b[0m\u001b[1;33m=\u001b[0m\u001b[0muser_dataframe\u001b[0m\u001b[1;33m[\u001b[0m\u001b[1;34m'lon'\u001b[0m\u001b[1;33m]\u001b[0m\u001b[1;33m\u001b[0m\u001b[1;33m\u001b[0m\u001b[0m\n\u001b[0;32m      3\u001b[0m \u001b[0mdf\u001b[0m\u001b[1;33m[\u001b[0m\u001b[1;34m'SINR [dB]'\u001b[0m\u001b[1;33m]\u001b[0m\u001b[1;33m=\u001b[0m\u001b[0mSINR_list\u001b[0m\u001b[1;33m\u001b[0m\u001b[1;33m\u001b[0m\u001b[0m\n\u001b[0;32m      4\u001b[0m \u001b[0mdf\u001b[0m\u001b[1;33m[\u001b[0m\u001b[1;34m'SINR-CoMP [dB]'\u001b[0m\u001b[1;33m]\u001b[0m\u001b[1;33m=\u001b[0m\u001b[0mSINRwithCoMP_list\u001b[0m\u001b[1;33m\u001b[0m\u001b[1;33m\u001b[0m\u001b[0m\n\u001b[0;32m      5\u001b[0m \u001b[0mdf\u001b[0m\u001b[1;33m[\u001b[0m\u001b[1;34m'SINR-CoMP with phaseshift [dB]'\u001b[0m\u001b[1;33m]\u001b[0m\u001b[1;33m=\u001b[0m\u001b[0mSINRwithCoMP_phaseshiftList\u001b[0m\u001b[1;33m\u001b[0m\u001b[1;33m\u001b[0m\u001b[0m\n",
      "\u001b[1;31mNameError\u001b[0m: name 'user_dataframe' is not defined"
     ]
    }
   ],
   "source": [
    "df['lat']=user_dataframe['lat']\n",
    "df['lon']=user_dataframe['lon']\n",
    "df['SINR [dB]']=SINR_list\n",
    "df['SINR-CoMP [dB]']=SINRwithCoMP_list\n",
    "df['SINR-CoMP with phaseshift [dB]']=SINRwithCoMP_phaseshiftList\n",
    "df['TP1']=tp_1_list.astype(int)\n",
    "df['TP2']=tp_2_list.astype(int)\n",
    "df['qos']=np.zeros(len(user_dataframe)) #not needed here -> all users are best effort -> 0\n",
    "df['id']=np.arange(0,len(user_dataframe))"
   ]
  },
  {
   "cell_type": "markdown",
   "metadata": {},
   "source": [
    "Read the existing data"
   ]
  },
  {
   "cell_type": "code",
   "execution_count": 4,
   "metadata": {},
   "outputs": [],
   "source": [
    "df=pd.read_csv('ue_data_pandas')"
   ]
  },
  {
   "cell_type": "markdown",
   "metadata": {},
   "source": [
    "#### Define general parameters for the simulation"
   ]
  },
  {
   "cell_type": "code",
   "execution_count": 5,
   "metadata": {},
   "outputs": [],
   "source": [
    "max_prb=50 #number of prbs defined by the system bandwidth\n",
    "ue_nr=15 #number of ues per pci\n",
    "metric=[1,1] #defines the exponents of the metric (standard metric is pf ->[1,1])"
   ]
  },
  {
   "cell_type": "markdown",
   "metadata": {},
   "source": [
    "#### Sort out PCIs that have less than ue_nr users -> edge of the Scenario"
   ]
  },
  {
   "cell_type": "code",
   "execution_count": 6,
   "metadata": {},
   "outputs": [],
   "source": [
    "#check if the number of users (positions) for the serving pci is >10\n",
    "df_filter=df.groupby('TP1')\n",
    "count=0\n",
    "for i in df['TP1'].unique():\n",
    "    k=df_filter.get_group(i)\n",
    "    if(len(k)<ue_nr):\n",
    "        cluster=np.delete(cluster,count) #delete cells with less than 10 positions\n",
    "        df=df[df['TP1']!=i]\n",
    "    count+=1"
   ]
  },
  {
   "cell_type": "markdown",
   "metadata": {},
   "source": [
    "#### Define a cluster"
   ]
  },
  {
   "cell_type": "code",
   "execution_count": 7,
   "metadata": {},
   "outputs": [
    {
     "name": "stdout",
     "output_type": "stream",
     "text": [
      "pci options for cluster: [132 318 774 319 776 320 134 133 775]\n"
     ]
    }
   ],
   "source": [
    "sectors= np.array(df['TP1'].unique())\n",
    "print('pci options for cluster:',sectors)"
   ]
  },
  {
   "cell_type": "code",
   "execution_count": 8,
   "metadata": {},
   "outputs": [],
   "source": [
    "#cluster=[134,776,319]\n",
    "cluster=[320,133]\n",
    "#cluster=[775,133]\n",
    "#cluster=[319,775]\n",
    "#cluster=sectors\n",
    "#cluster=[133,775,319]"
   ]
  },
  {
   "cell_type": "code",
   "execution_count": 9,
   "metadata": {},
   "outputs": [],
   "source": [
    "for i in df.index:\n",
    "    rx_powers=df.iloc[i][3:-7]\n",
    "    "
   ]
  },
  {
   "cell_type": "code",
   "execution_count": 10,
   "metadata": {},
   "outputs": [],
   "source": [
    "rx_powers=df.iloc[i][3:-7]"
   ]
  },
  {
   "cell_type": "code",
   "execution_count": 11,
   "metadata": {},
   "outputs": [],
   "source": [
    "df_filter=df.groupby('TP1')"
   ]
  },
  {
   "cell_type": "code",
   "execution_count": 12,
   "metadata": {},
   "outputs": [],
   "source": [
    "df2=df_filter.get_group(320)\n",
    "df_filter2=df2.groupby('TP2')\n",
    "df2_x=df_filter2.get_group(133)"
   ]
  },
  {
   "cell_type": "code",
   "execution_count": 13,
   "metadata": {},
   "outputs": [],
   "source": [
    "df3=df_filter.get_group(133)\n",
    "df_filter3=df3.groupby('TP2')\n",
    "df3_x=df_filter3.get_group(320)"
   ]
  },
  {
   "cell_type": "markdown",
   "metadata": {},
   "source": [
    "if following code says \"sinr out of range\" thats because the sinr is just restricted up to 30 dB"
   ]
  },
  {
   "cell_type": "code",
   "execution_count": 14,
   "metadata": {},
   "outputs": [],
   "source": [
    "index=np.zeros([len(cluster),ue_nr])\n",
    "for i in np.arange(0,len(cluster)):\n",
    "    index[i,:]=np.arange(0,ue_nr)\n",
    "index=index.astype(int)\n",
    "\n",
    "size=4000 #size of each packet that arrives from a user [Bit]\n",
    "env=simpy.Environment()\n",
    "\n",
    "#ues are initialized \n",
    "ue_dict=eds.df_to_ue_lists(df,cluster,6,env) #ue_dict is dict with all users from the dataframe from the defined cluster\n",
    "\n",
    "# select only ue_nr of users from given index \n",
    "ue_per_pci,ue_all=eds.get_user_from_cluster(ue_dict,cluster,ue_nr,index)"
   ]
  },
  {
   "cell_type": "markdown",
   "metadata": {},
   "source": [
    "Calculate how many bit/ms mean that there is full load "
   ]
  },
  {
   "cell_type": "code",
   "execution_count": 15,
   "metadata": {},
   "outputs": [],
   "source": [
    "saver=np.array([])\n",
    "for i in ue_all:\n",
    "    saver=np.append(saver,i.tbs)\n",
    "prbNr_4000_bit_perUE=sum(np.ceil(4000/saver))"
   ]
  },
  {
   "cell_type": "code",
   "execution_count": 16,
   "metadata": {},
   "outputs": [
    {
     "name": "stdout",
     "output_type": "stream",
     "text": [
      "4.35 scheduling events to serve everyone\n",
      "between 8.0 ms and 10.0 ms ~ all UE can be served\n"
     ]
    }
   ],
   "source": [
    "print(prbNr_4000_bit_perUE/100,'scheduling events to serve everyone')\n",
    "print('between', 2*np.floor(prbNr_4000_bit_perUE/100),'ms and',2*np.ceil(prbNr_4000_bit_perUE/100),'ms ~ all UE can be served')"
   ]
  },
  {
   "cell_type": "markdown",
   "metadata": {},
   "source": [
    "Calculate prb number by relative capacities"
   ]
  },
  {
   "cell_type": "code",
   "execution_count": 6,
   "metadata": {},
   "outputs": [
    {
     "ename": "NameError",
     "evalue": "name 'ue_all' is not defined",
     "output_type": "error",
     "traceback": [
      "\u001b[1;31m---------------------------------------------------------------------------\u001b[0m",
      "\u001b[1;31mNameError\u001b[0m                                 Traceback (most recent call last)",
      "\u001b[1;32m<ipython-input-6-77427760158b>\u001b[0m in \u001b[0;36m<module>\u001b[1;34m\u001b[0m\n\u001b[0;32m      2\u001b[0m \u001b[0ma2\u001b[0m\u001b[1;33m=\u001b[0m\u001b[1;36m0\u001b[0m\u001b[1;33m\u001b[0m\u001b[1;33m\u001b[0m\u001b[0m\n\u001b[0;32m      3\u001b[0m \u001b[0msinr_max\u001b[0m\u001b[1;33m=\u001b[0m\u001b[1;36m0\u001b[0m\u001b[1;33m\u001b[0m\u001b[1;33m\u001b[0m\u001b[0m\n\u001b[1;32m----> 4\u001b[1;33m \u001b[1;32mfor\u001b[0m \u001b[0mi\u001b[0m \u001b[1;32min\u001b[0m \u001b[0mue_all\u001b[0m\u001b[1;33m:\u001b[0m\u001b[1;33m\u001b[0m\u001b[1;33m\u001b[0m\u001b[0m\n\u001b[0m\u001b[0;32m      5\u001b[0m     \u001b[1;32mif\u001b[0m\u001b[1;33m(\u001b[0m\u001b[0mi\u001b[0m\u001b[1;33m.\u001b[0m\u001b[0msinr2\u001b[0m\u001b[1;33m>\u001b[0m\u001b[0msinr_max\u001b[0m\u001b[1;33m)\u001b[0m\u001b[1;33m:\u001b[0m\u001b[1;33m\u001b[0m\u001b[1;33m\u001b[0m\u001b[0m\n\u001b[0;32m      6\u001b[0m         \u001b[0msinr_max\u001b[0m\u001b[1;33m=\u001b[0m\u001b[0mi\u001b[0m\u001b[1;33m.\u001b[0m\u001b[0msinr2\u001b[0m\u001b[1;33m\u001b[0m\u001b[1;33m\u001b[0m\u001b[0m\n",
      "\u001b[1;31mNameError\u001b[0m: name 'ue_all' is not defined"
     ]
    }
   ],
   "source": [
    "a1=0\n",
    "a2=0\n",
    "sinr_max=0\n",
    "for i in ue_all:\n",
    "    if(i.sinr2>sinr_max):\n",
    "        sinr_max=i.sinr2\n",
    "    elif(i.sinr>sinr_max):\n",
    "        sinr_max=i.sinr\n",
    "c_max=(np.log2(1+np.exp(sinr_max/10)))\n",
    "    \n",
    "for i in ue_all:\n",
    "    if(i.comp==1):\n",
    "        sinr=np.exp(i.sinr2/10)\n",
    "        a2+=c_max*2/(np.log2(1+sinr))\n",
    "    else:\n",
    "        sinr=np.exp(i.sinr/10)\n",
    "        a1+=c_max/(np.log2(1+sinr))\n",
    "a1/(a1+a2)\n",
    "a2/(a1+a2)"
   ]
  },
  {
   "cell_type": "code",
   "execution_count": 20,
   "metadata": {},
   "outputs": [],
   "source": [
    "prb_number_mode12=np.array([np.round((eds.calculate_prb_number(ue_all,max_prb)/max_prb)*100),a2/(a1+a2)])"
   ]
  },
  {
   "cell_type": "code",
   "execution_count": 35,
   "metadata": {},
   "outputs": [],
   "source": [
    "mu_range=np.arange(0,0.3,0.3/10)"
   ]
  },
  {
   "cell_type": "code",
   "execution_count": 36,
   "metadata": {},
   "outputs": [
    {
     "data": {
      "text/plain": [
       "array([0.  , 0.03, 0.06, 0.09, 0.12, 0.15, 0.18, 0.21, 0.24, 0.27])"
      ]
     },
     "execution_count": 36,
     "metadata": {},
     "output_type": "execute_result"
    }
   ],
   "source": [
    "mu_range"
   ]
  },
  {
   "cell_type": "code",
   "execution_count": 37,
   "metadata": {},
   "outputs": [],
   "source": [
    "mu_range=np.arange(0,1,1/40)\n",
    "mu_range=mu_range[1::]\n",
    "mu_range=1/mu_range"
   ]
  },
  {
   "cell_type": "code",
   "execution_count": 38,
   "metadata": {},
   "outputs": [
    {
     "data": {
      "text/plain": [
       "array([40.        , 20.        , 13.33333333, 10.        ,  8.        ,\n",
       "        6.66666667,  5.71428571,  5.        ,  4.44444444,  4.        ,\n",
       "        3.63636364,  3.33333333,  3.07692308,  2.85714286,  2.66666667,\n",
       "        2.5       ,  2.35294118,  2.22222222,  2.10526316,  2.        ,\n",
       "        1.9047619 ,  1.81818182,  1.73913043,  1.66666667,  1.6       ,\n",
       "        1.53846154,  1.48148148,  1.42857143,  1.37931034,  1.33333333,\n",
       "        1.29032258,  1.25      ,  1.21212121,  1.17647059,  1.14285714,\n",
       "        1.11111111,  1.08108108,  1.05263158,  1.02564103])"
      ]
     },
     "execution_count": 38,
     "metadata": {},
     "output_type": "execute_result"
    }
   ],
   "source": [
    "mu_range"
   ]
  },
  {
   "cell_type": "code",
   "execution_count": 13,
   "metadata": {},
   "outputs": [],
   "source": [
    "prb_number_comp={}\n",
    "prb_number_comp[320]=19\n",
    "prb_number_comp[133]=19"
   ]
  },
  {
   "cell_type": "markdown",
   "metadata": {},
   "source": [
    "#### Different PRB sizes-> Evaluation"
   ]
  },
  {
   "cell_type": "code",
   "execution_count": 18,
   "metadata": {},
   "outputs": [
    {
     "name": "stdout",
     "output_type": "stream",
     "text": [
      "1\n",
      "{133: 19, 320: 19}\n"
     ]
    },
    {
     "name": "stderr",
     "output_type": "stream",
     "text": [
      "C:\\Users\\Caroline Zoll\\EDS\\eventDrivenSimulation.py:291: RuntimeWarning: divide by zero encountered in double_scalars\n",
      "  metric=np.append(metric,((i.cp)**e1/(i.mR**e2)))\n",
      "C:\\Users\\Caroline Zoll\\EDS\\eventDrivenSimulation.py:321: RuntimeWarning: divide by zero encountered in double_scalars\n",
      "  metric=np.append(metric,((cp)**e1/(i.mR2)**e2))\n"
     ]
    },
    {
     "name": "stdout",
     "output_type": "stream",
     "text": [
      "3\n",
      "{133: 19, 320: 19}\n",
      "5\n",
      "{133: 19, 320: 19}\n",
      "7\n",
      "{133: 19, 320: 19}\n",
      "9\n",
      "{133: 19, 320: 19}\n"
     ]
    }
   ],
   "source": [
    "metric=[1,1]\n",
    "sched='pf'\n",
    "cluster=[133,320]\n",
    "x_res2=np.array([])\n",
    "cluster_nr=0\n",
    "#mu_range=np.arange(0,1,1/40)\n",
    "#mu_range=mu_range[2::]\n",
    "#mu_range=1/mu_range\n",
    "#mu_range=np.arange(0,1,1/20)\n",
    "#mu_range=mu_range[1::]\n",
    "mu_range=np.arange(1,10,2)\n",
    "prb_range=[19]\n",
    "#prb_range=np.arange(10,40,1)\n",
    "#prb_range=[17]\n",
    "fcomp={}\n",
    "fNocomp={}\n",
    "mean_rate_Gain_saver={}\n",
    "mean_rate_Gain={}\n",
    "noCoMP_rate_saver={}\n",
    "CoMP_rate_saver={}\n",
    "CoMP_rate={}\n",
    "Gain_saver={}\n",
    "noCoMP_rate={}\n",
    "load_dict={}\n",
    "Gain_std_max_min_10_90={}\n",
    "stat_dic={}\n",
    "results={}\n",
    "\n",
    "for prb_number in prb_range:\n",
    "    Gain_saver={}\n",
    "    stat_saver={}\n",
    "    prb_number_comp={}\n",
    "    load_list=np.array([])\n",
    "    fairness_Nocomp=np.array([])\n",
    "    fairness_comp=np.array([])\n",
    "    result_saver={}\n",
    "    for i in cluster:\n",
    "        prb_number_comp[i]=prb_number\n",
    "    for mu in mu_range:   \n",
    "        print(mu)\n",
    "        ue_noCoMP, ue_comp, ue_all, index=sm.run_simulation('deterministic',df,cluster,mu,ue_nr,6,max_prb,prb_number_comp,metric)\n",
    "        df_res=eds.ue_to_df(ue_all)\n",
    "        x=np.array((df_res['mR gain']-1)*100)\n",
    "        x_res2=np.append(x_res2,np.mean(x))\n",
    "        cluster_nr+=1\n",
    "\n",
    "        liste=np.array([])\n",
    "        m1=np.array([])\n",
    "        m2=np.array([])\n",
    "        comp=np.array([])\n",
    "        sinr=np.array([])\n",
    "        sinr2=np.array([])\n",
    "        result_2ndsaver={}\n",
    "        load=0\n",
    "        for i in ue_all:\n",
    "            liste=np.append(liste,((i.mR2/i.mR)-1)*100)\n",
    "            m1=np.append(m1,i.mR)\n",
    "            m2=np.append(m2,i.mR2)\n",
    "            load+=np.round(i.queue.level/4000)\n",
    "            comp=np.append(comp,i.comp)\n",
    "            sinr=np.append(sinr,i.sinr)\n",
    "            sinr2=np.append(sinr2,i.sinr2)\n",
    "        #print('mu=',mu)\n",
    "        #print('prb-nr=',prb_number)\n",
    "        #print(load)\n",
    "        \n",
    "        load_list=np.append(load_list,load)\n",
    "        Gain_saver_std_max_min_10_90=np.array([])\n",
    "        stat=np.array([])\n",
    "        Gain_saver_std_max_min_10_90=np.append(Gain_saver_std_max_min_10_90,np.mean(liste))\n",
    "        Gain_saver_std_max_min_10_90=np.append(Gain_saver_std_max_min_10_90,np.max(m2))    \n",
    "        Gain_saver_std_max_min_10_90=np.append(Gain_saver_std_max_min_10_90,np.min(m2))\n",
    "        Gain_saver_std_max_min_10_90=np.append(Gain_saver_std_max_min_10_90,np.max(m1))    \n",
    "        Gain_saver_std_max_min_10_90=np.append(Gain_saver_std_max_min_10_90,np.min(m1))\n",
    "        Gain_saver_std_max_min_10_90=np.append(Gain_saver_std_max_min_10_90,np.max(liste))    \n",
    "        Gain_saver_std_max_min_10_90=np.append(Gain_saver_std_max_min_10_90,np.min(liste))\n",
    "        #Gain_saver_std_max_min_10_90=np.append(Gain_saver_std_max_min_10_90,m2[np.argmax(liste)])\n",
    "        #Gain_saver_std_max_min_10_90=np.append(Gain_saver_std_max_min_10_90,m2[np.argmin(liste)])\n",
    "        Gain_saver_std_max_min_10_90=np.append(Gain_saver_std_max_min_10_90,comp[np.argmax(liste)])\n",
    "        Gain_saver_std_max_min_10_90=np.append(Gain_saver_std_max_min_10_90,comp[np.argmin(liste)])\n",
    "        stat=np.append(stat,np.std(liste))\n",
    "        stat=np.append(stat,np.quantile(liste,0.1))\n",
    "        stat=np.append(stat,np.quantile(liste,0.9))\n",
    "        stat_saver.update({mu:stat})\n",
    "        result_2ndsaver.update({\"m1\":m1})\n",
    "        result_2ndsaver.update({\"m2\":m2})\n",
    "        result_2ndsaver.update({\"gain\":liste})\n",
    "        result_2ndsaver.update({\"load\":load})\n",
    "        result_2ndsaver.update({\"comp\":comp})\n",
    "        result_2ndsaver.update({\"sinr\":sinr})\n",
    "        result_2ndsaver.update({\"sinr2\":sinr2})\n",
    "        \n",
    "        result_saver.update({mu:result_2ndsaver})\n",
    "        \n",
    "        mean_rate_Gain_saver.update({mu:liste.mean()})   \n",
    "        noCoMP_rate_saver.update({mu:m1.mean()})\n",
    "        CoMP_rate_saver.update({mu:m2.mean()})\n",
    "        Gain_saver.update({mu:Gain_saver_std_max_min_10_90})\n",
    "        #print(Gain_std_max_min_10_90)\n",
    "        x=sum(m1)**2/(sum(m1**2)*len(m1))\n",
    "        x2=sum(m2)**2/(sum(m2**2)*len(m2))\n",
    "        \n",
    "        fairness_Nocomp=np.append(fairness_Nocomp,x)\n",
    "        fairness_comp=np.append(fairness_comp,x2)\n",
    "   \n",
    "    l=np.array([])\n",
    "    l2=np.array([])\n",
    "    #for i in mu_range:\n",
    "        #x=speicher.get(i)\n",
    "        #l=np.append(l,x.mean())\n",
    "    load_dict.update({prb_number_comp[cluster[0]]:load_list})\n",
    "    Gain_std_max_min_10_90.update({prb_number_comp[cluster[0]]:Gain_saver})\n",
    "    mean_rate_Gain.update({prb_number_comp[cluster[0]]:list(mean_rate_Gain_saver.values())})\n",
    "    noCoMP_rate.update({prb_number_comp[cluster[0]]:list(noCoMP_rate_saver.values())})\n",
    "    CoMP_rate.update({prb_number_comp[cluster[0]]:list(CoMP_rate_saver.values())})\n",
    "    fNocomp.update({prb_number_comp[cluster[0]]:fairness_Nocomp})\n",
    "    fcomp.update({prb_number_comp[cluster[0]]:fairness_comp})\n",
    "    stat_dic.update({prb_number_comp[cluster[0]]:stat_saver})\n",
    "    results.update({prb_number_comp[cluster[0]]:result_saver})\n",
    "    "
   ]
  },
  {
   "cell_type": "code",
   "execution_count": 52,
   "metadata": {},
   "outputs": [],
   "source": [
    "#np.save('PRB_Simulation_133_320_2/Gain_std_max_min_10_90_pf.npy',Gain_std_max_min_10_90)\n",
    "#np.save('PRB_Simulation_133_320_2/stat_pf.npy',stat_dic)\n",
    "#np.save('PRB_Simulation_133_320_2/results_pf.npy',results)\n",
    "#np.save('PRB_Simulation_133_320_2/fainress_CoMP_pf.npy',fcomp)\n",
    "#np.save('PRB_Simulation_133_320_2/fainress_noCoMP_pf.npy',fNocomp)\n",
    "#np.save('PRB_Simulation_133_320_2/mean_rate_Gain_pf.npy',mean_rate_Gain)\n",
    "#np.save('PRB_Simulation_133_320_2/prb_range.npy',prb_range)\n",
    "#np.save('PRB_Simulation_133_320_2/mu_range.npy',mu_range)"
   ]
  },
  {
   "cell_type": "code",
   "execution_count": null,
   "metadata": {},
   "outputs": [],
   "source": [
    "#np.save('PRB_Simulation_133_320/Gain_std_max_min_10_90_pf.npy',Gain_std_max_min_10_90)\n",
    "#np.save('PRB_Simulation_133_320/stat_pf.npy',stat_dic)\n",
    "#np.save('PRB_Simulation_133_320/results_pf.npy',results)"
   ]
  },
  {
   "cell_type": "code",
   "execution_count": 20,
   "metadata": {},
   "outputs": [],
   "source": [
    "df=pd.read_csv('ue_data_pandas_ext')\n",
    "ue_nr=5\n",
    "max_prb=50"
   ]
  },
  {
   "cell_type": "code",
   "execution_count": 17,
   "metadata": {},
   "outputs": [
    {
     "ename": "TypeError",
     "evalue": "run_simulation() missing 1 required positional argument: 'sim_time'",
     "output_type": "error",
     "traceback": [
      "\u001b[1;31m---------------------------------------------------------------------------\u001b[0m",
      "\u001b[1;31mTypeError\u001b[0m                                 Traceback (most recent call last)",
      "\u001b[1;32m<ipython-input-17-d15e397c29f2>\u001b[0m in \u001b[0;36m<module>\u001b[1;34m\u001b[0m\n\u001b[0;32m     24\u001b[0m     \u001b[1;32mfor\u001b[0m \u001b[0mmu\u001b[0m \u001b[1;32min\u001b[0m \u001b[0mmu_range\u001b[0m\u001b[1;33m:\u001b[0m\u001b[1;33m\u001b[0m\u001b[1;33m\u001b[0m\u001b[0m\n\u001b[0;32m     25\u001b[0m         \u001b[0mue_dict_2\u001b[0m\u001b[1;33m=\u001b[0m\u001b[1;33m{\u001b[0m\u001b[1;33m}\u001b[0m\u001b[1;33m\u001b[0m\u001b[1;33m\u001b[0m\u001b[0m\n\u001b[1;32m---> 26\u001b[1;33m         \u001b[0mue_noCoMP\u001b[0m\u001b[1;33m,\u001b[0m \u001b[0mue_comp\u001b[0m\u001b[1;33m,\u001b[0m \u001b[0mue_all\u001b[0m\u001b[1;33m,\u001b[0m \u001b[0mindex\u001b[0m\u001b[1;33m=\u001b[0m\u001b[0msm\u001b[0m\u001b[1;33m.\u001b[0m\u001b[0mrun_simulation\u001b[0m\u001b[1;33m(\u001b[0m\u001b[1;34m'random'\u001b[0m\u001b[1;33m,\u001b[0m\u001b[0mdf\u001b[0m\u001b[1;33m,\u001b[0m\u001b[0mcluster\u001b[0m\u001b[1;33m,\u001b[0m\u001b[0mmu\u001b[0m\u001b[1;33m,\u001b[0m\u001b[0mue_nr\u001b[0m\u001b[1;33m,\u001b[0m\u001b[1;36m6\u001b[0m\u001b[1;33m,\u001b[0m\u001b[0mmax_prb\u001b[0m\u001b[1;33m,\u001b[0m\u001b[1;34m'calculate'\u001b[0m\u001b[1;33m,\u001b[0m\u001b[1;33m[\u001b[0m\u001b[1;36m1\u001b[0m\u001b[1;33m,\u001b[0m\u001b[1;36m1\u001b[0m\u001b[1;33m]\u001b[0m\u001b[1;33m,\u001b[0m\u001b[1;34m'A'\u001b[0m\u001b[1;33m)\u001b[0m\u001b[1;33m\u001b[0m\u001b[1;33m\u001b[0m\u001b[0m\n\u001b[0m\u001b[0;32m     27\u001b[0m         \u001b[0mdf_res\u001b[0m\u001b[1;33m=\u001b[0m\u001b[0meds\u001b[0m\u001b[1;33m.\u001b[0m\u001b[0mue_to_df\u001b[0m\u001b[1;33m(\u001b[0m\u001b[0mue_all\u001b[0m\u001b[1;33m)\u001b[0m\u001b[1;33m\u001b[0m\u001b[1;33m\u001b[0m\u001b[0m\n\u001b[0;32m     28\u001b[0m         \u001b[0mx\u001b[0m\u001b[1;33m=\u001b[0m\u001b[0mnp\u001b[0m\u001b[1;33m.\u001b[0m\u001b[0marray\u001b[0m\u001b[1;33m(\u001b[0m\u001b[1;33m(\u001b[0m\u001b[0mdf_res\u001b[0m\u001b[1;33m[\u001b[0m\u001b[1;34m'mR gain'\u001b[0m\u001b[1;33m]\u001b[0m\u001b[1;33m-\u001b[0m\u001b[1;36m1\u001b[0m\u001b[1;33m)\u001b[0m\u001b[1;33m*\u001b[0m\u001b[1;36m100\u001b[0m\u001b[1;33m)\u001b[0m\u001b[1;33m\u001b[0m\u001b[1;33m\u001b[0m\u001b[0m\n",
      "\u001b[1;31mTypeError\u001b[0m: run_simulation() missing 1 required positional argument: 'sim_time'"
     ]
    }
   ],
   "source": [
    "#cluster=[133,320]\n",
    "cluster=[133,320]\n",
    "x_res2=np.array([])\n",
    "cluster_nr=0\n",
    "mu_range=np.arange(1,15,1)\n",
    "fcomp={}\n",
    "fNocomp={}\n",
    "mean_rate_Gain_saver={}\n",
    "mean_rate_Gain={}\n",
    "noCoMP_rate_saver={}\n",
    "CoMP_rate_saver={}\n",
    "CoMP_rate={}\n",
    "noCoMP_rate={}\n",
    "saver=np.array([])\n",
    "load_saver=np.array([])\n",
    "ue_dict={}\n",
    "ut_dic={}\n",
    "\n",
    "for j in np.arange(1,50):\n",
    "    fairness_Nocomp=np.array([])\n",
    "    fairness_comp=np.array([])\n",
    "    load_list=np.array([])\n",
    "    ut_list=np.array([])\n",
    "    for mu in mu_range:\n",
    "        ue_dict_2={}\n",
    "        ue_noCoMP, ue_comp, ue_all, index=sm.run_simulation('random',df,cluster,mu,ue_nr,6,max_prb,'calculate',[1,1],'A',2000)\n",
    "        df_res=eds.ue_to_df(ue_all)\n",
    "        x=np.array((df_res['mR gain']-1)*100)\n",
    "        x_res2=np.append(x_res2,np.mean(x))\n",
    "        cluster_nr+=1\n",
    "\n",
    "        liste=np.array([])\n",
    "        m1=np.array([])\n",
    "        m2=np.array([])\n",
    "        load=0\n",
    "        ut=0\n",
    "        for i in ue_all:\n",
    "            liste=np.append(liste,((i.mR2/i.mR)-1)*100)\n",
    "            m1=np.append(m1,i.mR)\n",
    "            m2=np.append(m2,i.mR2)\n",
    "            load+=np.round(i.queue.level/4000)\n",
    "            ut+=i.utilization/1000\n",
    "            \n",
    "        ue_dict_2[mu]=ue_all\n",
    "        load_list=np.append(load_list,load)\n",
    "        ut_list=np.append(ut_list,ut)\n",
    "  \n",
    "        mean_rate_Gain_saver.update({mu:liste.mean()})   \n",
    "        noCoMP_rate_saver.update({mu:m1.mean()})\n",
    "        CoMP_rate_saver.update({mu:m2.mean()})\n",
    "        x=sum(m1)**2/(sum(m1**2)*len(m1))\n",
    "        x2=sum(m2)**2/(sum(m2**2)*len(m2))\n",
    "            \n",
    "        fairness_Nocomp=np.append(fairness_Nocomp,x)\n",
    "        fairness_comp=np.append(fairness_comp,x2)\n",
    "    ue_dict[j]=ue_dict_2\n",
    "        \n",
    "    k=1\n",
    "    full_load=0\n",
    "    load_list2=load_list-30\n",
    "    k=0\n",
    "    for i in load_list2:\n",
    "        if(i<0):\n",
    "            full_load_ind=k\n",
    "            print(k)\n",
    "            break\n",
    "        k+=1\n",
    "    load_saver=np.append(load_saver,full_load_ind)\n",
    "   \n",
    "    l=np.array([])\n",
    "    l2=np.array([])\n",
    "    #for i in mu_range:\n",
    "        #x=speicher.get(i)\n",
    "        #l=np.append(l,x.mean())\n",
    "    \n",
    "    mean_rate_Gain.update({j:list(mean_rate_Gain_saver.values())})\n",
    "    noCoMP_rate.update({j:list(noCoMP_rate_saver.values())})\n",
    "    CoMP_rate.update({j:list(CoMP_rate_saver.values())})\n",
    "    fNocomp.update({j:fairness_Nocomp})\n",
    "    fcomp.update({j:fairness_comp})\n",
    "    saver=np.append(saver,eds.calculate_prb_number_mode2(ue_all,cluster,max_prb,ue_nr)[320])\n",
    "    ut_dict.update({j:ut_list})"
   ]
  },
  {
   "cell_type": "code",
   "execution_count": 25,
   "metadata": {},
   "outputs": [],
   "source": [
    "result={}\n",
    "result['noCoMP_rate']=noCoMP_rate\n",
    "result['CoMP_rate']=CoMP_rate\n",
    "result['fcomp']=fcomp\n",
    "result['fNocomp']=fNocomp\n",
    "result['mean_rate_Gain']=mean_rate_Gain\n",
    "result['load_saver']=load_saver\n",
    "result['mu_range']=mu_range\n",
    "result['prb res']=saver\n",
    "np.save('50rounds/result-5UEs-SA.npy',result)"
   ]
  },
  {
   "cell_type": "code",
   "execution_count": 23,
   "metadata": {},
   "outputs": [
    {
     "data": {
      "text/plain": [
       "array([3., 3., 3., 2., 2., 2., 3., 3., 2., 3., 3., 3., 2., 2., 2., 3., 3.,\n",
       "       2., 2., 3., 3., 2., 4., 3., 2., 3., 3., 3., 3., 3., 2., 3., 4., 2.,\n",
       "       3., 3., 3., 3., 3., 3., 3., 3., 3., 2., 3., 3., 3., 4., 1.])"
      ]
     },
     "execution_count": 23,
     "metadata": {},
     "output_type": "execute_result"
    }
   ],
   "source": [
    "load_saver"
   ]
  },
  {
   "cell_type": "code",
   "execution_count": 24,
   "metadata": {},
   "outputs": [
    {
     "data": {
      "text/plain": [
       "2.7346938775510203"
      ]
     },
     "execution_count": 24,
     "metadata": {},
     "output_type": "execute_result"
    }
   ],
   "source": [
    "np.mean(load_saver)"
   ]
  }
 ],
 "metadata": {
  "kernelspec": {
   "display_name": "Python 3",
   "language": "python",
   "name": "python3"
  },
  "language_info": {
   "codemirror_mode": {
    "name": "ipython",
    "version": 3
   },
   "file_extension": ".py",
   "mimetype": "text/x-python",
   "name": "python",
   "nbconvert_exporter": "python",
   "pygments_lexer": "ipython3",
   "version": "3.8.5"
  },
  "latex_envs": {
   "LaTeX_envs_menu_present": true,
   "autoclose": false,
   "autocomplete": true,
   "bibliofile": "biblio.bib",
   "cite_by": "apalike",
   "current_citInitial": 1,
   "eqLabelWithNumbers": true,
   "eqNumInitial": 1,
   "hotkeys": {
    "equation": "Ctrl-E",
    "itemize": "Ctrl-I"
   },
   "labels_anchors": false,
   "latex_user_defs": false,
   "report_style_numbering": false,
   "user_envs_cfg": false
  }
 },
 "nbformat": 4,
 "nbformat_minor": 4
}
