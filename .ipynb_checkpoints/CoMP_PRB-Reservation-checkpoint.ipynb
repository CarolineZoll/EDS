{
 "cells": [
  {
   "cell_type": "code",
   "execution_count": 77,
   "metadata": {},
   "outputs": [],
   "source": [
    "import eventDrivenSimulation as eds\n",
    "import simpy\n",
    "import numpy as np\n",
    "import pandas as pd\n",
    "import scipy\n",
    "import matplotlib.pyplot as plt\n",
    "import show as sh\n",
    "import requests\n",
    "import folium\n",
    "import haversine\n",
    "import math\n",
    "import bibliothek as bib\n",
    "import random\n",
    "import simulation as sm\n",
    "import statistics"
   ]
  },
  {
   "cell_type": "markdown",
   "metadata": {},
   "source": [
    "## Data Generation"
   ]
  },
  {
   "cell_type": "code",
   "execution_count": 78,
   "metadata": {},
   "outputs": [],
   "source": [
    "CONFIG = {}\n",
    "\n",
    "CONFIG['LAT'] = 51.34053598409240\n",
    "CONFIG['LON'] = 12.381419774766130\n",
    "CONFIG['RADIUS'] = 500\n",
    "CONFIG['NUM_UES'] = 400\n",
    "CONFIG['URL'] = 'https://pqos-api-test.radiolab.dit.htwk-leipzig.de' "
   ]
  },
  {
   "cell_type": "code",
   "execution_count": 3,
   "metadata": {},
   "outputs": [
    {
     "ename": "KeyError",
     "evalue": "'ue_data'",
     "output_type": "error",
     "traceback": [
      "\u001b[1;31m---------------------------------------------------------------------------\u001b[0m",
      "\u001b[1;31mKeyError\u001b[0m                                  Traceback (most recent call last)",
      "\u001b[1;32m<ipython-input-3-020a897f6b7a>\u001b[0m in \u001b[0;36m<module>\u001b[1;34m\u001b[0m\n\u001b[0;32m      9\u001b[0m \u001b[1;33m\u001b[0m\u001b[0m\n\u001b[0;32m     10\u001b[0m \u001b[0mul_response_data\u001b[0m \u001b[1;33m=\u001b[0m \u001b[0mrequests\u001b[0m\u001b[1;33m.\u001b[0m\u001b[0mget\u001b[0m\u001b[1;33m(\u001b[0m\u001b[0mul_query_string\u001b[0m\u001b[1;33m)\u001b[0m\u001b[1;33m.\u001b[0m\u001b[0mjson\u001b[0m\u001b[1;33m(\u001b[0m\u001b[1;33m)\u001b[0m\u001b[1;33m\u001b[0m\u001b[1;33m\u001b[0m\u001b[0m\n\u001b[1;32m---> 11\u001b[1;33m \u001b[0mue_data\u001b[0m \u001b[1;33m=\u001b[0m \u001b[0mul_response_data\u001b[0m\u001b[1;33m[\u001b[0m\u001b[1;34m'ue_data'\u001b[0m\u001b[1;33m]\u001b[0m\u001b[1;33m\u001b[0m\u001b[1;33m\u001b[0m\u001b[0m\n\u001b[0m\u001b[0;32m     12\u001b[0m \u001b[0mcell_data\u001b[0m\u001b[1;33m=\u001b[0m\u001b[0mul_response_data\u001b[0m\u001b[1;33m[\u001b[0m\u001b[1;34m'cell_data'\u001b[0m\u001b[1;33m]\u001b[0m\u001b[1;33m\u001b[0m\u001b[1;33m\u001b[0m\u001b[0m\n\u001b[0;32m     13\u001b[0m \u001b[1;33m\u001b[0m\u001b[0m\n",
      "\u001b[1;31mKeyError\u001b[0m: 'ue_data'"
     ]
    }
   ],
   "source": [
    "ul_scenario_map = folium.Map(location = [CONFIG['LAT'], CONFIG['LON']], tiles = \"cartodbpositron\", zoom_start = 15)\n",
    "\n",
    "ul_query_string = CONFIG['URL'] + '/generate_scenario' + \\\n",
    "                                  '?lat=' + str(CONFIG['LAT']) + \\\n",
    "                                  '&lon=' + str(CONFIG['LON']) + \\\n",
    "                                  '&radius=' + str(CONFIG['RADIUS']) + \\\n",
    "                                  '&num_ues=' + str(CONFIG['NUM_UES']) + \\\n",
    "                                '&cell_type=NGMN3600'\n",
    "\n",
    "ul_response_data = requests.get(ul_query_string).json()\n",
    "ue_data = ul_response_data['ue_data']\n",
    "cell_data=ul_response_data['cell_data']\n",
    "\n",
    "eds.plot_map(CONFIG,cell_data)"
   ]
  },
  {
   "cell_type": "code",
   "execution_count": null,
   "metadata": {},
   "outputs": [],
   "source": [
    "df_cell = pd.DataFrame(cell_data)"
   ]
  },
  {
   "cell_type": "code",
   "execution_count": null,
   "metadata": {},
   "outputs": [],
   "source": [
    "sectors=df_cell['pci'].unique()"
   ]
  },
  {
   "cell_type": "code",
   "execution_count": null,
   "metadata": {},
   "outputs": [],
   "source": [
    "bs_dict={}\n",
    "for i in df_cell.index:\n",
    "    bs_dict.update({df_cell.loc[i]['pci']:[df_cell.loc[i]['lon'],df_cell.loc[i]['lat']]})"
   ]
  },
  {
   "cell_type": "code",
   "execution_count": null,
   "metadata": {},
   "outputs": [],
   "source": [
    "user_dataframe=pd.DataFrame()\n",
    "x=np.array([])\n",
    "for i in df_ue['id']:\n",
    "    dic=df_ue.loc[i]['cell_info']\n",
    "    powers={}\n",
    "    pos=df_ue.loc[i]['pos']\n",
    "    powers.update({'lat':pos[0]})\n",
    "    powers.update({'lon':pos[1]})\n",
    "    for i in dic:\n",
    "        powers.update({i['pci']:i['dl_rx_power']})\n",
    "    x=np.append(x,powers)\n",
    "user_dataframe = pd.DataFrame.from_records(x)"
   ]
  },
  {
   "cell_type": "markdown",
   "metadata": {},
   "source": [
    "## Preprocessing & CoMP Calculations"
   ]
  },
  {
   "cell_type": "markdown",
   "metadata": {},
   "source": [
    "Settings for the CoMP Calculations: \n",
    "* noise power = -104 dBm\n",
    "\n",
    "P=vector with receiving powers from all PCIs (N)\n",
    "\n",
    "**SINR without CoMP**: $\\frac{P_{0}}{P_{N}+P_{1:N}}$\n",
    "\n",
    "**SINR with CoMP (2 coord. PCIs)** : $\\frac{(\\sqrt{P_{0}}+\\sqrt{P_{1}})^2}{P_{N}+P_{2:N}}$"
   ]
  },
  {
   "cell_type": "code",
   "execution_count": null,
   "metadata": {},
   "outputs": [],
   "source": [
    "noise=np.power(10,-104/10) #https://www.sciencedirect.com/topics/engineering/noise-power -> 10MHz bandwidth (50PRBs)\n",
    "cluster=sectors #all the cells are put in one cluster"
   ]
  },
  {
   "cell_type": "code",
   "execution_count": null,
   "metadata": {},
   "outputs": [],
   "source": [
    "df=user_dataframe.copy()\n",
    "SINR_list=np.array([])\n",
    "SINRwithCoMP_list=np.array([])\n",
    "SINRwithCoMP_phaseshiftList=np.array([])\n",
    "tp_1_list=np.array([])\n",
    "tp_2_list=np.array([])\n",
    "for i in np.arange(0, len(df)):\n",
    "    P=df.loc[i,:][2:] #goes through file line by line and selects the line\n",
    "    P=np.power(10, P/10) # calculate the linear values for capacity calculations\n",
    "    P=P.sort_values(ascending=False) # sort values by their order\n",
    "    A=np.sqrt(P) #calculate the amplitude\n",
    "    index=P.index.values #Extract all index values \n",
    "    index=index.astype(np.int) #PCIen as integer\n",
    "    A=np.array(A)\n",
    "    P=np.array(P)\n",
    "    SINR= P[0]/(np.sum(P[1:])+noise)\n",
    "    SINRwithCoMP= np.power(np.sum(A[0:2]),2)/(np.sum(P[2:])+noise)\n",
    "    #phi=random.gauss(0, math.pi)\n",
    "    phi=random.gauss(0, math.pi/4)\n",
    "    SINRwithCoMP_phaseshift=10*np.log10((np.power(A[0]+A[1]*np.cos(phi),2)+np.power(A[1]*np.sin(phi),2))/(np.sum(P[2:])+noise))\n",
    "    \n",
    "    SINR_list=np.append(SINR_list,10*np.log10(SINR)) #appends the calculated elements\n",
    "    SINRwithCoMP_list=np.append(SINRwithCoMP_list,10*np.log10(SINRwithCoMP))\n",
    "    SINRwithCoMP_phaseshiftList=np.append(SINRwithCoMP_phaseshiftList,SINRwithCoMP_phaseshift)\n",
    "\n",
    "    tp_1_list=np.append(tp_1_list,index[0])\n",
    "    tp_2_list=np.append(tp_2_list,index[1])"
   ]
  },
  {
   "cell_type": "markdown",
   "metadata": {},
   "source": [
    "##### Building the dataframe"
   ]
  },
  {
   "cell_type": "code",
   "execution_count": null,
   "metadata": {},
   "outputs": [],
   "source": [
    "df['lat']=user_dataframe['lat']\n",
    "df['lon']=user_dataframe['lon']\n",
    "df['SINR [dB]']=SINR_list\n",
    "df['SINR-CoMP [dB]']=SINRwithCoMP_list\n",
    "df['SINR-CoMP with phaseshift [dB]']=SINRwithCoMP_phaseshiftList\n",
    "df['TP1']=tp_1_list.astype(int)\n",
    "df['TP2']=tp_2_list.astype(int)\n",
    "df['qos']=np.zeros(len(user_dataframe)) #not needed here -> all users are best effort -> 0\n",
    "df['id']=np.arange(0,len(user_dataframe))"
   ]
  },
  {
   "cell_type": "markdown",
   "metadata": {},
   "source": [
    "Read the existing data"
   ]
  },
  {
   "cell_type": "code",
   "execution_count": 99,
   "metadata": {},
   "outputs": [],
   "source": [
    "df=pd.read_csv('ue_data_pandas')"
   ]
  },
  {
   "cell_type": "markdown",
   "metadata": {},
   "source": [
    "#### Define general parameters for the simulation"
   ]
  },
  {
   "cell_type": "code",
   "execution_count": 100,
   "metadata": {},
   "outputs": [],
   "source": [
    "max_prb=50 #number of prbs defined by the system bandwidth\n",
    "ue_nr=15 #number of ues per pci\n",
    "metric=[1,1] #defines the exponents of the metric (standard metric is pf ->[1,1])"
   ]
  },
  {
   "cell_type": "markdown",
   "metadata": {},
   "source": [
    "#### Sort out PCIs that have less than ue_nr users -> edge of the Scenario"
   ]
  },
  {
   "cell_type": "code",
   "execution_count": 101,
   "metadata": {},
   "outputs": [
    {
     "data": {
      "text/plain": [
       "array([132, 133, 134, 318, 319, 320, 774, 775, 776], dtype=int64)"
      ]
     },
     "execution_count": 101,
     "metadata": {},
     "output_type": "execute_result"
    }
   ],
   "source": [
    "np.unique(df['TP1'])"
   ]
  },
  {
   "cell_type": "code",
   "execution_count": 102,
   "metadata": {},
   "outputs": [],
   "source": [
    "#check if the number of users (positions) for the serving pci is >10\n",
    "df_filter=df.groupby('TP1')\n",
    "count=0\n",
    "for i in df['TP1'].unique():\n",
    "    k=df_filter.get_group(i)\n",
    "    if(len(k)<ue_nr):\n",
    "        cluster=np.delete(cluster,count) #delete cells with less than 10 positions\n",
    "        df=df[df['TP1']!=i]\n",
    "    count+=1"
   ]
  },
  {
   "cell_type": "markdown",
   "metadata": {},
   "source": [
    "#### Define a cluster"
   ]
  },
  {
   "cell_type": "code",
   "execution_count": 103,
   "metadata": {},
   "outputs": [
    {
     "name": "stdout",
     "output_type": "stream",
     "text": [
      "pci options for cluster: [132 318 774 319 776 320 134 133 775]\n"
     ]
    }
   ],
   "source": [
    "sectors= np.array(df['TP1'].unique())\n",
    "print('pci options for cluster:',sectors)"
   ]
  },
  {
   "cell_type": "code",
   "execution_count": 104,
   "metadata": {},
   "outputs": [],
   "source": [
    "#cluster=[134,776,319]\n",
    "cluster=[320,133]\n",
    "#cluster=[775,133]\n",
    "#cluster=[319,775]\n",
    "#cluster=sectors\n",
    "#cluster=[133,775,319]"
   ]
  },
  {
   "cell_type": "code",
   "execution_count": 105,
   "metadata": {},
   "outputs": [],
   "source": [
    "for i in df.index:\n",
    "    rx_powers=df.iloc[i][3:-7]\n",
    "    "
   ]
  },
  {
   "cell_type": "code",
   "execution_count": 106,
   "metadata": {},
   "outputs": [],
   "source": [
    "rx_powers=df.iloc[i][3:-7]"
   ]
  },
  {
   "cell_type": "code",
   "execution_count": 107,
   "metadata": {},
   "outputs": [],
   "source": [
    "df_filter=df.groupby('TP1')"
   ]
  },
  {
   "cell_type": "code",
   "execution_count": 108,
   "metadata": {},
   "outputs": [],
   "source": [
    "df2=df_filter.get_group(320)\n",
    "df_filter2=df2.groupby('TP2')\n",
    "df2_x=df_filter2.get_group(133)"
   ]
  },
  {
   "cell_type": "code",
   "execution_count": 109,
   "metadata": {},
   "outputs": [
    {
     "data": {
      "text/html": [
       "<div>\n",
       "<style scoped>\n",
       "    .dataframe tbody tr th:only-of-type {\n",
       "        vertical-align: middle;\n",
       "    }\n",
       "\n",
       "    .dataframe tbody tr th {\n",
       "        vertical-align: top;\n",
       "    }\n",
       "\n",
       "    .dataframe thead th {\n",
       "        text-align: right;\n",
       "    }\n",
       "</style>\n",
       "<table border=\"1\" class=\"dataframe\">\n",
       "  <thead>\n",
       "    <tr style=\"text-align: right;\">\n",
       "      <th></th>\n",
       "      <th>Unnamed: 0</th>\n",
       "      <th>lat</th>\n",
       "      <th>lon</th>\n",
       "      <th>168</th>\n",
       "      <th>169</th>\n",
       "      <th>170</th>\n",
       "      <th>757</th>\n",
       "      <th>758</th>\n",
       "      <th>756</th>\n",
       "      <th>105</th>\n",
       "      <th>...</th>\n",
       "      <th>531</th>\n",
       "      <th>533</th>\n",
       "      <th>532</th>\n",
       "      <th>SINR [dB]</th>\n",
       "      <th>SINR-CoMP [dB]</th>\n",
       "      <th>SINR-CoMP with phaseshift [dB]</th>\n",
       "      <th>TP1</th>\n",
       "      <th>TP2</th>\n",
       "      <th>qos</th>\n",
       "      <th>id</th>\n",
       "    </tr>\n",
       "  </thead>\n",
       "  <tbody>\n",
       "    <tr>\n",
       "      <th>26</th>\n",
       "      <td>27</td>\n",
       "      <td>51.341979</td>\n",
       "      <td>12.378055</td>\n",
       "      <td>-137</td>\n",
       "      <td>-137</td>\n",
       "      <td>-107</td>\n",
       "      <td>-136</td>\n",
       "      <td>-146</td>\n",
       "      <td>-120</td>\n",
       "      <td>-120</td>\n",
       "      <td>...</td>\n",
       "      <td>-148</td>\n",
       "      <td>-151</td>\n",
       "      <td>-123</td>\n",
       "      <td>9.285440</td>\n",
       "      <td>16.307534</td>\n",
       "      <td>15.714920</td>\n",
       "      <td>320</td>\n",
       "      <td>133</td>\n",
       "      <td>0.0</td>\n",
       "      <td>27</td>\n",
       "    </tr>\n",
       "    <tr>\n",
       "      <th>246</th>\n",
       "      <td>249</td>\n",
       "      <td>51.341425</td>\n",
       "      <td>12.378810</td>\n",
       "      <td>-138</td>\n",
       "      <td>-138</td>\n",
       "      <td>-108</td>\n",
       "      <td>-136</td>\n",
       "      <td>-147</td>\n",
       "      <td>-122</td>\n",
       "      <td>-121</td>\n",
       "      <td>...</td>\n",
       "      <td>-146</td>\n",
       "      <td>-151</td>\n",
       "      <td>-122</td>\n",
       "      <td>4.795580</td>\n",
       "      <td>22.045521</td>\n",
       "      <td>21.735834</td>\n",
       "      <td>320</td>\n",
       "      <td>133</td>\n",
       "      <td>0.0</td>\n",
       "      <td>249</td>\n",
       "    </tr>\n",
       "    <tr>\n",
       "      <th>408</th>\n",
       "      <td>413</td>\n",
       "      <td>51.341541</td>\n",
       "      <td>12.378840</td>\n",
       "      <td>-138</td>\n",
       "      <td>-138</td>\n",
       "      <td>-108</td>\n",
       "      <td>-136</td>\n",
       "      <td>-147</td>\n",
       "      <td>-121</td>\n",
       "      <td>-120</td>\n",
       "      <td>...</td>\n",
       "      <td>-146</td>\n",
       "      <td>-151</td>\n",
       "      <td>-122</td>\n",
       "      <td>3.899428</td>\n",
       "      <td>24.551544</td>\n",
       "      <td>23.018550</td>\n",
       "      <td>320</td>\n",
       "      <td>133</td>\n",
       "      <td>0.0</td>\n",
       "      <td>413</td>\n",
       "    </tr>\n",
       "    <tr>\n",
       "      <th>529</th>\n",
       "      <td>535</td>\n",
       "      <td>51.341281</td>\n",
       "      <td>12.378690</td>\n",
       "      <td>-138</td>\n",
       "      <td>-138</td>\n",
       "      <td>-108</td>\n",
       "      <td>-135</td>\n",
       "      <td>-147</td>\n",
       "      <td>-122</td>\n",
       "      <td>-121</td>\n",
       "      <td>...</td>\n",
       "      <td>-146</td>\n",
       "      <td>-151</td>\n",
       "      <td>-123</td>\n",
       "      <td>5.150769</td>\n",
       "      <td>16.184750</td>\n",
       "      <td>15.017546</td>\n",
       "      <td>320</td>\n",
       "      <td>133</td>\n",
       "      <td>0.0</td>\n",
       "      <td>535</td>\n",
       "    </tr>\n",
       "    <tr>\n",
       "      <th>1097</th>\n",
       "      <td>1113</td>\n",
       "      <td>51.342196</td>\n",
       "      <td>12.378431</td>\n",
       "      <td>-138</td>\n",
       "      <td>-138</td>\n",
       "      <td>-108</td>\n",
       "      <td>-137</td>\n",
       "      <td>-147</td>\n",
       "      <td>-120</td>\n",
       "      <td>-119</td>\n",
       "      <td>...</td>\n",
       "      <td>-148</td>\n",
       "      <td>-151</td>\n",
       "      <td>-122</td>\n",
       "      <td>0.111216</td>\n",
       "      <td>9.715491</td>\n",
       "      <td>9.232262</td>\n",
       "      <td>320</td>\n",
       "      <td>133</td>\n",
       "      <td>0.0</td>\n",
       "      <td>1113</td>\n",
       "    </tr>\n",
       "    <tr>\n",
       "      <th>1280</th>\n",
       "      <td>1300</td>\n",
       "      <td>51.341267</td>\n",
       "      <td>12.378783</td>\n",
       "      <td>-138</td>\n",
       "      <td>-138</td>\n",
       "      <td>-108</td>\n",
       "      <td>-135</td>\n",
       "      <td>-147</td>\n",
       "      <td>-122</td>\n",
       "      <td>-121</td>\n",
       "      <td>...</td>\n",
       "      <td>-146</td>\n",
       "      <td>-151</td>\n",
       "      <td>-123</td>\n",
       "      <td>4.275954</td>\n",
       "      <td>16.288649</td>\n",
       "      <td>15.642962</td>\n",
       "      <td>320</td>\n",
       "      <td>133</td>\n",
       "      <td>0.0</td>\n",
       "      <td>1300</td>\n",
       "    </tr>\n",
       "    <tr>\n",
       "      <th>1294</th>\n",
       "      <td>1314</td>\n",
       "      <td>51.341817</td>\n",
       "      <td>12.378394</td>\n",
       "      <td>-138</td>\n",
       "      <td>-138</td>\n",
       "      <td>-108</td>\n",
       "      <td>-136</td>\n",
       "      <td>-147</td>\n",
       "      <td>-121</td>\n",
       "      <td>-120</td>\n",
       "      <td>...</td>\n",
       "      <td>-147</td>\n",
       "      <td>-151</td>\n",
       "      <td>-122</td>\n",
       "      <td>8.711501</td>\n",
       "      <td>23.268948</td>\n",
       "      <td>23.236568</td>\n",
       "      <td>320</td>\n",
       "      <td>133</td>\n",
       "      <td>0.0</td>\n",
       "      <td>1314</td>\n",
       "    </tr>\n",
       "    <tr>\n",
       "      <th>1381</th>\n",
       "      <td>1402</td>\n",
       "      <td>51.341489</td>\n",
       "      <td>12.378141</td>\n",
       "      <td>-137</td>\n",
       "      <td>-137</td>\n",
       "      <td>-107</td>\n",
       "      <td>-135</td>\n",
       "      <td>-147</td>\n",
       "      <td>-121</td>\n",
       "      <td>-121</td>\n",
       "      <td>...</td>\n",
       "      <td>-147</td>\n",
       "      <td>-151</td>\n",
       "      <td>-123</td>\n",
       "      <td>19.573674</td>\n",
       "      <td>25.844545</td>\n",
       "      <td>25.821209</td>\n",
       "      <td>320</td>\n",
       "      <td>133</td>\n",
       "      <td>0.0</td>\n",
       "      <td>1402</td>\n",
       "    </tr>\n",
       "  </tbody>\n",
       "</table>\n",
       "<p>8 rows × 54 columns</p>\n",
       "</div>"
      ],
      "text/plain": [
       "      Unnamed: 0        lat        lon  168  169  170  757  758  756  105  \\\n",
       "26            27  51.341979  12.378055 -137 -137 -107 -136 -146 -120 -120   \n",
       "246          249  51.341425  12.378810 -138 -138 -108 -136 -147 -122 -121   \n",
       "408          413  51.341541  12.378840 -138 -138 -108 -136 -147 -121 -120   \n",
       "529          535  51.341281  12.378690 -138 -138 -108 -135 -147 -122 -121   \n",
       "1097        1113  51.342196  12.378431 -138 -138 -108 -137 -147 -120 -119   \n",
       "1280        1300  51.341267  12.378783 -138 -138 -108 -135 -147 -122 -121   \n",
       "1294        1314  51.341817  12.378394 -138 -138 -108 -136 -147 -121 -120   \n",
       "1381        1402  51.341489  12.378141 -137 -137 -107 -135 -147 -121 -121   \n",
       "\n",
       "      ...  531  533  532  SINR [dB]  SINR-CoMP [dB]  \\\n",
       "26    ... -148 -151 -123   9.285440       16.307534   \n",
       "246   ... -146 -151 -122   4.795580       22.045521   \n",
       "408   ... -146 -151 -122   3.899428       24.551544   \n",
       "529   ... -146 -151 -123   5.150769       16.184750   \n",
       "1097  ... -148 -151 -122   0.111216        9.715491   \n",
       "1280  ... -146 -151 -123   4.275954       16.288649   \n",
       "1294  ... -147 -151 -122   8.711501       23.268948   \n",
       "1381  ... -147 -151 -123  19.573674       25.844545   \n",
       "\n",
       "      SINR-CoMP with phaseshift [dB]  TP1  TP2  qos    id  \n",
       "26                         15.714920  320  133  0.0    27  \n",
       "246                        21.735834  320  133  0.0   249  \n",
       "408                        23.018550  320  133  0.0   413  \n",
       "529                        15.017546  320  133  0.0   535  \n",
       "1097                        9.232262  320  133  0.0  1113  \n",
       "1280                       15.642962  320  133  0.0  1300  \n",
       "1294                       23.236568  320  133  0.0  1314  \n",
       "1381                       25.821209  320  133  0.0  1402  \n",
       "\n",
       "[8 rows x 54 columns]"
      ]
     },
     "execution_count": 109,
     "metadata": {},
     "output_type": "execute_result"
    }
   ],
   "source": [
    "df2_x"
   ]
  },
  {
   "cell_type": "code",
   "execution_count": 110,
   "metadata": {},
   "outputs": [],
   "source": [
    "df3=df_filter.get_group(133)\n",
    "df_filter3=df3.groupby('TP2')\n",
    "df3_x=df_filter3.get_group(320)"
   ]
  },
  {
   "cell_type": "code",
   "execution_count": 111,
   "metadata": {},
   "outputs": [
    {
     "data": {
      "text/plain": [
       "0.4"
      ]
     },
     "execution_count": 111,
     "metadata": {},
     "output_type": "execute_result"
    }
   ],
   "source": [
    "len(df2_x[df2_x['SINR-CoMP [dB]']-df2_x['SINR [dB]']>6])/len(df2)"
   ]
  },
  {
   "cell_type": "code",
   "execution_count": 112,
   "metadata": {},
   "outputs": [
    {
     "data": {
      "text/plain": [
       "0.5606060606060606"
      ]
     },
     "execution_count": 112,
     "metadata": {},
     "output_type": "execute_result"
    }
   ],
   "source": [
    "len(df3_x[df3_x['SINR-CoMP [dB]']-df3_x['SINR [dB]']>6])/len(df3)"
   ]
  },
  {
   "cell_type": "markdown",
   "metadata": {},
   "source": [
    "if following code says \"sinr out of range\" thats because the sinr is just restricted up to 30 dB"
   ]
  },
  {
   "cell_type": "code",
   "execution_count": 113,
   "metadata": {},
   "outputs": [],
   "source": [
    "index=np.zeros([len(cluster),ue_nr])\n",
    "for i in np.arange(0,len(cluster)):\n",
    "    index[i,:]=np.arange(0,ue_nr)\n",
    "index=index.astype(int)\n",
    "\n",
    "size=4000 #size of each packet that arrives from a user [Bit]\n",
    "env=simpy.Environment()\n",
    "\n",
    "#ues are initialized \n",
    "ue_dict=eds.df_to_ue_lists(df,cluster,6,env) #ue_dict is dict with all users from the dataframe from the defined cluster\n",
    "\n",
    "# select only ue_nr of users from given index \n",
    "ue_per_pci,ue_all=eds.get_user_from_cluster(ue_dict,cluster,ue_nr,index)"
   ]
  },
  {
   "cell_type": "markdown",
   "metadata": {},
   "source": [
    "Calculate how many bit/ms mean that there is full load "
   ]
  },
  {
   "cell_type": "code",
   "execution_count": 114,
   "metadata": {},
   "outputs": [],
   "source": [
    "saver=np.array([])\n",
    "for i in ue_all:\n",
    "    saver=np.append(saver,i.tbs)\n",
    "prbNr_4000_bit_perUE=sum(np.ceil(4000/saver))"
   ]
  },
  {
   "cell_type": "code",
   "execution_count": 115,
   "metadata": {},
   "outputs": [
    {
     "name": "stdout",
     "output_type": "stream",
     "text": [
      "4.35 scheduling events to serve everyone\n",
      "between 8.0 ms and 10.0 ms ~ all UE can be served\n"
     ]
    }
   ],
   "source": [
    "print(prbNr_4000_bit_perUE/100,'scheduling events to serve everyone')\n",
    "print('between', 2*np.floor(prbNr_4000_bit_perUE/100),'ms and',2*np.ceil(prbNr_4000_bit_perUE/100),'ms ~ all UE can be served')"
   ]
  },
  {
   "cell_type": "markdown",
   "metadata": {},
   "source": [
    "Calculate prb number by relative capacities"
   ]
  },
  {
   "cell_type": "code",
   "execution_count": 116,
   "metadata": {},
   "outputs": [
    {
     "data": {
      "text/plain": [
       "0.3880091503126787"
      ]
     },
     "execution_count": 116,
     "metadata": {},
     "output_type": "execute_result"
    }
   ],
   "source": [
    "a1=0\n",
    "a2=0\n",
    "sinr_max=0\n",
    "for i in ue_all:\n",
    "    if(i.sinr2>sinr_max):\n",
    "        sinr_max=i.sinr2\n",
    "    elif(i.sinr>sinr_max):\n",
    "        sinr_max=i.sinr\n",
    "c_max=(np.log2(1+np.exp(sinr_max/10)))\n",
    "    \n",
    "for i in ue_all:\n",
    "    if(i.comp==1):\n",
    "        sinr=np.exp(i.sinr2/10)\n",
    "        a2+=c_max*2/(np.log2(1+sinr))\n",
    "    else:\n",
    "        sinr=np.exp(i.sinr/10)\n",
    "        a1+=c_max/(np.log2(1+sinr))\n",
    "a1/(a1+a2)\n",
    "a2/(a1+a2)"
   ]
  },
  {
   "cell_type": "code",
   "execution_count": 117,
   "metadata": {},
   "outputs": [],
   "source": [
    "prb_number_mode12=np.array([np.round((eds.calculate_prb_number(ue_all,max_prb)/max_prb)*100),a2/(a1+a2)])"
   ]
  },
  {
   "cell_type": "markdown",
   "metadata": {},
   "source": [
    "#### Different PRB sizes-> Evaluation"
   ]
  },
  {
   "cell_type": "code",
   "execution_count": 169,
   "metadata": {},
   "outputs": [
    {
     "name": "stderr",
     "output_type": "stream",
     "text": [
      "C:\\Users\\Caroline Zoll\\EDS\\eventDrivenSimulation.py:284: RuntimeWarning: divide by zero encountered in double_scalars\n",
      "  metric=np.append(metric,((i.cp)**e1/(i.mR**e2)))\n",
      "C:\\Users\\Caroline Zoll\\EDS\\eventDrivenSimulation.py:314: RuntimeWarning: divide by zero encountered in double_scalars\n",
      "  metric=np.append(metric,((cp)**e1/(i.mR2)**e2))\n"
     ]
    },
    {
     "ename": "KeyboardInterrupt",
     "evalue": "",
     "output_type": "error",
     "traceback": [
      "\u001b[1;31m---------------------------------------------------------------------------\u001b[0m",
      "\u001b[1;31mKeyboardInterrupt\u001b[0m                         Traceback (most recent call last)",
      "\u001b[1;32m~\\EDS\\eventDrivenSimulation.py\u001b[0m in \u001b[0;36mscheduler\u001b[1;34m(self, env, users, SCHEDULE_T, cluster, prb_number, users2, prb_number2, sched_metric)\u001b[0m\n\u001b[0;32m    485\u001b[0m                     \u001b[0mue_re\u001b[0m\u001b[1;33m=\u001b[0m\u001b[0mnp\u001b[0m\u001b[1;33m.\u001b[0m\u001b[0mappend\u001b[0m\u001b[1;33m(\u001b[0m\u001b[0mue_re\u001b[0m\u001b[1;33m,\u001b[0m\u001b[0mi\u001b[0m\u001b[1;33m.\u001b[0m\u001b[0mqueue\u001b[0m\u001b[1;33m.\u001b[0m\u001b[0mlevel\u001b[0m\u001b[1;33m/\u001b[0m\u001b[0mi\u001b[0m\u001b[1;33m.\u001b[0m\u001b[0mtbs\u001b[0m\u001b[1;33m)\u001b[0m\u001b[1;33m\u001b[0m\u001b[1;33m\u001b[0m\u001b[0m\n\u001b[1;32m--> 486\u001b[1;33m                 \u001b[0mself\u001b[0m\u001b[1;33m.\u001b[0m\u001b[0mrem_req\u001b[0m\u001b[1;33m=\u001b[0m\u001b[0mmonitor\u001b[0m\u001b[1;33m(\u001b[0m\u001b[0msum\u001b[0m\u001b[1;33m(\u001b[0m\u001b[0mue_re\u001b[0m\u001b[1;33m)\u001b[0m\u001b[1;33m,\u001b[0m\u001b[0mself\u001b[0m\u001b[1;33m.\u001b[0m\u001b[0mrem_req\u001b[0m\u001b[1;33m,\u001b[0m\u001b[0menv\u001b[0m\u001b[1;33m)\u001b[0m\u001b[1;33m\u001b[0m\u001b[1;33m\u001b[0m\u001b[0m\n\u001b[0m\u001b[0;32m    487\u001b[0m                 \u001b[0mk\u001b[0m\u001b[1;33m=\u001b[0m\u001b[0mk\u001b[0m\u001b[1;33m+\u001b[0m\u001b[1;36m1\u001b[0m\u001b[1;33m\u001b[0m\u001b[1;33m\u001b[0m\u001b[0m\n",
      "\u001b[1;32m~\\EDS\\eventDrivenSimulation.py\u001b[0m in \u001b[0;36mmetric_list_C\u001b[1;34m(self, users, sched_exp, counter, usage)\u001b[0m\n\u001b[0;32m    313\u001b[0m                 \u001b[0mcp\u001b[0m\u001b[1;33m=\u001b[0m\u001b[0mi\u001b[0m\u001b[1;33m.\u001b[0m\u001b[0mcp2\u001b[0m\u001b[1;33m\u001b[0m\u001b[1;33m\u001b[0m\u001b[0m\n\u001b[1;32m--> 314\u001b[1;33m \u001b[1;33m\u001b[0m\u001b[0m\n\u001b[0m\u001b[0;32m    315\u001b[0m             \u001b[1;32mif\u001b[0m\u001b[1;33m(\u001b[0m\u001b[0mi\u001b[0m\u001b[1;33m.\u001b[0m\u001b[0mqos\u001b[0m\u001b[1;33m==\u001b[0m\u001b[1;36m1\u001b[0m \u001b[1;32mor\u001b[0m \u001b[0mi\u001b[0m\u001b[1;33m.\u001b[0m\u001b[0mqos\u001b[0m\u001b[1;33m==\u001b[0m\u001b[1;36m2\u001b[0m\u001b[1;33m)\u001b[0m\u001b[1;33m:\u001b[0m\u001b[1;33m\u001b[0m\u001b[1;33m\u001b[0m\u001b[0m\n",
      "\u001b[1;32m<__array_function__ internals>\u001b[0m in \u001b[0;36mappend\u001b[1;34m(*args, **kwargs)\u001b[0m\n",
      "\u001b[1;32m~\\anaconda3\\lib\\site-packages\\numpy\\lib\\function_base.py\u001b[0m in \u001b[0;36mappend\u001b[1;34m(arr, values, axis)\u001b[0m\n\u001b[0;32m   4670\u001b[0m         \u001b[0maxis\u001b[0m \u001b[1;33m=\u001b[0m \u001b[0marr\u001b[0m\u001b[1;33m.\u001b[0m\u001b[0mndim\u001b[0m\u001b[1;33m-\u001b[0m\u001b[1;36m1\u001b[0m\u001b[1;33m\u001b[0m\u001b[1;33m\u001b[0m\u001b[0m\n\u001b[1;32m-> 4671\u001b[1;33m     \u001b[1;32mreturn\u001b[0m \u001b[0mconcatenate\u001b[0m\u001b[1;33m(\u001b[0m\u001b[1;33m(\u001b[0m\u001b[0marr\u001b[0m\u001b[1;33m,\u001b[0m \u001b[0mvalues\u001b[0m\u001b[1;33m)\u001b[0m\u001b[1;33m,\u001b[0m \u001b[0maxis\u001b[0m\u001b[1;33m=\u001b[0m\u001b[0maxis\u001b[0m\u001b[1;33m)\u001b[0m\u001b[1;33m\u001b[0m\u001b[1;33m\u001b[0m\u001b[0m\n\u001b[0m\u001b[0;32m   4672\u001b[0m \u001b[1;33m\u001b[0m\u001b[0m\n",
      "\u001b[1;32m<__array_function__ internals>\u001b[0m in \u001b[0;36mconcatenate\u001b[1;34m(*args, **kwargs)\u001b[0m\n",
      "\u001b[1;31mKeyboardInterrupt\u001b[0m: ",
      "\nThe above exception was the direct cause of the following exception:\n",
      "\u001b[1;31mKeyboardInterrupt\u001b[0m                         Traceback (most recent call last)",
      "\u001b[1;32m<ipython-input-169-4c41f92b23c2>\u001b[0m in \u001b[0;36m<module>\u001b[1;34m\u001b[0m\n\u001b[0;32m     31\u001b[0m         \u001b[0mprb_number_comp\u001b[0m\u001b[1;33m[\u001b[0m\u001b[0mi\u001b[0m\u001b[1;33m]\u001b[0m\u001b[1;33m=\u001b[0m\u001b[0mprb_number\u001b[0m\u001b[1;33m\u001b[0m\u001b[1;33m\u001b[0m\u001b[0m\n\u001b[0;32m     32\u001b[0m     \u001b[1;32mfor\u001b[0m \u001b[0mmu\u001b[0m \u001b[1;32min\u001b[0m \u001b[0mmu_range\u001b[0m\u001b[1;33m:\u001b[0m\u001b[1;33m\u001b[0m\u001b[1;33m\u001b[0m\u001b[0m\n\u001b[1;32m---> 33\u001b[1;33m         \u001b[0mue_noCoMP\u001b[0m\u001b[1;33m,\u001b[0m \u001b[0mue_comp\u001b[0m\u001b[1;33m,\u001b[0m \u001b[0mue_all\u001b[0m\u001b[1;33m,\u001b[0m \u001b[0mindex\u001b[0m\u001b[1;33m=\u001b[0m\u001b[0msm\u001b[0m\u001b[1;33m.\u001b[0m\u001b[0mrun_simulation\u001b[0m\u001b[1;33m(\u001b[0m\u001b[1;34m'deterministic'\u001b[0m\u001b[1;33m,\u001b[0m\u001b[0mdf\u001b[0m\u001b[1;33m,\u001b[0m\u001b[0mcluster\u001b[0m\u001b[1;33m,\u001b[0m\u001b[0mmu\u001b[0m\u001b[1;33m,\u001b[0m\u001b[0mue_nr\u001b[0m\u001b[1;33m,\u001b[0m\u001b[1;36m6\u001b[0m\u001b[1;33m,\u001b[0m\u001b[0mmax_prb\u001b[0m\u001b[1;33m,\u001b[0m\u001b[0mprb_number_comp\u001b[0m\u001b[1;33m,\u001b[0m\u001b[0mmetric\u001b[0m\u001b[1;33m)\u001b[0m\u001b[1;33m\u001b[0m\u001b[1;33m\u001b[0m\u001b[0m\n\u001b[0m\u001b[0;32m     34\u001b[0m         \u001b[0mdf_res\u001b[0m\u001b[1;33m=\u001b[0m\u001b[0meds\u001b[0m\u001b[1;33m.\u001b[0m\u001b[0mue_to_df\u001b[0m\u001b[1;33m(\u001b[0m\u001b[0mue_all\u001b[0m\u001b[1;33m)\u001b[0m\u001b[1;33m\u001b[0m\u001b[1;33m\u001b[0m\u001b[0m\n\u001b[0;32m     35\u001b[0m         \u001b[0mx\u001b[0m\u001b[1;33m=\u001b[0m\u001b[0mnp\u001b[0m\u001b[1;33m.\u001b[0m\u001b[0marray\u001b[0m\u001b[1;33m(\u001b[0m\u001b[1;33m(\u001b[0m\u001b[0mdf_res\u001b[0m\u001b[1;33m[\u001b[0m\u001b[1;34m'mR gain'\u001b[0m\u001b[1;33m]\u001b[0m\u001b[1;33m-\u001b[0m\u001b[1;36m1\u001b[0m\u001b[1;33m)\u001b[0m\u001b[1;33m*\u001b[0m\u001b[1;36m100\u001b[0m\u001b[1;33m)\u001b[0m\u001b[1;33m\u001b[0m\u001b[1;33m\u001b[0m\u001b[0m\n",
      "\u001b[1;32m~\\EDS\\simulation.py\u001b[0m in \u001b[0;36mrun_simulation\u001b[1;34m(mode, df, cluster, mu, ue_nr, thr, max_prb, prb_number_comp, metric)\u001b[0m\n\u001b[0;32m     45\u001b[0m         \u001b[0mcounter\u001b[0m\u001b[1;33m=\u001b[0m\u001b[0mcounter\u001b[0m\u001b[1;33m+\u001b[0m\u001b[1;36m1\u001b[0m\u001b[1;33m\u001b[0m\u001b[1;33m\u001b[0m\u001b[0m\n\u001b[0;32m     46\u001b[0m     \u001b[0mtimer\u001b[0m\u001b[1;33m=\u001b[0m\u001b[1;36m2000\u001b[0m\u001b[1;33m\u001b[0m\u001b[1;33m\u001b[0m\u001b[0m\n\u001b[1;32m---> 47\u001b[1;33m     \u001b[0menv\u001b[0m\u001b[1;33m.\u001b[0m\u001b[0mrun\u001b[0m\u001b[1;33m(\u001b[0m\u001b[0muntil\u001b[0m\u001b[1;33m=\u001b[0m\u001b[0mtimer\u001b[0m\u001b[1;33m)\u001b[0m\u001b[1;33m\u001b[0m\u001b[1;33m\u001b[0m\u001b[0m\n\u001b[0m\u001b[0;32m     48\u001b[0m     \u001b[1;32mreturn\u001b[0m \u001b[0mue_noCoMP\u001b[0m\u001b[1;33m,\u001b[0m \u001b[0mue_comp\u001b[0m\u001b[1;33m,\u001b[0m \u001b[0mue_all\u001b[0m\u001b[1;33m,\u001b[0m\u001b[0mindex\u001b[0m\u001b[1;33m\u001b[0m\u001b[1;33m\u001b[0m\u001b[0m\n\u001b[0;32m     49\u001b[0m \u001b[1;33m\u001b[0m\u001b[0m\n",
      "\u001b[1;32m~\\anaconda3\\lib\\site-packages\\simpy\\core.py\u001b[0m in \u001b[0;36mrun\u001b[1;34m(self, until)\u001b[0m\n\u001b[0;32m    252\u001b[0m         \u001b[1;32mtry\u001b[0m\u001b[1;33m:\u001b[0m\u001b[1;33m\u001b[0m\u001b[1;33m\u001b[0m\u001b[0m\n\u001b[0;32m    253\u001b[0m             \u001b[1;32mwhile\u001b[0m \u001b[1;32mTrue\u001b[0m\u001b[1;33m:\u001b[0m\u001b[1;33m\u001b[0m\u001b[1;33m\u001b[0m\u001b[0m\n\u001b[1;32m--> 254\u001b[1;33m                 \u001b[0mself\u001b[0m\u001b[1;33m.\u001b[0m\u001b[0mstep\u001b[0m\u001b[1;33m(\u001b[0m\u001b[1;33m)\u001b[0m\u001b[1;33m\u001b[0m\u001b[1;33m\u001b[0m\u001b[0m\n\u001b[0m\u001b[0;32m    255\u001b[0m         \u001b[1;32mexcept\u001b[0m \u001b[0mStopSimulation\u001b[0m \u001b[1;32mas\u001b[0m \u001b[0mexc\u001b[0m\u001b[1;33m:\u001b[0m\u001b[1;33m\u001b[0m\u001b[1;33m\u001b[0m\u001b[0m\n\u001b[0;32m    256\u001b[0m             \u001b[1;32mreturn\u001b[0m \u001b[0mexc\u001b[0m\u001b[1;33m.\u001b[0m\u001b[0margs\u001b[0m\u001b[1;33m[\u001b[0m\u001b[1;36m0\u001b[0m\u001b[1;33m]\u001b[0m  \u001b[1;31m# == until.value\u001b[0m\u001b[1;33m\u001b[0m\u001b[1;33m\u001b[0m\u001b[0m\n",
      "\u001b[1;32m~\\anaconda3\\lib\\site-packages\\simpy\\core.py\u001b[0m in \u001b[0;36mstep\u001b[1;34m(self)\u001b[0m\n\u001b[0;32m    204\u001b[0m             \u001b[0mexc\u001b[0m \u001b[1;33m=\u001b[0m \u001b[0mtype\u001b[0m\u001b[1;33m(\u001b[0m\u001b[0mevent\u001b[0m\u001b[1;33m.\u001b[0m\u001b[0m_value\u001b[0m\u001b[1;33m)\u001b[0m\u001b[1;33m(\u001b[0m\u001b[1;33m*\u001b[0m\u001b[0mevent\u001b[0m\u001b[1;33m.\u001b[0m\u001b[0m_value\u001b[0m\u001b[1;33m.\u001b[0m\u001b[0margs\u001b[0m\u001b[1;33m)\u001b[0m\u001b[1;33m\u001b[0m\u001b[1;33m\u001b[0m\u001b[0m\n\u001b[0;32m    205\u001b[0m             \u001b[0mexc\u001b[0m\u001b[1;33m.\u001b[0m\u001b[0m__cause__\u001b[0m \u001b[1;33m=\u001b[0m \u001b[0mevent\u001b[0m\u001b[1;33m.\u001b[0m\u001b[0m_value\u001b[0m\u001b[1;33m\u001b[0m\u001b[1;33m\u001b[0m\u001b[0m\n\u001b[1;32m--> 206\u001b[1;33m             \u001b[1;32mraise\u001b[0m \u001b[0mexc\u001b[0m\u001b[1;33m\u001b[0m\u001b[1;33m\u001b[0m\u001b[0m\n\u001b[0m\u001b[0;32m    207\u001b[0m \u001b[1;33m\u001b[0m\u001b[0m\n\u001b[0;32m    208\u001b[0m     def run(\n",
      "\u001b[1;31mKeyboardInterrupt\u001b[0m: "
     ]
    }
   ],
   "source": [
    "metric=[1,2]\n",
    "cluster=[133,320]\n",
    "x_res2=np.array([])\n",
    "cluster_nr=0\n",
    "mu_range=np.arange(1,20,1)\n",
    "prb_range=np.arange(10,40,1)\n",
    "#prb_range=[17]\n",
    "fcomp={}\n",
    "fNocomp={}\n",
    "mean_rate_Gain_saver={}\n",
    "mean_rate_Gain={}\n",
    "noCoMP_rate_saver={}\n",
    "CoMP_rate_saver={}\n",
    "CoMP_rate={}\n",
    "Gain_saver={}\n",
    "noCoMP_rate={}\n",
    "load_dict={}\n",
    "Gain_std_max_min_10_90={}\n",
    "stat_dic={}\n",
    "results={}\n",
    "\n",
    "for prb_number in prb_range:\n",
    "    Gain_saver={}\n",
    "    stat_saver={}\n",
    "    prb_number_comp={}\n",
    "    load_list=np.array([])\n",
    "    fairness_Nocomp=np.array([])\n",
    "    fairness_comp=np.array([])\n",
    "    result_saver={}\n",
    "    for i in cluster:\n",
    "        prb_number_comp[i]=prb_number\n",
    "    for mu in mu_range:    \n",
    "        ue_noCoMP, ue_comp, ue_all, index=sm.run_simulation('deterministic',df,cluster,mu,ue_nr,6,max_prb,prb_number_comp,metric)\n",
    "        df_res=eds.ue_to_df(ue_all)\n",
    "        x=np.array((df_res['mR gain']-1)*100)\n",
    "        x_res2=np.append(x_res2,np.mean(x))\n",
    "        cluster_nr+=1\n",
    "\n",
    "        liste=np.array([])\n",
    "        m1=np.array([])\n",
    "        m2=np.array([])\n",
    "        comp=np.array([])\n",
    "        sinr=np.array([])\n",
    "        sinr2=np.array([])\n",
    "        result_2ndsaver={}\n",
    "        load=0\n",
    "        for i in ue_all:\n",
    "            liste=np.append(liste,((i.mR2/i.mR)-1)*100)\n",
    "            m1=np.append(m1,i.mR)\n",
    "            m2=np.append(m2,i.mR2)\n",
    "            load+=np.round(i.queue.level/4000)\n",
    "            comp=np.append(comp,i.comp)\n",
    "            sinr=np.append(sinr,i.sinr)\n",
    "            sinr2=np.append(sinr2,i.sinr2)\n",
    "        #print('mu=',mu)\n",
    "        #print('prb-nr=',prb_number)\n",
    "        #print(load)\n",
    "        \n",
    "        load_list=np.append(load_list,load)\n",
    "        Gain_saver_std_max_min_10_90=np.array([])\n",
    "        stat=np.array([])\n",
    "        Gain_saver_std_max_min_10_90=np.append(Gain_saver_std_max_min_10_90,np.mean(liste))\n",
    "        Gain_saver_std_max_min_10_90=np.append(Gain_saver_std_max_min_10_90,np.max(m2))    \n",
    "        Gain_saver_std_max_min_10_90=np.append(Gain_saver_std_max_min_10_90,np.min(m2))\n",
    "        Gain_saver_std_max_min_10_90=np.append(Gain_saver_std_max_min_10_90,np.max(m1))    \n",
    "        Gain_saver_std_max_min_10_90=np.append(Gain_saver_std_max_min_10_90,np.min(m1))\n",
    "        Gain_saver_std_max_min_10_90=np.append(Gain_saver_std_max_min_10_90,np.max(liste))    \n",
    "        Gain_saver_std_max_min_10_90=np.append(Gain_saver_std_max_min_10_90,np.min(liste))\n",
    "        #Gain_saver_std_max_min_10_90=np.append(Gain_saver_std_max_min_10_90,m2[np.argmax(liste)])\n",
    "        #Gain_saver_std_max_min_10_90=np.append(Gain_saver_std_max_min_10_90,m2[np.argmin(liste)])\n",
    "        Gain_saver_std_max_min_10_90=np.append(Gain_saver_std_max_min_10_90,comp[np.argmax(liste)])\n",
    "        Gain_saver_std_max_min_10_90=np.append(Gain_saver_std_max_min_10_90,comp[np.argmin(liste)])\n",
    "        stat=np.append(stat,np.std(liste))\n",
    "        stat=np.append(stat,np.quantile(liste,0.1))\n",
    "        stat=np.append(stat,np.quantile(liste,0.9))\n",
    "        stat_saver.update({mu:stat})\n",
    "        result_2ndsaver.update({\"m1\":m1})\n",
    "        result_2ndsaver.update({\"m2\":m2})\n",
    "        result_2ndsaver.update({\"gain\":liste})\n",
    "        result_2ndsaver.update({\"load\":load})\n",
    "        result_2ndsaver.update({\"comp\":comp})\n",
    "        result_2ndsaver.update({\"sinr\":sinr})\n",
    "        result_2ndsaver.update({\"sinr2\":sinr2})\n",
    "        \n",
    "        result_saver.update({mu:result_2ndsaver})\n",
    "        \n",
    "        mean_rate_Gain_saver.update({mu:liste.mean()})   \n",
    "        noCoMP_rate_saver.update({mu:m1.mean()})\n",
    "        CoMP_rate_saver.update({mu:m2.mean()})\n",
    "        Gain_saver.update({mu:Gain_saver_std_max_min_10_90})\n",
    "        #print(Gain_std_max_min_10_90)\n",
    "        x=sum(m1)**2/(sum(m1**2)*len(m1))\n",
    "        x2=sum(m2)**2/(sum(m2**2)*len(m2))\n",
    "        \n",
    "        fairness_Nocomp=np.append(fairness_Nocomp,x)\n",
    "        fairness_comp=np.append(fairness_comp,x2)\n",
    "   \n",
    "    l=np.array([])\n",
    "    l2=np.array([])\n",
    "    #for i in mu_range:\n",
    "        #x=speicher.get(i)\n",
    "        #l=np.append(l,x.mean())\n",
    "    load_dict.update({prb_number_comp[cluster[0]]:load_list})\n",
    "    Gain_std_max_min_10_90.update({prb_number_comp[cluster[0]]:Gain_saver})\n",
    "    mean_rate_Gain.update({prb_number_comp[cluster[0]]:list(mean_rate_Gain_saver.values())})\n",
    "    noCoMP_rate.update({prb_number_comp[cluster[0]]:list(noCoMP_rate_saver.values())})\n",
    "    CoMP_rate.update({prb_number_comp[cluster[0]]:list(CoMP_rate_saver.values())})\n",
    "    fNocomp.update({prb_number_comp[cluster[0]]:fairness_Nocomp})\n",
    "    fcomp.update({prb_number_comp[cluster[0]]:fairness_comp})\n",
    "    stat_dic.update({prb_number_comp[cluster[0]]:stat_saver})\n",
    "    results.update({prb_number_comp[cluster[0]]:result_saver})\n",
    "    "
   ]
  },
  {
   "cell_type": "code",
   "execution_count": null,
   "metadata": {},
   "outputs": [],
   "source": []
  },
  {
   "cell_type": "code",
   "execution_count": 166,
   "metadata": {},
   "outputs": [],
   "source": [
    "x=np.load('PRB_Simulation_133_320/results_pf.npy',allow_pickle='TRUE').item()"
   ]
  },
  {
   "cell_type": "code",
   "execution_count": 167,
   "metadata": {},
   "outputs": [],
   "source": [
    "for i in [10,11,12,13,14]:\n",
    "    x[i]=results[i]"
   ]
  },
  {
   "cell_type": "code",
   "execution_count": 168,
   "metadata": {},
   "outputs": [],
   "source": [
    "#np.save('PRB_Simulation_133_320/Gain_std_max_min_10_90_pf.npy',Gain_std_max_min_10_90)\n",
    "#np.save('PRB_Simulation_133_320/stat_pf.npy',stat_dic)\n",
    "np.save('PRB_Simulation_133_320/results_pf2.npy',x)"
   ]
  },
  {
   "cell_type": "code",
   "execution_count": null,
   "metadata": {},
   "outputs": [],
   "source": [
    "eds.calculate_prb_number_mode2(ue_all,cluster,max_prb,ue_nr)"
   ]
  },
  {
   "cell_type": "code",
   "execution_count": 30,
   "metadata": {},
   "outputs": [
    {
     "ename": "KeyError",
     "evalue": "19",
     "output_type": "error",
     "traceback": [
      "\u001b[1;31m---------------------------------------------------------------------------\u001b[0m",
      "\u001b[1;31mKeyError\u001b[0m                                  Traceback (most recent call last)",
      "\u001b[1;32m<ipython-input-30-42a0c3c94c0e>\u001b[0m in \u001b[0;36m<module>\u001b[1;34m\u001b[0m\n\u001b[0;32m      4\u001b[0m     \u001b[0mred_dic_saver\u001b[0m\u001b[1;33m=\u001b[0m\u001b[1;33m{\u001b[0m\u001b[1;33m}\u001b[0m\u001b[1;33m\u001b[0m\u001b[1;33m\u001b[0m\u001b[0m\n\u001b[0;32m      5\u001b[0m     \u001b[0mred_stat_saver\u001b[0m\u001b[1;33m=\u001b[0m\u001b[1;33m{\u001b[0m\u001b[1;33m}\u001b[0m\u001b[1;33m\u001b[0m\u001b[1;33m\u001b[0m\u001b[0m\n\u001b[1;32m----> 6\u001b[1;33m     \u001b[0mx\u001b[0m\u001b[1;33m=\u001b[0m\u001b[0mGain_std_max_min_10_90\u001b[0m\u001b[1;33m[\u001b[0m\u001b[0mi\u001b[0m\u001b[1;33m]\u001b[0m\u001b[1;33m.\u001b[0m\u001b[0mcopy\u001b[0m\u001b[1;33m(\u001b[0m\u001b[1;33m)\u001b[0m\u001b[1;33m\u001b[0m\u001b[1;33m\u001b[0m\u001b[0m\n\u001b[0m\u001b[0;32m      7\u001b[0m     \u001b[0my\u001b[0m\u001b[1;33m=\u001b[0m\u001b[0mstat_dic\u001b[0m\u001b[1;33m[\u001b[0m\u001b[0mi\u001b[0m\u001b[1;33m]\u001b[0m\u001b[1;33m\u001b[0m\u001b[1;33m\u001b[0m\u001b[0m\n\u001b[0;32m      8\u001b[0m     \u001b[1;32mfor\u001b[0m \u001b[0mj\u001b[0m \u001b[1;32min\u001b[0m \u001b[0mmu_range\u001b[0m\u001b[1;33m[\u001b[0m\u001b[1;36m0\u001b[0m\u001b[1;33m:\u001b[0m\u001b[1;33m:\u001b[0m\u001b[1;36m4\u001b[0m\u001b[1;33m]\u001b[0m\u001b[1;33m:\u001b[0m\u001b[1;33m\u001b[0m\u001b[1;33m\u001b[0m\u001b[0m\n",
      "\u001b[1;31mKeyError\u001b[0m: 19"
     ]
    }
   ],
   "source": [
    "red_dic={}\n",
    "red_stat={}\n",
    "for i in [19,29]:\n",
    "    red_dic_saver={}\n",
    "    red_stat_saver={}\n",
    "    x=Gain_std_max_min_10_90[i].copy()\n",
    "    y=stat_dic[i]\n",
    "    for j in mu_range[0::4]:\n",
    "        if(j<=20):\n",
    "            red_dic_saver.update({j:x[j]})\n",
    "            red_stat_saver.update({j:y[j]})\n",
    "    red_dic.update({i:red_dic_saver})\n",
    "    red_stat.update({i:red_stat_saver})\n"
   ]
  },
  {
   "cell_type": "code",
   "execution_count": null,
   "metadata": {},
   "outputs": [],
   "source": [
    "red_dic_19=red_dic[19]\n",
    "red_dic_29=red_dic[29]\n",
    "red_stat_19=red_stat[19]\n",
    "red_stat_29=red_stat[29]\n",
    "for i in red_dic_19:\n",
    "    red_dic_19[i]=tuple(red_dic_19[i])\n",
    "    red_stat_19[i]=tuple(red_stat_19[i])\n",
    "for i in red_dic_29:\n",
    "    red_dic_29[i]=tuple(red_dic_29[i])\n",
    "    red_stat_29[i]=tuple(red_stat_29[i])"
   ]
  },
  {
   "cell_type": "code",
   "execution_count": null,
   "metadata": {},
   "outputs": [],
   "source": [
    "from tabulate import tabulate\n",
    "headers = [\"mu\",\"mean\",\"max_c\",\"min_c\",\"max_nc\",\"min_nc\", \"max_gain\", \"min_gain\",\"comp-max\",\"comp-min\"]\n",
    "print(tabulate([(k,) + v for k, v in red_dic_19.items()], headers=headers))\n",
    "print()\n",
    "print(tabulate([(k,) + v for k, v in red_dic_29.items()], headers=headers))"
   ]
  },
  {
   "cell_type": "code",
   "execution_count": null,
   "metadata": {},
   "outputs": [],
   "source": [
    "from tabulate import tabulate\n",
    "headers = [\"std\",\"10% Quantil\",\"90% Quantil\"]\n",
    "print(tabulate([(k,) + v for k, v in red_stat_20.items()], headers=headers))\n",
    "print()\n",
    "print(tabulate([(k,) + v for k, v in red_stat_29.items()], headers=headers))"
   ]
  },
  {
   "cell_type": "code",
   "execution_count": null,
   "metadata": {},
   "outputs": [],
   "source": [
    "#np.save('PRB_Simulation_133_320/Gain_std_max_min_10_90_pf.npy',Gain_std_max_min_10_90)\n",
    "#np.save('PRB_Simulation_133_320/stat_pf.npy',stat_dic)\n",
    "#np.save('PRB_Simulation_133_320/results_pf.npy',results)"
   ]
  },
  {
   "cell_type": "code",
   "execution_count": 114,
   "metadata": {},
   "outputs": [
    {
     "data": {
      "image/png": "[encoded data removed]",
      "text/plain": [
       "<Figure size 553.48x342.069 with 1 Axes>"
      ]
     },
     "metadata": {},
     "output_type": "display_data"
    }
   ],
   "source": [
    "fsize = 15 # Allgemein\n",
    "tsize = 18 # Legende\n",
    "\n",
    "tdir = 'in'\n",
    "major = 5.0 # Länge major ticks\n",
    "minor = 3.0 # Länge minor ticks\n",
    "lwidth = 0.8 # Dicke Rahmen\n",
    "lhandle = 2.0 # Länge handle in Legende\n",
    "plt.style.use('default')\n",
    "plt.rcParams['mathtext.fontset'] = 'stix'\n",
    "plt.rcParams['font.family'] = 'STIXGeneral'\n",
    "plt.rcParams['font.size'] = fsize\n",
    "plt.rcParams['legend.fontsize'] = tsize\n",
    "plt.rcParams['xtick.direction'] = tdir\n",
    "plt.rcParams['ytick.direction'] = tdir\n",
    "plt.rcParams['xtick.major.size'] = major\n",
    "plt.rcParams['xtick.minor.size'] = minor\n",
    "plt.rcParams['ytick.major.size'] = major\n",
    "plt.rcParams['ytick.minor.size'] = minor\n",
    "plt.rcParams['axes.linewidth'] = lwidth\n",
    "plt.rcParams['legend.handlelength'] = lhandle\n",
    "\n",
    "# Bildgroesse\n",
    "fig_width_pt = 400  # Get this from LaTeX using \\showthe\\columnwidth\n",
    "inches_per_pt = 1.0/72.27               # Convert pt to inch\n",
    "golden_mean = (np.sqrt(5)-1.0)/2.0    # Aesthetic ratio\n",
    "fig_width = fig_width_pt*inches_per_pt  # width in inches\n",
    "fig_height = fig_width*golden_mean      # height in inches\n",
    "plt.figure(figsize=(fig_width,fig_height)) \n",
    "parameters = {'axes.labelsize': 16,'axes.titlesize': 16,'xtick.labelsize':13,'ytick.labelsize':13,'figure.titlesize':20}\n",
    "plt.rcParams.update(parameters)\n",
    "    \n",
    "count=0\n",
    "for i in prb_range:\n",
    "    plt.plot(mu_range,list(mean_rate_Gain[i]),label=str(round(i/max_prb*100))+'%')\n",
    "    #plt.legend()\n",
    "    plt.grid()\n",
    "    plt.legend( prop={'size': 9})\n",
    "    plt.xlabel('packet arrival rate $\\mu$ [ms]',labelpad = 10)\n",
    "    plt.ylabel('av. rate gain [%]',labelpad = 10)\n",
    "    count+=1\n",
    "plt.grid()"
   ]
  },
  {
   "cell_type": "code",
   "execution_count": null,
   "metadata": {},
   "outputs": [],
   "source": [
    "plt.plot(mu_range,list(mean_rate_Gain[29]),color='#1f77b4',label='58 % of prbs (mode-1)')\n",
    "#plt.plot(mu_range,list(mean_rate_Gain[26]),color='#1f77b4',linestyle='dotted',label='52 % of prbs (mode-2)')\n",
    "plt.plot(mu_range,list(mean_rate_Gain[20]),color='#1f77b4',linestyle='dashed', label='40 % of prbs (mode-2)')\n",
    "#plt.plot(mu_range,list(mean_rate_Gain[19]),color='#1f77b4',linestyle='dotted', label='comp 30 % of prbs')\n",
    "#plt.plot(mu_range,list(noCoMP_rate[20]),color='orange', label='no-comp')\n",
    "\n",
    "    #plt.legend()\n",
    "plt.grid()\n",
    "plt.legend( prop={'size': 14})\n",
    "plt.xlabel('packet arrival rate $\\mu$ [ms]',labelpad = 10)\n",
    "plt.ylabel('av. rate-gain [%]',labelpad = 10)\n",
    "count+=1"
   ]
  },
  {
   "cell_type": "code",
   "execution_count": 174,
   "metadata": {},
   "outputs": [],
   "source": [
    "def calculate_prb_number_mode2(ue_all,cluster,max_prb,ue_nr):\n",
    "    prb={}\n",
    "    a1=0\n",
    "    a2=0\n",
    "    sinr_max=0\n",
    "    for i in ue_all:\n",
    "        if(i.sinr2>sinr_max):\n",
    "            sinr_max=i.sinr2\n",
    "    c_max=(np.log2(1+np.exp(sinr_max/10)))\n",
    "\n",
    "    for i in ue_all:\n",
    "        if(i.comp==1):\n",
    "            sinr=np.exp(i.sinr2/10)\n",
    "            a2+=c_max*2/(np.log2(1+sinr))\n",
    "        else:\n",
    "            sinr=np.exp(i.sinr/10)\n",
    "            a1+=c_max/(np.log2(1+sinr))\n",
    "        for i in cluster:\n",
    "            prb[i]=np.round(a2/(a2+a1)*max_prb)\n",
    "            \n",
    "    return prb"
   ]
  },
  {
   "cell_type": "code",
   "execution_count": 23,
   "metadata": {},
   "outputs": [
    {
     "name": "stdout",
     "output_type": "stream",
     "text": [
      "random\n"
     ]
    },
    {
     "name": "stderr",
     "output_type": "stream",
     "text": [
      "C:\\Users\\Caroline Zoll\\EDS\\eventDrivenSimulation.py:248: RuntimeWarning: divide by zero encountered in double_scalars\n",
      "  metric=np.append(metric,((i.cp)**e1/(i.mR**e2)))\n",
      "C:\\Users\\Caroline Zoll\\EDS\\eventDrivenSimulation.py:278: RuntimeWarning: divide by zero encountered in double_scalars\n",
      "  metric=np.append(metric,((cp)**e1/(i.mR2)**e2))\n"
     ]
    },
    {
     "name": "stdout",
     "output_type": "stream",
     "text": [
      "random\n",
      "random\n",
      "random\n",
      "random\n",
      "random\n",
      "random\n",
      "random\n",
      "random\n",
      "random\n",
      "random\n",
      "random\n",
      "random\n",
      "random\n",
      "random\n",
      "random\n",
      "random\n",
      "random\n",
      "random\n",
      "random\n",
      "random\n",
      "random\n",
      "random\n",
      "random\n",
      "random\n",
      "random\n",
      "random\n",
      "random\n",
      "random\n",
      "random\n",
      "random\n",
      "random\n",
      "random\n",
      "random\n",
      "random\n",
      "random\n",
      "random\n",
      "random\n",
      "random\n",
      "random\n",
      "random\n",
      "random\n",
      "random\n",
      "random\n",
      "random\n",
      "random\n",
      "random\n",
      "random\n",
      "random\n",
      "random\n",
      "random\n",
      "random\n",
      "random\n",
      "random\n",
      "random\n",
      "random\n",
      "random\n",
      "random\n",
      "random\n",
      "random\n",
      "random\n",
      "random\n",
      "random\n",
      "random\n",
      "random\n",
      "random\n",
      "random\n",
      "random\n",
      "random\n",
      "random\n",
      "random\n",
      "random\n",
      "random\n",
      "random\n",
      "random\n",
      "random\n",
      "random\n",
      "random\n",
      "random\n",
      "random\n",
      "random\n",
      "random\n",
      "random\n",
      "random\n",
      "random\n",
      "random\n",
      "random\n",
      "random\n",
      "random\n",
      "random\n",
      "random\n",
      "random\n",
      "random\n",
      "random\n",
      "random\n",
      "random\n",
      "random\n",
      "random\n",
      "random\n",
      "random\n",
      "random\n",
      "random\n",
      "random\n",
      "random\n",
      "random\n",
      "random\n",
      "random\n",
      "random\n",
      "random\n",
      "random\n",
      "random\n",
      "random\n",
      "random\n",
      "random\n",
      "random\n",
      "random\n",
      "random\n",
      "random\n",
      "random\n",
      "random\n",
      "random\n",
      "random\n",
      "random\n",
      "random\n",
      "random\n",
      "random\n",
      "random\n",
      "random\n",
      "random\n",
      "random\n",
      "random\n",
      "random\n",
      "random\n",
      "random\n",
      "random\n",
      "random\n",
      "random\n",
      "random\n",
      "random\n",
      "random\n",
      "random\n",
      "random\n",
      "random\n",
      "random\n",
      "random\n",
      "random\n",
      "random\n",
      "random\n",
      "random\n",
      "random\n",
      "random\n",
      "random\n",
      "random\n",
      "random\n",
      "random\n",
      "random\n",
      "random\n",
      "random\n",
      "random\n",
      "random\n",
      "random\n",
      "random\n",
      "random\n",
      "random\n",
      "random\n",
      "random\n",
      "random\n",
      "random\n",
      "random\n",
      "random\n",
      "random\n",
      "random\n",
      "random\n",
      "random\n",
      "random\n",
      "random\n",
      "random\n",
      "random\n",
      "random\n",
      "random\n",
      "random\n",
      "random\n",
      "random\n",
      "random\n",
      "random\n",
      "random\n",
      "random\n",
      "random\n",
      "random\n",
      "random\n",
      "random\n",
      "random\n",
      "random\n",
      "random\n",
      "random\n",
      "random\n",
      "random\n",
      "random\n",
      "random\n",
      "random\n",
      "random\n",
      "random\n",
      "random\n",
      "random\n",
      "random\n",
      "random\n",
      "random\n",
      "random\n",
      "random\n",
      "random\n",
      "random\n",
      "random\n",
      "random\n",
      "random\n",
      "random\n",
      "random\n",
      "random\n",
      "random\n",
      "random\n",
      "random\n",
      "random\n",
      "random\n",
      "random\n",
      "random\n",
      "random\n",
      "random\n",
      "random\n",
      "random\n",
      "random\n",
      "random\n",
      "random\n",
      "random\n",
      "random\n",
      "random\n",
      "random\n",
      "random\n",
      "random\n",
      "random\n",
      "random\n",
      "random\n",
      "random\n",
      "random\n",
      "random\n",
      "random\n",
      "random\n",
      "random\n",
      "random\n",
      "random\n",
      "random\n",
      "random\n",
      "random\n",
      "random\n",
      "random\n",
      "random\n",
      "random\n",
      "random\n",
      "random\n",
      "random\n",
      "random\n",
      "random\n",
      "random\n",
      "random\n",
      "random\n",
      "random\n",
      "random\n",
      "random\n",
      "random\n",
      "random\n",
      "random\n",
      "random\n",
      "random\n",
      "random\n",
      "random\n",
      "random\n",
      "random\n",
      "random\n",
      "random\n",
      "random\n",
      "random\n",
      "random\n",
      "random\n",
      "random\n",
      "random\n",
      "random\n",
      "random\n",
      "random\n",
      "random\n",
      "random\n",
      "random\n",
      "random\n",
      "random\n",
      "random\n",
      "random\n",
      "random\n",
      "random\n",
      "random\n",
      "random\n",
      "random\n",
      "random\n",
      "random\n",
      "random\n",
      "random\n",
      "random\n",
      "random\n",
      "random\n",
      "random\n",
      "random\n",
      "random\n",
      "random\n",
      "random\n",
      "random\n",
      "random\n",
      "random\n",
      "random\n",
      "random\n",
      "random\n",
      "random\n",
      "random\n",
      "random\n",
      "random\n",
      "random\n",
      "random\n",
      "random\n",
      "random\n",
      "random\n",
      "random\n",
      "random\n",
      "random\n",
      "random\n",
      "random\n",
      "random\n",
      "random\n",
      "random\n",
      "random\n",
      "random\n",
      "random\n",
      "random\n",
      "random\n",
      "random\n",
      "random\n",
      "random\n",
      "random\n",
      "random\n",
      "random\n",
      "random\n",
      "random\n",
      "random\n",
      "random\n",
      "random\n",
      "random\n",
      "random\n",
      "random\n",
      "random\n",
      "random\n",
      "random\n",
      "random\n",
      "random\n",
      "random\n",
      "random\n",
      "random\n",
      "random\n",
      "random\n",
      "random\n",
      "random\n",
      "random\n",
      "random\n",
      "random\n",
      "random\n",
      "random\n",
      "random\n",
      "random\n",
      "random\n",
      "random\n",
      "random\n",
      "random\n",
      "random\n",
      "random\n",
      "random\n",
      "random\n",
      "random\n",
      "random\n",
      "random\n",
      "random\n",
      "random\n",
      "random\n",
      "random\n",
      "random\n",
      "random\n",
      "random\n",
      "random\n",
      "random\n",
      "random\n",
      "random\n",
      "random\n",
      "random\n",
      "random\n",
      "random\n",
      "random\n",
      "random\n",
      "random\n",
      "random\n",
      "random\n",
      "random\n",
      "random\n",
      "random\n",
      "random\n",
      "random\n",
      "random\n",
      "random\n",
      "random\n",
      "random\n",
      "random\n",
      "random\n",
      "random\n",
      "random\n",
      "random\n",
      "random\n",
      "random\n",
      "random\n",
      "random\n",
      "random\n",
      "random\n",
      "random\n",
      "random\n",
      "random\n",
      "random\n",
      "random\n",
      "random\n",
      "random\n",
      "random\n",
      "random\n",
      "random\n",
      "random\n",
      "random\n",
      "random\n",
      "random\n",
      "random\n",
      "random\n",
      "random\n",
      "random\n",
      "random\n",
      "random\n",
      "random\n",
      "random\n",
      "random\n",
      "random\n",
      "random\n",
      "random\n",
      "random\n",
      "random\n",
      "random\n",
      "random\n",
      "random\n",
      "random\n",
      "random\n",
      "random\n",
      "random\n",
      "random\n",
      "random\n",
      "random\n",
      "random\n",
      "random\n",
      "random\n",
      "random\n",
      "random\n",
      "random\n",
      "random\n",
      "random\n",
      "random\n",
      "random\n",
      "random\n",
      "random\n",
      "random\n",
      "random\n",
      "random\n",
      "random\n",
      "random\n",
      "random\n",
      "random\n",
      "random\n",
      "random\n",
      "random\n",
      "random\n",
      "random\n",
      "random\n",
      "random\n",
      "random\n",
      "random\n",
      "random\n",
      "random\n",
      "random\n",
      "random\n",
      "random\n",
      "random\n",
      "random\n",
      "random\n",
      "random\n",
      "random\n",
      "random\n",
      "random\n"
     ]
    }
   ],
   "source": [
    "cluster=[133,320]\n",
    "x_res2=np.array([])\n",
    "cluster_nr=0\n",
    "mu_range=np.arange(1,20,2)\n",
    "fcomp={}\n",
    "fNocomp={}\n",
    "mean_rate_Gain_saver={}\n",
    "mean_rate_Gain={}\n",
    "noCoMP_rate_saver={}\n",
    "CoMP_rate_saver={}\n",
    "CoMP_rate={}\n",
    "noCoMP_rate={}\n",
    "\n",
    "for j in np.arange(0,50):\n",
    "    fairness_Nocomp=np.array([])\n",
    "    fairness_comp=np.array([])\n",
    "    for mu in mu_range:\n",
    "        ue_noCoMP, ue_comp, ue_all, index=sm.run_simulation('random',df,cluster,mu,ue_nr,6,max_prb,'calculate',[1,1])\n",
    "        df_res=eds.ue_to_df(ue_all)\n",
    "        x=np.array((df_res['mR gain']-1)*100)\n",
    "        x_res2=np.append(x_res2,np.mean(x))\n",
    "        cluster_nr+=1\n",
    "\n",
    "        liste=np.array([])\n",
    "        m1=np.array([])\n",
    "        m2=np.array([])\n",
    "        for i in ue_all:\n",
    "            liste=np.append(liste,((i.mR2/i.mR)-1)*100)\n",
    "            m1=np.append(m1,i.mR)\n",
    "            m2=np.append(m2,i.mR2)\n",
    "        mean_rate_Gain_saver.update({mu:liste.mean()})   \n",
    "        noCoMP_rate_saver.update({mu:m1.mean()})\n",
    "        CoMP_rate_saver.update({mu:m2.mean()})\n",
    "        x=sum(m1)**2/(sum(m1**2)*len(m1))\n",
    "        x2=sum(m2)**2/(sum(m2**2)*len(m2))\n",
    "            \n",
    "        fairness_Nocomp=np.append(fairness_Nocomp,x)\n",
    "        fairness_comp=np.append(fairness_comp,x2)\n",
    "   \n",
    "    l=np.array([])\n",
    "    l2=np.array([])\n",
    "    #for i in mu_range:\n",
    "        #x=speicher.get(i)\n",
    "        #l=np.append(l,x.mean())\n",
    "    \n",
    "    mean_rate_Gain.update({j:list(mean_rate_Gain_saver.values())})\n",
    "    noCoMP_rate.update({j:list(noCoMP_rate_saver.values())})\n",
    "    CoMP_rate.update({j:list(CoMP_rate_saver.values())})\n",
    "    fNocomp.update({j:fairness_Nocomp})\n",
    "    fcomp.update({j:fairness_comp})\n",
    "    "
   ]
  },
  {
   "cell_type": "code",
   "execution_count": 176,
   "metadata": {},
   "outputs": [
    {
     "ename": "KeyError",
     "evalue": "0",
     "output_type": "error",
     "traceback": [
      "\u001b[1;31m---------------------------------------------------------------------------\u001b[0m",
      "\u001b[1;31mKeyError\u001b[0m                                  Traceback (most recent call last)",
      "\u001b[1;32m<ipython-input-176-6d95f77036aa>\u001b[0m in \u001b[0;36m<module>\u001b[1;34m\u001b[0m\n\u001b[0;32m      1\u001b[0m \u001b[1;32mfor\u001b[0m \u001b[0mi\u001b[0m \u001b[1;32min\u001b[0m \u001b[0mnp\u001b[0m\u001b[1;33m.\u001b[0m\u001b[0marange\u001b[0m\u001b[1;33m(\u001b[0m\u001b[1;36m0\u001b[0m\u001b[1;33m,\u001b[0m\u001b[1;36m50\u001b[0m\u001b[1;33m)\u001b[0m\u001b[1;33m:\u001b[0m\u001b[1;33m\u001b[0m\u001b[1;33m\u001b[0m\u001b[0m\n\u001b[1;32m----> 2\u001b[1;33m     \u001b[0mplt\u001b[0m\u001b[1;33m.\u001b[0m\u001b[0mplot\u001b[0m\u001b[1;33m(\u001b[0m\u001b[0mmu_range\u001b[0m\u001b[1;33m,\u001b[0m\u001b[0mmean_rate_Gain\u001b[0m\u001b[1;33m[\u001b[0m\u001b[0mi\u001b[0m\u001b[1;33m]\u001b[0m\u001b[1;33m)\u001b[0m\u001b[1;33m\u001b[0m\u001b[1;33m\u001b[0m\u001b[0m\n\u001b[0m\u001b[0;32m      3\u001b[0m \u001b[0mplt\u001b[0m\u001b[1;33m.\u001b[0m\u001b[0mtitle\u001b[0m\u001b[1;33m(\u001b[0m\u001b[1;34m'50 simulations for random constellations - mode1 calculation'\u001b[0m\u001b[1;33m,\u001b[0m \u001b[0mfontsize\u001b[0m\u001b[1;33m=\u001b[0m\u001b[1;36m14\u001b[0m\u001b[1;33m)\u001b[0m\u001b[1;33m\u001b[0m\u001b[1;33m\u001b[0m\u001b[0m\n\u001b[0;32m      4\u001b[0m \u001b[0mplt\u001b[0m\u001b[1;33m.\u001b[0m\u001b[0mxlabel\u001b[0m\u001b[1;33m(\u001b[0m\u001b[1;34m'packet arrival rate $\\mu$ [ms]'\u001b[0m\u001b[1;33m)\u001b[0m\u001b[1;33m\u001b[0m\u001b[1;33m\u001b[0m\u001b[0m\n\u001b[0;32m      5\u001b[0m \u001b[0mplt\u001b[0m\u001b[1;33m.\u001b[0m\u001b[0mylabel\u001b[0m\u001b[1;33m(\u001b[0m\u001b[1;34m'av. rate-gain [%]'\u001b[0m\u001b[1;33m)\u001b[0m\u001b[1;33m\u001b[0m\u001b[1;33m\u001b[0m\u001b[0m\n",
      "\u001b[1;31mKeyError\u001b[0m: 0"
     ]
    }
   ],
   "source": [
    "for i in np.arange(0,50):\n",
    "    plt.plot(mu_range,mean_rate_Gain[i])\n",
    "plt.title('50 simulations for random constellations - mode1 calculation', fontsize=14)\n",
    "plt.xlabel('packet arrival rate $\\mu$ [ms]')\n",
    "plt.ylabel('av. rate-gain [%]')\n",
    "plt.grid()"
   ]
  },
  {
   "cell_type": "code",
   "execution_count": 22,
   "metadata": {},
   "outputs": [
    {
     "data": {
      "text/plain": [
       "{133: 32, 320: 26}"
      ]
     },
     "execution_count": 22,
     "metadata": {},
     "output_type": "execute_result"
    }
   ],
   "source": [
    "eds.calculate_prb_number_comp(ue_all,cluster,max_prb,ue_nr)"
   ]
  },
  {
   "cell_type": "code",
   "execution_count": 235,
   "metadata": {},
   "outputs": [],
   "source": [
    "no_c=np.array([])\n",
    "c=np.array([])\n",
    "for i in prb_range:\n",
    "    c=np.append(c,fcomp[i][0])\n",
    "    no_c=np.append(no_c,fNocomp[i][0])"
   ]
  },
  {
   "cell_type": "code",
   "execution_count": 236,
   "metadata": {},
   "outputs": [],
   "source": [
    "Mean_Gain_per_prb=np.array([])\n",
    "for i in prb_range:\n",
    "    Mean_Gain_per_prb=np.append(Mean_Gain_per_prb,mean_rate_Gain[i][0])"
   ]
  },
  {
   "cell_type": "code",
   "execution_count": 272,
   "metadata": {},
   "outputs": [
    {
     "data": {
      "image/png": "[encoded data removed]",
      "text/plain": [
       "<Figure size 553.48x342.069 with 1 Axes>"
      ]
     },
     "metadata": {},
     "output_type": "display_data"
    }
   ],
   "source": [
    "plt.figure(figsize=(fig_width,fig_height)) \n",
    "parameters = {'axes.labelsize': 16,'axes.titlesize': 16,'xtick.labelsize':13,'ytick.labelsize':13,'figure.titlesize':20}\n",
    "plt.rcParams.update(parameters)\n",
    "\n",
    "\n",
    "count=0\n",
    "plt.plot((prb_range[0:35]/50)*100,c[0:35],label='Fairness CoMP')\n",
    "plt.plot((prb_range[0:35]/50)*100,no_c[0:35],label='Fairness no CoMP')\n",
    "\n",
    "#plt.legend()\n",
    "plt.grid()\n",
    "plt.xlabel('percentage of prbs for CoMP [%]',labelpad = 10)\n",
    "plt.ylabel('Fairness',labelpad = 10)\n",
    "plt.vlines(x=(eds.calculate_prb_number(ue_all,max_prb)/max_prb)*100,ymin=0, ymax=1,ls=':',label='calculated prb size - mode1',colors='green')\n",
    "plt.legend(prop={'size': 14},loc='lower left')\n",
    "count+=1"
   ]
  },
  {
   "cell_type": "code",
   "execution_count": 238,
   "metadata": {},
   "outputs": [
    {
     "data": {
      "image/png": "[encoded data removed]",
      "text/plain": [
       "<Figure size 553.48x342.069 with 1 Axes>"
      ]
     },
     "metadata": {},
     "output_type": "display_data"
    }
   ],
   "source": [
    "plt.figure(figsize=(fig_width,fig_height)) \n",
    "parameters = {'axes.labelsize': 16,'axes.titlesize': 16,'xtick.labelsize':13,'ytick.labelsize':13,'figure.titlesize':20}\n",
    "plt.rcParams.update(parameters)\n",
    "plt.plot(prb_range[2:16]/50*100,Mean_Gain_per_prb[2:16])\n",
    "plt.grid()\n",
    "#plt.legend( prop={'size': 9})\n",
    "plt.xlabel('percentage of prbs for CoMP [%]',labelpad = 10)\n",
    "plt.ylabel('rate gain in [%]',labelpad = 10)\n",
    "#plt.vlines(x=(eds.calculate_prb_number(ue_all,max_prb)/max_prb)*100,ymin=0, ymax=1,ls=':',label='calculated prb size',colors='green')\n",
    "count+=1"
   ]
  },
  {
   "cell_type": "markdown",
   "metadata": {},
   "source": [
    "### Try different Scheduling Metrices "
   ]
  },
  {
   "cell_type": "code",
   "execution_count": 162,
   "metadata": {},
   "outputs": [],
   "source": [
    "metric=[0,1]\n",
    "cluster=[133,320]\n",
    "x_res2=np.array([])\n",
    "cluster_nr=0\n",
    "mu_range=np.arange(1,20,1)\n",
    "prb_range=np.arange(15,50)\n",
    "fcomp={}\n",
    "fNocomp={}\n",
    "mean_rate_Gain_saver={}\n",
    "mean_rate_Gain={}\n",
    "noCoMP_rate_saver={}\n",
    "CoMP_rate_saver={}\n",
    "CoMP_rate={}\n",
    "Gain_saver={}\n",
    "noCoMP_rate={}\n",
    "load_dict={}\n",
    "Gain_std_max_min_10_90={}\n",
    "stat_dic={}\n",
    "\n",
    "for prb_number in prb_range:\n",
    "    Gain_saver={}\n",
    "    stat_saver={}\n",
    "    prb_number_comp={}\n",
    "    load_list=np.array([])\n",
    "    fairness_Nocomp=np.array([])\n",
    "    fairness_comp=np.array([])\n",
    "    result_saver={}\n",
    "    for i in cluster:\n",
    "        prb_number_comp[i]=prb_number\n",
    "    for mu in mu_range:    \n",
    "        ue_noCoMP, ue_comp, ue_all, index=sm.run_simulation('deterministic',df,cluster,mu,ue_nr,6,max_prb,prb_number_comp,metric)\n",
    "        df_res=eds.ue_to_df(ue_all)\n",
    "        x=np.array((df_res['mR gain']-1)*100)\n",
    "        x_res2=np.append(x_res2,np.mean(x))\n",
    "        cluster_nr+=1\n",
    "\n",
    "        liste=np.array([])\n",
    "        m1=np.array([])\n",
    "        m2=np.array([])\n",
    "        comp=np.array([])\n",
    "        result_2ndsaver={}\n",
    "        load=0\n",
    "        for i in ue_all:\n",
    "            liste=np.append(liste,((i.mR2/i.mR)-1)*100)\n",
    "            m1=np.append(m1,i.mR)\n",
    "            m2=np.append(m2,i.mR2)\n",
    "            load+=np.round(i.queue.level/4000)\n",
    "            comp=np.append(comp,i.comp)\n",
    "        #print('mu=',mu)\n",
    "        #print('prb-nr=',prb_number)\n",
    "        #print(load)\n",
    "        \n",
    "        load_list=np.append(load_list,load)\n",
    "        Gain_saver_std_max_min_10_90=np.array([])\n",
    "        stat=np.array([])\n",
    "        Gain_saver_std_max_min_10_90=np.append(Gain_saver_std_max_min_10_90,np.mean(liste))\n",
    "        Gain_saver_std_max_min_10_90=np.append(Gain_saver_std_max_min_10_90,np.max(m2))    \n",
    "        Gain_saver_std_max_min_10_90=np.append(Gain_saver_std_max_min_10_90,np.min(m2))\n",
    "        Gain_saver_std_max_min_10_90=np.append(Gain_saver_std_max_min_10_90,np.max(m1))    \n",
    "        Gain_saver_std_max_min_10_90=np.append(Gain_saver_std_max_min_10_90,np.min(m1))\n",
    "        Gain_saver_std_max_min_10_90=np.append(Gain_saver_std_max_min_10_90,np.max(liste))    \n",
    "        Gain_saver_std_max_min_10_90=np.append(Gain_saver_std_max_min_10_90,np.min(liste))\n",
    "        #Gain_saver_std_max_min_10_90=np.append(Gain_saver_std_max_min_10_90,m2[np.argmax(liste)])\n",
    "        #Gain_saver_std_max_min_10_90=np.append(Gain_saver_std_max_min_10_90,m2[np.argmin(liste)])\n",
    "        Gain_saver_std_max_min_10_90=np.append(Gain_saver_std_max_min_10_90,comp[np.argmax(liste)])\n",
    "        Gain_saver_std_max_min_10_90=np.append(Gain_saver_std_max_min_10_90,comp[np.argmin(liste)])\n",
    "        stat=np.append(stat,np.std(liste))\n",
    "        stat=np.append(stat,np.quantile(liste,0.1))\n",
    "        stat=np.append(stat,np.quantile(liste,0.9))\n",
    "        stat_saver.update({mu:stat})\n",
    "        result_2ndsaver.update({\"m1\":m1})\n",
    "        result_2ndsaver.update({\"m2\":m2})\n",
    "        result_2ndsaver.update({\"gain\":liste})\n",
    "        result_2ndsaver.update({\"load\":load})\n",
    "        result_2ndsaver.update({\"comp\":comp})\n",
    "        result_2ndsaver.update({\"sinr\":sinr})\n",
    "        result_2ndsaver.update({\"sinr2\":sinr2})\n",
    "        \n",
    "        result_saver.update({mu:result_2ndsaver})\n",
    "        \n",
    "        mean_rate_Gain_saver.update({mu:liste.mean()})   \n",
    "        noCoMP_rate_saver.update({mu:m1.mean()})\n",
    "        CoMP_rate_saver.update({mu:m2.mean()})\n",
    "        Gain_saver.update({mu:Gain_saver_std_max_min_10_90})\n",
    "        #print(Gain_std_max_min_10_90)\n",
    "        x=sum(m1)**2/(sum(m1**2)*len(m1))\n",
    "        x2=sum(m2)**2/(sum(m2**2)*len(m2))\n",
    "        \n",
    "        fairness_Nocomp=np.append(fairness_Nocomp,x)\n",
    "        fairness_comp=np.append(fairness_comp,x2)\n",
    "   \n",
    "    l=np.array([])\n",
    "    l2=np.array([])\n",
    "    #for i in mu_range:\n",
    "        #x=speicher.get(i)\n",
    "        #l=np.append(l,x.mean())\n",
    "    load_dict.update({prb_number_comp[cluster[0]]:load_list})\n",
    "    Gain_std_max_min_10_90.update({prb_number_comp[cluster[0]]:Gain_saver})\n",
    "    mean_rate_Gain.update({prb_number_comp[cluster[0]]:list(mean_rate_Gain_saver.values())})\n",
    "    noCoMP_rate.update({prb_number_comp[cluster[0]]:list(noCoMP_rate_saver.values())})\n",
    "    CoMP_rate.update({prb_number_comp[cluster[0]]:list(CoMP_rate_saver.values())})\n",
    "    fNocomp.update({prb_number_comp[cluster[0]]:fairness_Nocomp})\n",
    "    fcomp.update({prb_number_comp[cluster[0]]:fairness_comp})\n",
    "    stat_dic.update({prb_number_comp[cluster[0]]:stat_saver})\n",
    "    results.update({prb_number_comp[cluster[0]]:result_saver})\n",
    "    "
   ]
  },
  {
   "cell_type": "code",
   "execution_count": 163,
   "metadata": {},
   "outputs": [],
   "source": [
    "#np.save('PRB_Simulation_133_320/Gain_std_max_min_10_90_sR.npy',Gain_std_max_min_10_90)\n",
    "#np.save('PRB_Simulation_133_320/stat_sR.npy',stat_dic)\n",
    "#np.save('PRB_Simulation_133_320/results_sR.npy',results)"
   ]
  },
  {
   "cell_type": "code",
   "execution_count": 275,
   "metadata": {},
   "outputs": [],
   "source": [
    "#np.save('mu_range.npy',mu_range)"
   ]
  },
  {
   "cell_type": "code",
   "execution_count": 205,
   "metadata": {},
   "outputs": [],
   "source": [
    "#np.save('PRB_Simulation_133_320/mean_rate_Gain_sR2.npy',mean_rate_Gain)"
   ]
  },
  {
   "cell_type": "code",
   "execution_count": 257,
   "metadata": {},
   "outputs": [],
   "source": [
    "#mean_rate_Gain_pf = np.load('PRB_Simulation_133_320/mean_rate_Gain_pf.npy',allow_pickle='TRUE').item()"
   ]
  },
  {
   "cell_type": "code",
   "execution_count": 263,
   "metadata": {},
   "outputs": [],
   "source": [
    "#mean_rate_Gain_sR = np.load('PRB_Simulation_133_320/mean_rate_Gain_sR.npy',allow_pickle='TRUE').item()"
   ]
  },
  {
   "cell_type": "code",
   "execution_count": 156,
   "metadata": {},
   "outputs": [
    {
     "data": {
      "text/plain": [
       "{133: 27.0, 320: 27.0}"
      ]
     },
     "execution_count": 156,
     "metadata": {},
     "output_type": "execute_result"
    }
   ],
   "source": [
    "eds.calculate_prb_number_mode2(ue_all[0:15],cluster,max_prb,ue_nr)"
   ]
  },
  {
   "cell_type": "code",
   "execution_count": 157,
   "metadata": {},
   "outputs": [
    {
     "data": {
      "text/plain": [
       "{133: 12.0, 320: 12.0}"
      ]
     },
     "execution_count": 157,
     "metadata": {},
     "output_type": "execute_result"
    }
   ],
   "source": [
    "eds.calculate_prb_number_mode2(ue_all[15:30],cluster,max_prb,ue_nr)"
   ]
  },
  {
   "cell_type": "code",
   "execution_count": 207,
   "metadata": {},
   "outputs": [
    {
     "ename": "NameError",
     "evalue": "name 'mean_rate_Gain_pf' is not defined",
     "output_type": "error",
     "traceback": [
      "\u001b[1;31m---------------------------------------------------------------------------\u001b[0m",
      "\u001b[1;31mNameError\u001b[0m                                 Traceback (most recent call last)",
      "\u001b[1;32m<ipython-input-207-48c226351f64>\u001b[0m in \u001b[0;36m<module>\u001b[1;34m\u001b[0m\n\u001b[1;32m----> 1\u001b[1;33m \u001b[0mplt\u001b[0m\u001b[1;33m.\u001b[0m\u001b[0mplot\u001b[0m\u001b[1;33m(\u001b[0m\u001b[0mmu_range\u001b[0m\u001b[1;33m,\u001b[0m\u001b[0mlist\u001b[0m\u001b[1;33m(\u001b[0m\u001b[0mmean_rate_Gain_pf\u001b[0m\u001b[1;33m[\u001b[0m\u001b[1;36m29\u001b[0m\u001b[1;33m]\u001b[0m\u001b[1;33m)\u001b[0m\u001b[1;33m,\u001b[0m\u001b[0mcolor\u001b[0m\u001b[1;33m=\u001b[0m\u001b[1;34m'#1f77b4'\u001b[0m\u001b[1;33m,\u001b[0m\u001b[0mlabel\u001b[0m\u001b[1;33m=\u001b[0m\u001b[1;34m'58 % - pf'\u001b[0m\u001b[1;33m)\u001b[0m\u001b[1;33m\u001b[0m\u001b[1;33m\u001b[0m\u001b[0m\n\u001b[0m\u001b[0;32m      2\u001b[0m \u001b[1;31m#plt.plot(mu_range,list(mean_rate_Gain[26]),color='#1f77b4',linestyle='dotted',label='40 % of prbs (mode-2)')\u001b[0m\u001b[1;33m\u001b[0m\u001b[1;33m\u001b[0m\u001b[1;33m\u001b[0m\u001b[0m\n\u001b[0;32m      3\u001b[0m \u001b[0mplt\u001b[0m\u001b[1;33m.\u001b[0m\u001b[0mplot\u001b[0m\u001b[1;33m(\u001b[0m\u001b[0mmu_range\u001b[0m\u001b[1;33m,\u001b[0m\u001b[0mlist\u001b[0m\u001b[1;33m(\u001b[0m\u001b[0mmean_rate_Gain_sR\u001b[0m\u001b[1;33m[\u001b[0m\u001b[1;36m29\u001b[0m\u001b[1;33m]\u001b[0m\u001b[1;33m)\u001b[0m\u001b[1;33m,\u001b[0m\u001b[0mcolor\u001b[0m\u001b[1;33m=\u001b[0m\u001b[1;34m'#1f77b4'\u001b[0m\u001b[1;33m,\u001b[0m\u001b[0mlinestyle\u001b[0m\u001b[1;33m=\u001b[0m\u001b[1;34m'dashed'\u001b[0m\u001b[1;33m,\u001b[0m \u001b[0mlabel\u001b[0m\u001b[1;33m=\u001b[0m\u001b[1;34m'58% - same Rates'\u001b[0m\u001b[1;33m)\u001b[0m\u001b[1;33m\u001b[0m\u001b[1;33m\u001b[0m\u001b[0m\n\u001b[0;32m      4\u001b[0m \u001b[0mplt\u001b[0m\u001b[1;33m.\u001b[0m\u001b[0mplot\u001b[0m\u001b[1;33m(\u001b[0m\u001b[0mmu_range\u001b[0m\u001b[1;33m,\u001b[0m\u001b[0mlist\u001b[0m\u001b[1;33m(\u001b[0m\u001b[0mmean_rate_Gain_pf\u001b[0m\u001b[1;33m[\u001b[0m\u001b[1;36m20\u001b[0m\u001b[1;33m]\u001b[0m\u001b[1;33m)\u001b[0m\u001b[1;33m,\u001b[0m\u001b[0mcolor\u001b[0m\u001b[1;33m=\u001b[0m\u001b[1;34m'darkorange'\u001b[0m\u001b[1;33m,\u001b[0m\u001b[0mlabel\u001b[0m\u001b[1;33m=\u001b[0m\u001b[1;34m'40 % - pf'\u001b[0m\u001b[1;33m)\u001b[0m\u001b[1;33m\u001b[0m\u001b[1;33m\u001b[0m\u001b[0m\n\u001b[0;32m      5\u001b[0m \u001b[1;31m#plt.plot(mu_range,list(mean_rate_Gain[26]),color='#1f77b4',linestyle='dotted',label='40 % of prbs (mode-2)')\u001b[0m\u001b[1;33m\u001b[0m\u001b[1;33m\u001b[0m\u001b[1;33m\u001b[0m\u001b[0m\n",
      "\u001b[1;31mNameError\u001b[0m: name 'mean_rate_Gain_pf' is not defined"
     ]
    }
   ],
   "source": [
    "plt.plot(mu_range,list(mean_rate_Gain_pf[29]),color='#1f77b4',label='58 % - pf')\n",
    "#plt.plot(mu_range,list(mean_rate_Gain[26]),color='#1f77b4',linestyle='dotted',label='40 % of prbs (mode-2)')\n",
    "plt.plot(mu_range,list(mean_rate_Gain_sR[29]),color='#1f77b4',linestyle='dashed', label='58% - same Rates')\n",
    "plt.plot(mu_range,list(mean_rate_Gain_pf[20]),color='d\n",
    "         \n",
    "         arkorange',label='40 % - pf')\n",
    "#plt.plot(mu_range,list(mean_rate_Gain[26]),color='#1f77b4',linestyle='dotted',label='40 % of prbs (mode-2)')\n",
    "plt.plot(mu_range,list(mean_rate_Gain_sR[20]),color='orange',linestyle='dashed', label='40% - same Rates')\n",
    "#plt.plot(mu_range,list(mean_rate_Gain[15]),color='#1f77b4',linestyle='dotted', label='comp 30 % of prbs')\n",
    "#plt.plot(mu_range,list(noCoMP_rate[20]),color='orange', label='no-comp')\n",
    "\n",
    "    #plt.legend()\n",
    "plt.grid()\n",
    "plt.legend( prop={'size': 14})\n",
    "plt.xlabel('packet arrival rate $\\mu$ [ms]',labelpad = 10)\n",
    "plt.ylabel('av. rate-gain [%]',labelpad = 10)\n",
    "count+=1"
   ]
  },
  {
   "cell_type": "code",
   "execution_count": 274,
   "metadata": {},
   "outputs": [
    {
     "data": {
      "image/png": "[encoded data removed]",
      "text/plain": [
       "<Figure size 553.48x342.069 with 1 Axes>"
      ]
     },
     "metadata": {},
     "output_type": "display_data"
    }
   ],
   "source": [
    "no_c=np.array([])\n",
    "c=np.array([])\n",
    "for i in prb_range:\n",
    "    c=np.append(c,fcomp[i][10])\n",
    "    no_c=np.append(no_c,fNocomp[i][10])\n",
    "    \n",
    "Mean_Gain_per_prb=np.array([])\n",
    "for i in prb_range:\n",
    "    Mean_Gain_per_prb=np.append(Mean_Gain_per_prb,mean_rate_Gain[i][10])\n",
    "\n",
    "plt.figure(figsize=(fig_width,fig_height)) \n",
    "parameters = {'axes.labelsize': 16,'axes.titlesize': 16,'xtick.labelsize':13,'ytick.labelsize':13,'figure.titlesize':20}\n",
    "plt.rcParams.update(parameters)\n",
    "\n",
    "\n",
    "count=0\n",
    "plt.plot((prb_range/50)*100,c,label='Fairness CoMP')\n",
    "plt.plot((prb_range/50)*100,no_c,label='Fairness no CoMP')\n",
    "\n",
    "#plt.legend()\n",
    "plt.grid()\n",
    "plt.xlabel('percentage of prbs for CoMP [%]',labelpad = 10)\n",
    "plt.ylabel('Fairness',labelpad = 14)\n",
    "plt.vlines(x=(18/max_prb)*100,ymin=0, ymax=1,ls=':',label='calculated prb size - mode2',colors='green')\n",
    "plt.legend( prop={'size': 9})\n",
    "count+=1"
   ]
  },
  {
   "cell_type": "code",
   "execution_count": null,
   "metadata": {},
   "outputs": [],
   "source": []
  }
 ],
 "metadata": {
  "kernelspec": {
   "display_name": "Python 3",
   "language": "python",
   "name": "python3"
  },
  "language_info": {
   "codemirror_mode": {
    "name": "ipython",
    "version": 3
   },
   "file_extension": ".py",
   "mimetype": "text/x-python",
   "name": "python",
   "nbconvert_exporter": "python",
   "pygments_lexer": "ipython3",
   "version": "3.8.5"
  },
  "latex_envs": {
   "LaTeX_envs_menu_present": true,
   "autoclose": false,
   "autocomplete": true,
   "bibliofile": "biblio.bib",
   "cite_by": "apalike",
   "current_citInitial": 1,
   "eqLabelWithNumbers": true,
   "eqNumInitial": 1,
   "hotkeys": {
    "equation": "Ctrl-E",
    "itemize": "Ctrl-I"
   },
   "labels_anchors": false,
   "latex_user_defs": false,
   "report_style_numbering": false,
   "user_envs_cfg": false
  }
 },
 "nbformat": 4,
 "nbformat_minor": 4
}
