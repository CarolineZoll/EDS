{
 "cells": [
  {
   "cell_type": "code",
   "execution_count": 1,
   "metadata": {},
   "outputs": [],
   "source": [
    "import eventDrivenSimulation as eds\n",
    "import simpy\n",
    "import numpy as np\n",
    "import pandas as pd\n",
    "import scipy\n",
    "import matplotlib.pyplot as plt\n",
    "import show as sh\n",
    "import requests\n",
    "import folium\n",
    "import haversine\n",
    "import math\n",
    "import bibliothek as bib\n",
    "import random"
   ]
  },
  {
   "cell_type": "markdown",
   "metadata": {},
   "source": [
    "### Setup of a simulation"
   ]
  },
  {
   "cell_type": "markdown",
   "metadata": {},
   "source": [
    "UE-Data is already generated or loaded & comp dataframe is generated"
   ]
  },
  {
   "cell_type": "code",
   "execution_count": 2,
   "metadata": {},
   "outputs": [],
   "source": [
    "df=pd.read_csv('ue_data_pandas')"
   ]
  },
  {
   "cell_type": "markdown",
   "metadata": {},
   "source": [
    "* Define parameters"
   ]
  },
  {
   "cell_type": "code",
   "execution_count": 3,
   "metadata": {},
   "outputs": [],
   "source": [
    "max_prb=50 #number of prbs defined by the system bandwidth\n",
    "ue_nr=15 #number of ues per pci\n",
    "metric=[1,1] #defines the exponents of the metric (standard metric is pf ->[1,1])\n",
    "cluster=[133,775]"
   ]
  },
  {
   "cell_type": "markdown",
   "metadata": {},
   "source": [
    "* choose a mode to get UEs from the UE-list r='random' (randomly selected),'determininstic' (first N user selected)\n",
    "* Define simulation environment\n",
    "* get users structured in a dictionary out of df (ue_dict)\n",
    "* get index of the users that will be selected"
   ]
  },
  {
   "cell_type": "code",
   "execution_count": 4,
   "metadata": {},
   "outputs": [
    {
     "name": "stdout",
     "output_type": "stream",
     "text": [
      "[[ 0  1  2  3  4  5  6  7  8  9 10 11 12 13 14]\n",
      " [ 0  1  2  3  4  5  6  7  8  9 10 11 12 13 14]]\n"
     ]
    }
   ],
   "source": [
    "#r='random'\n",
    "r='deterministic'\n",
    "env=simpy.Environment()\n",
    "ue_dict=eds.df_to_ue_lists(df,cluster,6,env)\n",
    "index=eds.select_user_index(r, ue_nr, ue_dict, cluster)\n",
    "print(index)"
   ]
  },
  {
   "cell_type": "markdown",
   "metadata": {},
   "source": [
    "* select the users from the defined index for each tp (ue_per_tp)\n",
    "* all users selcted for the simulation in one array (ue_all)\n",
    "* Define PRB number for comp user for different users for the cluster (dict that contains TP: prb_number)"
   ]
  },
  {
   "cell_type": "code",
   "execution_count": 5,
   "metadata": {},
   "outputs": [],
   "source": [
    "ue_per_tp,ue_all=eds.get_user_from_cluster(ue_dict,cluster,ue_nr,index)\n",
    "prb_number_comp=eds.calculate_prb_number_comp(ue_all,cluster,max_prb,ue_nr)"
   ]
  },
  {
   "cell_type": "markdown",
   "metadata": {},
   "source": [
    "* Define the schedulers (central scheduler & 1 scheduler for each TP)"
   ]
  },
  {
   "cell_type": "code",
   "execution_count": 6,
   "metadata": {},
   "outputs": [],
   "source": [
    "sched_l=[]\n",
    "sched_central=eds.sched_inst(env) #central scheduler\n",
    "for i in cluster:\n",
    "    sched_l.append(eds.sched_inst(env))"
   ]
  },
  {
   "cell_type": "markdown",
   "metadata": {},
   "source": [
    "* Define timer for scheduling events and packet arrival rate"
   ]
  },
  {
   "cell_type": "code",
   "execution_count": 7,
   "metadata": {},
   "outputs": [],
   "source": [
    "SCHEDULE_T=2\n",
    "mu=4"
   ]
  },
  {
   "cell_type": "markdown",
   "metadata": {},
   "source": [
    "* select the users that will use comp (ue_comp)\n",
    "* select the users that will NOT use comp (ue_noComp)"
   ]
  },
  {
   "cell_type": "code",
   "execution_count": 8,
   "metadata": {},
   "outputs": [],
   "source": [
    "ue_noCoMP,ue_comp=eds.seperate_comp_noCoMP(cluster,ue_per_tp)"
   ]
  },
  {
   "cell_type": "markdown",
   "metadata": {},
   "source": [
    "* Initialize the users that were selcted for the EDS and start the packet arrivals\n",
    "* Start the process for the central scheduler\n",
    "* Start the process for the other schedulers\n",
    "* run the simulation till the end of the timer"
   ]
  },
  {
   "cell_type": "code",
   "execution_count": 9,
   "metadata": {},
   "outputs": [
    {
     "data": {
      "text/plain": [
       "array([<eventDrivenSimulation.ue object at 0x0000026A5AFDDA30>,\n",
       "       <eventDrivenSimulation.ue object at 0x0000026A6D0FADF0>,\n",
       "       <eventDrivenSimulation.ue object at 0x0000026A6D0FAD30>,\n",
       "       <eventDrivenSimulation.ue object at 0x0000026A6D1AA640>,\n",
       "       <eventDrivenSimulation.ue object at 0x0000026A6D1AA280>,\n",
       "       <eventDrivenSimulation.ue object at 0x0000026A6D1AAD90>,\n",
       "       <eventDrivenSimulation.ue object at 0x0000026A6D136A00>,\n",
       "       <eventDrivenSimulation.ue object at 0x0000026A6D136B80>],\n",
       "      dtype=object)"
      ]
     },
     "execution_count": 9,
     "metadata": {},
     "output_type": "execute_result"
    }
   ],
   "source": [
    "ue_comp"
   ]
  },
  {
   "cell_type": "code",
   "execution_count": 10,
   "metadata": {},
   "outputs": [
    {
     "name": "stderr",
     "output_type": "stream",
     "text": [
      "C:\\Users\\Caroline Zoll\\EDS\\eventDrivenSimulation.py:240: RuntimeWarning: divide by zero encountered in double_scalars\n",
      "  metric=np.append(metric,((i.cp)**e1/(i.mR**e2)))\n",
      "C:\\Users\\Caroline Zoll\\EDS\\eventDrivenSimulation.py:270: RuntimeWarning: divide by zero encountered in double_scalars\n",
      "  metric=np.append(metric,((cp)**e1/(i.mR2)**e2))\n"
     ]
    }
   ],
   "source": [
    "for j in ue_all:\n",
    "    env.process(j.best_effort_stat(env,mu))\n",
    "\n",
    "env.process(sched_central.central_scheduler(env,ue_comp,SCHEDULE_T,cluster,prb_number_comp,metric,'phaseshift'))\n",
    "\n",
    "counter=0\n",
    "for i in cluster:\n",
    "    ue_list=ue_noCoMP[i]\n",
    "    ue_sep=ue_all[counter*ue_nr:((counter+1)*ue_nr)]\n",
    "    prb_number_normal=max_prb-prb_number_comp[i]\n",
    "    env.process(sched_l[counter].scheduler(env,ue_sep,SCHEDULE_T,cluster,max_prb,ue_list,prb_number_normal,metric))\n",
    "    counter=counter+1\n",
    "timer=2000\n",
    "env.run(until=timer)"
   ]
  },
  {
   "cell_type": "code",
   "execution_count": 11,
   "metadata": {},
   "outputs": [
    {
     "name": "stdout",
     "output_type": "stream",
     "text": [
      "1.0630085428640017\n"
     ]
    }
   ],
   "source": [
    "m=0\n",
    "for i in ue_all:\n",
    "    m+=i.mR2/i.mR\n",
    "print(m/len(ue_all))"
   ]
  },
  {
   "cell_type": "markdown",
   "metadata": {},
   "source": [
    "### All in one "
   ]
  },
  {
   "cell_type": "code",
   "execution_count": 12,
   "metadata": {},
   "outputs": [],
   "source": [
    "#r='random'\n",
    "r='deterministic'\n",
    "env=simpy.Environment()\n",
    "ue_dict=eds.df_to_ue_lists(df,cluster,6,env)\n",
    "index=eds.select_user_index(r, ue_nr, ue_dict, cluster)\n",
    "\n",
    "ue_per_tp,ue_all=eds.get_user_from_cluster(ue_dict,cluster,ue_nr,index)\n",
    "prb_number_comp=eds.calculate_prb_number_comp(ue_all,cluster,max_prb,ue_nr)\n",
    "\n",
    "sched_l=[]\n",
    "sched_central=eds.sched_inst(env) #central scheduler\n",
    "for i in cluster:\n",
    "    sched_l.append(eds.sched_inst(env))\n",
    "    \n",
    "SCHEDULE_T=2\n",
    "mu=4\n",
    "\n",
    "ue_noCoMP,ue_comp=eds.seperate_comp_noCoMP(cluster,ue_per_tp)\n",
    "\n",
    "for j in ue_all:\n",
    "    env.process(j.best_effort_stat(env,mu))\n",
    "\n",
    "env.process(sched_central.central_scheduler(env,ue_comp,SCHEDULE_T,cluster,prb_number_comp,metric,'phaseshift'))\n",
    "\n",
    "counter=0\n",
    "for i in cluster:\n",
    "    ue_list=ue_noCoMP[i]\n",
    "    ue_sep=ue_all[counter*ue_nr:((counter+1)*ue_nr)]\n",
    "    prb_number_normal=max_prb-prb_number_comp[i]\n",
    "    env.process(sched_l[counter].scheduler(env,ue_sep,SCHEDULE_T,cluster,max_prb,ue_list,prb_number_normal,metric))\n",
    "    counter=counter+1\n",
    "timer=2000\n",
    "env.run(until=timer)"
   ]
  },
  {
   "cell_type": "code",
   "execution_count": 13,
   "metadata": {},
   "outputs": [
    {
     "name": "stdout",
     "output_type": "stream",
     "text": [
      "1.0660845268861363\n"
     ]
    }
   ],
   "source": [
    "m=0\n",
    "for i in ue_all:\n",
    "    m+=i.mR2/i.mR\n",
    "print(m/len(ue_all))"
   ]
  }
 ],
 "metadata": {
  "kernelspec": {
   "display_name": "Python 3",
   "language": "python",
   "name": "python3"
  },
  "language_info": {
   "codemirror_mode": {
    "name": "ipython",
    "version": 3
   },
   "file_extension": ".py",
   "mimetype": "text/x-python",
   "name": "python",
   "nbconvert_exporter": "python",
   "pygments_lexer": "ipython3",
   "version": "3.8.5"
  },
  "latex_envs": {
   "LaTeX_envs_menu_present": true,
   "autoclose": false,
   "autocomplete": true,
   "bibliofile": "biblio.bib",
   "cite_by": "apalike",
   "current_citInitial": 1,
   "eqLabelWithNumbers": true,
   "eqNumInitial": 1,
   "hotkeys": {
    "equation": "Ctrl-E",
    "itemize": "Ctrl-I"
   },
   "labels_anchors": false,
   "latex_user_defs": false,
   "report_style_numbering": false,
   "user_envs_cfg": false
  }
 },
 "nbformat": 4,
 "nbformat_minor": 4
}
