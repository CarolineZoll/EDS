{
 "cells": [
  {
   "cell_type": "code",
   "execution_count": 1,
   "metadata": {},
   "outputs": [],
   "source": [
    "## Event Driven Simulation "
   ]
  },
  {
   "cell_type": "code",
   "execution_count": null,
   "metadata": {},
   "outputs": [],
   "source": [
    "### Scheduling CoMP"
   ]
  },
  {
   "cell_type": "code",
   "execution_count": null,
   "metadata": {},
   "outputs": [],
   "source": [
    "clear all"
   ]
  },
  {
   "cell_type": "code",
   "execution_count": null,
   "metadata": {},
   "outputs": [],
   "source": [
    "import eds\n",
    "import simpy\n",
    "import numpy as np\n",
    "import pandas as pd\n",
    "import scipy\n",
    "SCHEDULE_T=2\n",
    "import matplotlib.pyplot as plt\n",
    "import show as sh"
   ]
  },
  {
   "cell_type": "code",
   "execution_count": null,
   "metadata": {},
   "outputs": [],
   "source": [
    "\n",
    "#env = simpy.rt.RealtimeEnvironment(factor=1/10)\n",
    "\n",
    "ue_list=np.array([])\n",
    "ue_list2=np.array([])\n",
    "#define UEs\n",
    "\n",
    "    \n",
    "max_prb=50\n",
    "thr=6\n",
    "cluster=[19,20]\n",
    "\n",
    "ue_nr=10\n",
    "\n",
    "x=np.append(np.ones(ue_nr)*19,np.ones(ue_nr)*20)\n",
    "y=np.append(np.ones(ue_nr)*20,np.ones(ue_nr)*19)\n",
    "sinr=np.random.randint(-2,10,ue_nr*2)\n",
    "sinr2=np.array([])\n",
    "for i in sinr:\n",
    "    sinr2=np.append(sinr2, i+np.random.randint(2,10))\n",
    "\n",
    "rt_nrt=np.array([])\n",
    "rt_nrt=np.append(rt_nrt,np.ones(ue_nr*2)*0)\n",
    "\n",
    "df=pd.DataFrame()\n",
    "df['PCI Serving']=x\n",
    "df['PCI Coord']=y\n",
    "df['JT_1 SINR [lin]']=sinr\n",
    "df['JT_2 SINR [lin]']=sinr2\n",
    "df['usage']=rt_nrt\n",
    "df['id']=np.arange(0,ue_nr*2)\n",
    "   \n",
    "df['PCI Serving']=df['PCI Serving'].astype('int')\n",
    "df['PCI Coord']=df['PCI Coord'].astype('int')\n",
    "\n",
    "df['JT_1 SINR [lin]']=df['JT_1 SINR [lin]'].astype('int')\n",
    "df['JT_2 SINR [lin]']=df['JT_2 SINR [lin]'].astype('int')\n",
    "\n",
    "df2=df"
   ]
  },
  {
   "cell_type": "markdown",
   "metadata": {},
   "source": [
    "#### Important Properties"
   ]
  },
  {
   "cell_type": "code",
   "execution_count": null,
   "metadata": {},
   "outputs": [],
   "source": [
    "metric=[0,1]\n",
    "size=1500\n",
    "ue_dict=eds.df_to_ue_lists(df,[19,20],6,env)\n",
    "ue_all=np.array([])\n",
    "for i in cluster:\n",
    "    ue_all=np.append(ue_all,ue_dict[i])\n",
    "\n",
    "prb_number_comp=eds.calculate_prb_number(ue_all,max_prb)\n",
    "prb_number_normal=max_prb-prb_number_comp\n"
   ]
  },
  {
   "cell_type": "code",
   "execution_count": null,
   "metadata": {},
   "outputs": [],
   "source": [
    "print('comp prb proportion',prb_number_comp/(prb_number_normal+prb_number_comp))\n",
    "print('comp user proportion',len(ue_comp)/len(ue_all))\n"
   ]
  },
  {
   "cell_type": "code",
   "execution_count": null,
   "metadata": {
    "code_folding": [
     14
    ]
   },
   "outputs": [],
   "source": [
    "env=simpy.Environment()\n",
    "#Start processes\n",
    "    \n",
    "for i in cluster:\n",
    "    ue_list=ue_dict[i]\n",
    "    for j in np.arange(0,ue_nr):\n",
    "        env.process(ue_list[j].best_effort(env,size))\n",
    "        \n",
    "ue_comp=np.array([]) #ues that use comp -> processed be central_scheduler\n",
    "for i in cluster:\n",
    "    ue_list=ue_dict[i]\n",
    "    new_ue_list=np.array([])\n",
    "    for j in ue_list:\n",
    "        if(j.comp == 0):\n",
    "            new_ue_list=np.append(new_ue_list,j)\n",
    "        else:\n",
    "            ue_comp=np.append(ue_comp,j)\n",
    "    ue_dict[i]=new_ue_list #user without comp\n",
    "    \n",
    "env.process(eds.central_scheduler(env,ue_comp,SCHEDULE_T,[19,20],prb_number_comp,metric))\n",
    "\n",
    "counter=0\n",
    "for i in cluster:\n",
    "    ue_list=ue_dict[i]\n",
    "    ue_sep=ue_all[counter*ue_nr:((counter+1)*ue_nr)]\n",
    "    print(len(ue_sep))\n",
    "    env.process(eds.scheduler(env,ue_sep,SCHEDULE_T,[19,20],max_prb,ue_list,prb_number_normal,metric))\n",
    "    counter=counter+1\n",
    "env.run(until=3000)"
   ]
  },
  {
   "cell_type": "code",
   "execution_count": null,
   "metadata": {},
   "outputs": [],
   "source": [
    "plt.figure(figsize=(12,6))\n",
    "plt.plot(list(ue_all[2].mon.keys()),list(ue_all[2].mon.values()),label='UE1 - RT')\n",
    "plt.plot(list(ue_all[15].mon.keys()),list(ue_all[15].mon.values()),label='UE2 - RT')\n",
    "plt.xlabel('Time-Slots in [1 ms]')\n",
    "plt.ylabel('Bits in buffer')\n",
    "plt.legend(loc=\"upper left\")\n",
    "plt.grid()"
   ]
  },
  {
   "cell_type": "code",
   "execution_count": 4,
   "metadata": {},
   "outputs": [],
   "source": [
    "\n",
    "sinr=round(sinr)\n",
    "sinr2=round(sinr2)\n",
    "if(sinr>30 or sinr2>30):\n",
    "    print('sinr out of range')\n",
    "    sinr=30\n",
    "    sinr2=30\n",
    "elif(sinr<-10):\n",
    "    print('sinr out of range')\n",
    "    sinr=-10\n",
    "    sinr2=-10\n",
    "else:\n",
    "    mapping=pd.read_csv('Data/sinr-tbs-mapping.csv')\n",
    "    tbs=mapping.iloc[sinr].values[1]\n",
    "    tbs2=mapping.iloc[sinr2].values[1]\n"
   ]
  },
  {
   "cell_type": "code",
   "execution_count": 6,
   "metadata": {},
   "outputs": [
    {
     "ename": "NameError",
     "evalue": "name 'mapping' is not defined",
     "output_type": "error",
     "traceback": [
      "\u001b[1;31m---------------------------------------------------------------------------\u001b[0m",
      "\u001b[1;31mNameError\u001b[0m                                 Traceback (most recent call last)",
      "\u001b[1;32m<ipython-input-6-603b06cfaa85>\u001b[0m in \u001b[0;36m<module>\u001b[1;34m\u001b[0m\n\u001b[1;32m----> 1\u001b[1;33m \u001b[0mmapping\u001b[0m\u001b[1;33m\u001b[0m\u001b[1;33m\u001b[0m\u001b[0m\n\u001b[0m",
      "\u001b[1;31mNameError\u001b[0m: name 'mapping' is not defined"
     ]
    }
   ],
   "source": [
    "mapping"
   ]
  },
  {
   "cell_type": "code",
   "execution_count": null,
   "metadata": {},
   "outputs": [],
   "source": []
  },
  {
   "cell_type": "code",
   "execution_count": null,
   "metadata": {},
   "outputs": [],
   "source": [
    "av=0\n",
    "liste=np.array([])\n",
    "for i in ue_all:\n",
    "    liste=np.append(liste,((i.mR2/i.mR)-1)*100)\n",
    "    av+=i.mR2/i.mR\n",
    "av=av/(ue_nr*2)\n",
    "print('CoMP-gain',av)\n",
    "\n",
    "sh.cdf_1(liste,'','red','CDF der Ratengewinne mit CoMP',min(liste),max(liste),'Gewinn [%]',60)"
   ]
  },
  {
   "cell_type": "code",
   "execution_count": null,
   "metadata": {
    "scrolled": true
   },
   "outputs": [],
   "source": [
    "max_prb=50\n",
    "ran= np.arange(600,3000,100)\n",
    "dict={}\n",
    "speicher={}\n",
    "sched_metric=[1,1]\n",
    "queue_len=np.array([])\n",
    "load1=np.array([])\n",
    "load2=np.array([])\n",
    "\n",
    "for k in ran:\n",
    "    print('round',k)\n",
    "    df=df2\n",
    "    env=simpy.Environment()\n",
    "\n",
    "    ue_dict=eds.df_to_ue_lists(df,[19,20],6,env)\n",
    "    ue_all=np.array([])\n",
    "    for i in cluster:\n",
    "        ue_all=np.append(ue_all,ue_dict[i])\n",
    "\n",
    "    prb_number_comp=eds.calculate_prb_number2(ue_all,max_prb)\n",
    "    prb_number_comp=15\n",
    "    prb_number_normal=max_prb-prb_number_comp\n",
    "\n",
    "    #Start processes\n",
    "\n",
    "    for i in cluster:\n",
    "        ue_list=ue_dict[i]\n",
    "        for j in np.arange(0,ue_nr):\n",
    "            env.process(ue_list[j].best_effort(env,(k)))\n",
    "\n",
    "    ue_comp=np.array([]) #ues that use comp -> processed be central_scheduler\n",
    "    for i in cluster:\n",
    "        ue_list=ue_dict[i]\n",
    "        new_ue_list=np.array([])\n",
    "        for j in ue_list:\n",
    "            if(j.comp == 0):\n",
    "                new_ue_list=np.append(new_ue_list,j)\n",
    "            else:\n",
    "                ue_comp=np.append(ue_comp,j)\n",
    "        ue_dict[i]=new_ue_list #user without comp\n",
    "\n",
    "    env.process(eds.central_scheduler(env,ue_comp,SCHEDULE_T,[19,20],prb_number_comp,sched_metric))\n",
    "\n",
    "    counter=0\n",
    "    for i in cluster:\n",
    "        ue_list=ue_dict[i]\n",
    "        ue_19=ue_all[counter*ue_nr:((counter+1)*ue_nr)]\n",
    "        env.process(eds.scheduler(env,ue_19,SCHEDULE_T,[19,20],max_prb,ue_list,prb_number_normal,sched_metric))\n",
    "        counter=counter+1\n",
    "    env.run(until=3000)\n",
    "             \n",
    "    av=0\n",
    "    empty=0\n",
    "    liste=np.array([])\n",
    "    for i in ue_all:\n",
    "        liste=np.append(liste,((i.mR2/i.mR)-1)*100)\n",
    "        av+=i.mR2/i.mR\n",
    "        if(i.queue.level!=0):\n",
    "            empty=1\n",
    "\n",
    "    queue_len=np.append(queue_len, empty)\n",
    "    av=av/(ue_nr*2)\n",
    "    dict.update({k:liste})\n",
    "    \n",
    "    count=0\n",
    "    count2=0\n",
    "    for i in ue_all[0:10]:\n",
    "        count+=np.ceil(k/i.tbs)\n",
    "    for i in ue_all[10:20]:\n",
    "        count2+=np.ceil(k/i.tbs)\n",
    "    \n",
    "    total=max_prb*5 #total number of prbs \n",
    "\n",
    "    load1=np.append(load1,count*100/total)\n",
    "    load2=np.append(load2,count2*100/total)\n",
    "    \n",
    "    #speicher.update({k:ue_all})\n",
    "    "
   ]
  },
  {
   "cell_type": "code",
   "execution_count": null,
   "metadata": {},
   "outputs": [],
   "source": [
    "l=np.array([])\n",
    "l2=np.array([])\n",
    "for i in ran:\n",
    "    x=dict.get(i)\n",
    "    m=x[0:ue_nr].mean()\n",
    "    m2=x[ue_nr:ue_nr*2].mean()\n",
    "    l=np.append(l,m)\n",
    "    l2=np.append(l2,m2)\n",
    "min_val=min(np.append(load1,load2))\n",
    "max_val=max(np.append(load1,load2))"
   ]
  },
  {
   "cell_type": "markdown",
   "metadata": {},
   "source": [
    "#### Auswertung Cell-1"
   ]
  },
  {
   "cell_type": "code",
   "execution_count": null,
   "metadata": {},
   "outputs": [],
   "source": [
    "plt.plot(load1,l,)\n",
    "plt.xlabel('Auslastung [%]')\n",
    "plt.ylabel('Gain with CoMP [%]')\n",
    "ax = plt.gca()\n",
    "ax.set_xlim([min_val,max_val])"
   ]
  },
  {
   "cell_type": "markdown",
   "metadata": {},
   "source": [
    "#### Auswertung Cell-2"
   ]
  },
  {
   "cell_type": "code",
   "execution_count": null,
   "metadata": {},
   "outputs": [],
   "source": [
    "plt.plot(load2,l2)\n",
    "plt.xlabel('Auslastung [%]')\n",
    "plt.ylabel('Gain with CoMP [%]')\n",
    "ax = plt.gca()\n",
    "ax.set_xlim([min_val,max_val])"
   ]
  },
  {
   "cell_type": "markdown",
   "metadata": {},
   "source": [
    "#### Auswertung all Cells"
   ]
  },
  {
   "cell_type": "code",
   "execution_count": null,
   "metadata": {},
   "outputs": [],
   "source": [
    "av=0\n",
    "liste=np.array([])\n",
    "ue=speicher[1100]\n",
    "for i in ue[0:20]:\n",
    "    liste=np.append(liste,((i.mR2/i.mR)-1)*100)\n",
    "    av+=i.mR2/i.mR\n",
    "av=av/(ue_nr*2)\n",
    "print('CoMP-gain',av)\n",
    "\n",
    "sh.cdf_1(liste,'','red','CDF der Ratengewinne mit CoMP',min(liste),max(liste),'Gewinn [%]',60)"
   ]
  },
  {
   "cell_type": "code",
   "execution_count": null,
   "metadata": {},
   "outputs": [],
   "source": [
    "av=0\n",
    "liste=np.array([])\n",
    "ue=speicher[1800]\n",
    "for i in ue[0:10]:\n",
    "    liste=np.append(liste,((i.mR2/i.mR)-1)*100)\n",
    "    av+=i.mR2/i.mR\n",
    "av=av/(ue_nr*2)\n",
    "print('CoMP-gain',av)\n",
    "\n",
    "sh.cdf_1(liste,'','red','CDF der Ratengewinne mit CoMP',min(liste),max(liste),'Gewinn [%]',60)"
   ]
  },
  {
   "cell_type": "code",
   "execution_count": null,
   "metadata": {},
   "outputs": [],
   "source": [
    "load2[13]"
   ]
  },
  {
   "cell_type": "markdown",
   "metadata": {},
   "source": [
    "## Same Rate Scheduling"
   ]
  },
  {
   "cell_type": "code",
   "execution_count": null,
   "metadata": {},
   "outputs": [],
   "source": [
    "dict2={}\n",
    "sched_metric=[0,1]\n",
    "queue_len=np.array([])\n",
    "\n",
    "load1_1=np.array([])\n",
    "load2_1=np.array([])\n",
    "for k in ran[0:20]:\n",
    "    print('new round',k)\n",
    "    df=df2\n",
    "    env=simpy.Environment()\n",
    "\n",
    "    ue_dict=eds.df_to_ue_lists(df,[19,20],6,env)\n",
    "    ue_all=np.array([])\n",
    "    for i in cluster:\n",
    "        ue_all=np.append(ue_all,ue_dict[i])\n",
    "\n",
    "    prb_number_comp=eds.calculate_prb_number2(ue_all,max_prb)\n",
    "    prb_number_normal=max_prb-prb_number_comp\n",
    "\n",
    "    #Start processes\n",
    "\n",
    "    for i in cluster:\n",
    "        ue_list=ue_dict[i]\n",
    "        for j in np.arange(0,ue_nr):\n",
    "            env.process(ue_list[j].best_effort(env,10*(k)))\n",
    "\n",
    "    ue_comp=np.array([]) #ues that use comp -> processed be central_scheduler\n",
    "    for i in cluster:\n",
    "        ue_list=ue_dict[i]\n",
    "        new_ue_list=np.array([])\n",
    "        for j in ue_list:\n",
    "            if(j.comp == 0):\n",
    "                new_ue_list=np.append(new_ue_list,j)\n",
    "            else:\n",
    "                ue_comp=np.append(ue_comp,j)\n",
    "        ue_dict[i]=new_ue_list #user without comp\n",
    "\n",
    "    env.process(eds.central_scheduler(env,ue_comp,SCHEDULE_T,[19,20],prb_number_comp,sched_metric))\n",
    "\n",
    "    counter=0\n",
    "    for i in cluster:\n",
    "        ue_list=ue_dict[i]\n",
    "        ue_19=ue_all[counter*ue_nr:((counter+1)*ue_nr)]\n",
    "        env.process(eds.scheduler(env,ue_19,SCHEDULE_T,[19,20],max_prb,ue_list,prb_number_normal,sched_metric))\n",
    "        counter=counter+1\n",
    "    env.run(until=3000)\n",
    "             \n",
    "    av=0\n",
    "    empty=0\n",
    "    liste=np.array([])\n",
    "    for i in ue_all:\n",
    "        liste=np.append(liste,((i.mR2/i.mR)-1)*100)\n",
    "        av+=i.mR2/i.mR\n",
    "        if(i.queue.level!=0):\n",
    "            empty=1\n",
    "\n",
    "    queue_len=np.append(queue_len, empty)\n",
    "    av=av/(ue_nr*2)\n",
    "    dict2.update({k:liste})\n",
    "    \n",
    "    count=0\n",
    "    count2=0\n",
    "    for i in ue_all[0:10]:\n",
    "        count+=np.ceil(k/i.tbs)\n",
    "    for i in ue_all[10:20]:\n",
    "        count2+=np.ceil(k/i.tbs)\n",
    "    \n",
    "    total=max_prb*5 #total number of prbs\n",
    "    \n",
    "    load1_1=np.append(load1_1,count*100/total)\n",
    "    load2_1=np.append(load2_1,count2*100/total)\n",
    "    "
   ]
  },
  {
   "cell_type": "code",
   "execution_count": null,
   "metadata": {},
   "outputs": [],
   "source": [
    "l=np.array([])\n",
    "l2=np.array([])\n",
    "for i in ran:\n",
    "    x=dict2.get(i)\n",
    "    m=x[0:ue_nr].mean()\n",
    "    m2=x[ue_nr:ue_nr*2].mean()\n",
    "    l=np.append(l,m)\n",
    "    l2=np.append(l2,m2)\n",
    "min_val=min(np.append(load1_1,load2_1))\n",
    "max_val=max(np.append(load1_1,load2_1))\n",
    "\n",
    "plt.plot(load1_1,l,)\n",
    "plt.xlabel('Auslastung [%]')\n",
    "plt.ylabel('Gain with CoMP [%]')\n",
    "ax = plt.gca()\n",
    "ax.set_xlim([min_val,max_val])"
   ]
  },
  {
   "cell_type": "code",
   "execution_count": null,
   "metadata": {},
   "outputs": [],
   "source": [
    "plt.plot(load2_1,l2,)\n",
    "plt.xlabel('Auslastung [%]')\n",
    "plt.ylabel('Gain with CoMP [%]')\n",
    "ax = plt.gca()\n",
    "ax.set_xlim([min_val,max_val])"
   ]
  }
 ],
 "metadata": {
  "kernelspec": {
   "display_name": "Python 3",
   "language": "python",
   "name": "python3"
  },
  "language_info": {
   "codemirror_mode": {
    "name": "ipython",
    "version": 3
   },
   "file_extension": ".py",
   "mimetype": "text/x-python",
   "name": "python",
   "nbconvert_exporter": "python",
   "pygments_lexer": "ipython3",
   "version": "3.8.5"
  },
  "latex_envs": {
   "LaTeX_envs_menu_present": true,
   "autoclose": false,
   "autocomplete": true,
   "bibliofile": "biblio.bib",
   "cite_by": "apalike",
   "current_citInitial": 1,
   "eqLabelWithNumbers": true,
   "eqNumInitial": 1,
   "hotkeys": {
    "equation": "Ctrl-E",
    "itemize": "Ctrl-I"
   },
   "labels_anchors": false,
   "latex_user_defs": false,
   "report_style_numbering": false,
   "user_envs_cfg": false
  }
 },
 "nbformat": 4,
 "nbformat_minor": 4
}
