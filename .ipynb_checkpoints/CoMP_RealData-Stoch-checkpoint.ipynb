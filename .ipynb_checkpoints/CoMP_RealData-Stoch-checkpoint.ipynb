{
 "cells": [
  {
   "cell_type": "code",
   "execution_count": 4,
   "metadata": {},
   "outputs": [],
   "source": [
    "import eds\n",
    "import simpy\n",
    "import numpy as np\n",
    "import pandas as pd\n",
    "import scipy\n",
    "import matplotlib.pyplot as plt\n",
    "import show as sh"
   ]
  },
  {
   "cell_type": "code",
   "execution_count": 5,
   "metadata": {},
   "outputs": [
    {
     "name": "stdout",
     "output_type": "stream",
     "text": [
      "\f",
      "\n"
     ]
    }
   ],
   "source": [
    "clear all"
   ]
  },
  {
   "cell_type": "code",
   "execution_count": 6,
   "metadata": {},
   "outputs": [],
   "source": [
    "df=pd.read_csv('Prepro/Test-Data',index_col='Unnamed: 0')\n",
    "sectors=df['PCI Serving'].unique()\n",
    "cluster=[775,133]"
   ]
  },
  {
   "cell_type": "code",
   "execution_count": 7,
   "metadata": {},
   "outputs": [],
   "source": [
    "sectors=df['PCI Serving'].unique()"
   ]
  },
  {
   "cell_type": "code",
   "execution_count": 8,
   "metadata": {},
   "outputs": [],
   "source": [
    "cluster=[775,133]"
   ]
  },
  {
   "cell_type": "code",
   "execution_count": 10,
   "metadata": {},
   "outputs": [],
   "source": [
    "max_prb=50\n",
    "ue_nr=10\n",
    "metric=[1,1]\n",
    "size=4000\n",
    "env=simpy.Environment()\n",
    "ue_dict=eds.df_to_ue_lists(df,cluster,6,env)\n",
    "ue_dict_red2,ue_all=eds.get_user_from_cluster(ue_dict,cluster)\n",
    "prb_number_comp=37\n",
    "prb_number_normal=max_prb-prb_number_comp\n"
   ]
  },
  {
   "cell_type": "code",
   "execution_count": 29,
   "metadata": {},
   "outputs": [
    {
     "name": "stderr",
     "output_type": "stream",
     "text": [
      "C:\\Users\\Caroline Zoll\\EDS\\eds.py:202: RuntimeWarning: divide by zero encountered in double_scalars\n",
      "  metric=np.append(metric,((i.cp)**e1/(i.mR**e2)))\n",
      "C:\\Users\\Caroline Zoll\\EDS\\eds.py:232: RuntimeWarning: divide by zero encountered in double_scalars\n",
      "  metric=np.append(metric,((cp)**e1/(i.mR2)**e2))\n"
     ]
    },
    {
     "name": "stdout",
     "output_type": "stream",
     "text": [
      "remaining res comp1: 5.0\n"
     ]
    }
   ],
   "source": [
    "load1=np.array([])\n",
    "load2=np.array([])\n",
    "speicher={}\n",
    "queue_len=np.array([])\n",
    "ran=np.arange(1,50,1)\n",
    "for k in ran:\n",
    "    env = env=simpy.Environment()\n",
    "\n",
    "    ue_dict=eds.df_to_ue_lists(df,cluster,6,env)\n",
    "    ue_dict_red2,ue_all=eds.get_user_from_cluster(ue_dict,cluster)\n",
    "    \n",
    "    env=simpy.Environment()\n",
    "    #Start processes\n",
    "\n",
    "    SCHEDULE_T=2 #Clock des Schedulers \n",
    "    for i in cluster:\n",
    "        ue_list=ue_dict_red2[i]\n",
    "        for j in ue_list:\n",
    "            env.process(j.best_effort_stat(env,k))\n",
    "\n",
    "    ue_comp=np.array([]) #ues that use comp -> processed by central_scheduler\n",
    "    for i in cluster:\n",
    "        ue_list=ue_dict_red2[i]\n",
    "        new_ue_list=np.array([])\n",
    "        for j in ue_list:\n",
    "            if(j.comp == 0):\n",
    "                new_ue_list=np.append(new_ue_list,j)\n",
    "            else:\n",
    "                ue_comp=np.append(ue_comp,j)\n",
    "        ue_dict[i]=new_ue_list #user without comp\n",
    "\n",
    "    env.process(eds.central_scheduler(env,ue_comp,SCHEDULE_T,cluster,prb_number_comp,metric))\n",
    "\n",
    "    counter=0\n",
    "    for i in cluster:\n",
    "        ue_list=ue_dict[i]\n",
    "        ue_sep=ue_all[counter*ue_nr:((counter+1)*ue_nr)]\n",
    "        env.process(eds.scheduler(env,ue_sep,SCHEDULE_T,cluster,max_prb,ue_list,prb_number_normal,metric))\n",
    "        counter=counter+1\n",
    "    env.run(until=1000)\n",
    "    liste=np.array([])\n",
    "    \n",
    "    for i in ue_all:\n",
    "        liste=np.append(liste,((i.mR2/i.mR)-1)*100)\n",
    "        av+=i.mR2/i.mR\n",
    "        if(i.queue.level!=0):\n",
    "            empty=1\n",
    "    \n",
    "    queue_len=np.append(queue_len, empty)\n",
    "    av=av/(ue_nr*2)\n",
    "    speicher.update({k:liste})\n",
    "    \n",
    "    \n",
    "    count=0\n",
    "    count2=0\n",
    "    for i in ue_all[0:10]:\n",
    "        count+=np.ceil(k/i.tbs)\n",
    "    for i in ue_all[10:20]:\n",
    "        count2+=np.ceil(k/i.tbs)\n",
    "    \n",
    "    total=max_prb*5 #total number of prbs \n",
    "\n",
    "    load1=np.append(load1,count*100/total)\n",
    "    load2=np.append(load2,count2*100/total)"
   ]
  },
  {
   "cell_type": "code",
   "execution_count": 30,
   "metadata": {},
   "outputs": [],
   "source": [
    "l=np.array([])\n",
    "l2=np.array([])\n",
    "for i in ran:\n",
    "    x=speicher.get(i)\n",
    "    m=x[0:ue_nr].mean()\n",
    "    m2=x[ue_nr:ue_nr*2].mean()\n",
    "    l=np.append(l,m)\n",
    "    l2=np.append(l2,m2)\n",
    "min_val=min(np.append(load1,load2))\n",
    "max_val=max(np.append(load1,load2))"
   ]
  },
  {
   "cell_type": "code",
   "execution_count": 41,
   "metadata": {},
   "outputs": [
    {
     "data": {
      "text/plain": [
       "<matplotlib.legend.Legend at 0x20add6f9dc0>"
      ]
     },
     "execution_count": 41,
     "metadata": {},
     "output_type": "execute_result"
    },
    {
     "data": {
      "image/png": "[encoded data removed]",
      "text/plain": [
       "<Figure size 432x288 with 1 Axes>"
      ]
     },
     "metadata": {
      "needs_background": "light"
     },
     "output_type": "display_data"
    }
   ],
   "source": [
    "plt.plot(ran,l,label='cell1')\n",
    "plt.plot(ran,l2,label='cell2')\n",
    "plt.plot(ran,(l2+l)/2,label='av')\n",
    "plt.xlabel(' Av. Ankunftszeit [ms]')\n",
    "plt.ylabel('Gain with CoMP [%]')\n",
    "plt.legend(loc='upper right')\n"
   ]
  },
  {
   "cell_type": "code",
   "execution_count": null,
   "metadata": {},
   "outputs": [],
   "source": []
  },
  {
   "cell_type": "code",
   "execution_count": 49,
   "metadata": {},
   "outputs": [
    {
     "data": {
      "text/html": [
       "<div>\n",
       "<style scoped>\n",
       "    .dataframe tbody tr th:only-of-type {\n",
       "        vertical-align: middle;\n",
       "    }\n",
       "\n",
       "    .dataframe tbody tr th {\n",
       "        vertical-align: top;\n",
       "    }\n",
       "\n",
       "    .dataframe thead th {\n",
       "        text-align: right;\n",
       "    }\n",
       "</style>\n",
       "<table border=\"1\" class=\"dataframe\">\n",
       "  <thead>\n",
       "    <tr style=\"text-align: right;\">\n",
       "      <th></th>\n",
       "      <th>PCI Serving</th>\n",
       "      <th>PCI Coord</th>\n",
       "      <th>JT_1 SINR [dB]</th>\n",
       "      <th>JT_2 SINR [dB]</th>\n",
       "      <th>usage</th>\n",
       "      <th>id</th>\n",
       "    </tr>\n",
       "  </thead>\n",
       "  <tbody>\n",
       "    <tr>\n",
       "      <th>27</th>\n",
       "      <td>133</td>\n",
       "      <td>320</td>\n",
       "      <td>2.405651</td>\n",
       "      <td>6.717764</td>\n",
       "      <td>0.0</td>\n",
       "      <td>27</td>\n",
       "    </tr>\n",
       "    <tr>\n",
       "      <th>29</th>\n",
       "      <td>133</td>\n",
       "      <td>775</td>\n",
       "      <td>-1.563275</td>\n",
       "      <td>4.954945</td>\n",
       "      <td>0.0</td>\n",
       "      <td>29</td>\n",
       "    </tr>\n",
       "    <tr>\n",
       "      <th>30</th>\n",
       "      <td>133</td>\n",
       "      <td>320</td>\n",
       "      <td>2.778218</td>\n",
       "      <td>8.049792</td>\n",
       "      <td>0.0</td>\n",
       "      <td>30</td>\n",
       "    </tr>\n",
       "    <tr>\n",
       "      <th>32</th>\n",
       "      <td>133</td>\n",
       "      <td>775</td>\n",
       "      <td>-4.056027</td>\n",
       "      <td>2.259653</td>\n",
       "      <td>0.0</td>\n",
       "      <td>32</td>\n",
       "    </tr>\n",
       "    <tr>\n",
       "      <th>43</th>\n",
       "      <td>133</td>\n",
       "      <td>320</td>\n",
       "      <td>2.487849</td>\n",
       "      <td>7.591798</td>\n",
       "      <td>0.0</td>\n",
       "      <td>43</td>\n",
       "    </tr>\n",
       "    <tr>\n",
       "      <th>57</th>\n",
       "      <td>133</td>\n",
       "      <td>775</td>\n",
       "      <td>-1.621674</td>\n",
       "      <td>4.865466</td>\n",
       "      <td>0.0</td>\n",
       "      <td>57</td>\n",
       "    </tr>\n",
       "    <tr>\n",
       "      <th>58</th>\n",
       "      <td>133</td>\n",
       "      <td>320</td>\n",
       "      <td>2.495852</td>\n",
       "      <td>7.604191</td>\n",
       "      <td>0.0</td>\n",
       "      <td>58</td>\n",
       "    </tr>\n",
       "    <tr>\n",
       "      <th>61</th>\n",
       "      <td>133</td>\n",
       "      <td>320</td>\n",
       "      <td>1.956370</td>\n",
       "      <td>7.661257</td>\n",
       "      <td>0.0</td>\n",
       "      <td>61</td>\n",
       "    </tr>\n",
       "    <tr>\n",
       "      <th>67</th>\n",
       "      <td>133</td>\n",
       "      <td>319</td>\n",
       "      <td>-3.160994</td>\n",
       "      <td>2.692068</td>\n",
       "      <td>0.0</td>\n",
       "      <td>67</td>\n",
       "    </tr>\n",
       "    <tr>\n",
       "      <th>74</th>\n",
       "      <td>133</td>\n",
       "      <td>319</td>\n",
       "      <td>-2.269692</td>\n",
       "      <td>3.148593</td>\n",
       "      <td>0.0</td>\n",
       "      <td>74</td>\n",
       "    </tr>\n",
       "    <tr>\n",
       "      <th>83</th>\n",
       "      <td>133</td>\n",
       "      <td>320</td>\n",
       "      <td>2.951561</td>\n",
       "      <td>7.491035</td>\n",
       "      <td>0.0</td>\n",
       "      <td>83</td>\n",
       "    </tr>\n",
       "    <tr>\n",
       "      <th>92</th>\n",
       "      <td>133</td>\n",
       "      <td>775</td>\n",
       "      <td>-0.385987</td>\n",
       "      <td>4.972884</td>\n",
       "      <td>0.0</td>\n",
       "      <td>92</td>\n",
       "    </tr>\n",
       "    <tr>\n",
       "      <th>119</th>\n",
       "      <td>133</td>\n",
       "      <td>775</td>\n",
       "      <td>-0.481782</td>\n",
       "      <td>4.152851</td>\n",
       "      <td>0.0</td>\n",
       "      <td>119</td>\n",
       "    </tr>\n",
       "    <tr>\n",
       "      <th>158</th>\n",
       "      <td>133</td>\n",
       "      <td>320</td>\n",
       "      <td>1.616801</td>\n",
       "      <td>6.308760</td>\n",
       "      <td>0.0</td>\n",
       "      <td>158</td>\n",
       "    </tr>\n",
       "    <tr>\n",
       "      <th>162</th>\n",
       "      <td>133</td>\n",
       "      <td>319</td>\n",
       "      <td>-2.435656</td>\n",
       "      <td>3.677117</td>\n",
       "      <td>0.0</td>\n",
       "      <td>162</td>\n",
       "    </tr>\n",
       "    <tr>\n",
       "      <th>164</th>\n",
       "      <td>133</td>\n",
       "      <td>320</td>\n",
       "      <td>-3.866055</td>\n",
       "      <td>2.514132</td>\n",
       "      <td>0.0</td>\n",
       "      <td>164</td>\n",
       "    </tr>\n",
       "    <tr>\n",
       "      <th>179</th>\n",
       "      <td>133</td>\n",
       "      <td>775</td>\n",
       "      <td>-0.188658</td>\n",
       "      <td>5.253193</td>\n",
       "      <td>0.0</td>\n",
       "      <td>179</td>\n",
       "    </tr>\n",
       "    <tr>\n",
       "      <th>180</th>\n",
       "      <td>133</td>\n",
       "      <td>775</td>\n",
       "      <td>-1.060530</td>\n",
       "      <td>4.811497</td>\n",
       "      <td>0.0</td>\n",
       "      <td>180</td>\n",
       "    </tr>\n",
       "    <tr>\n",
       "      <th>188</th>\n",
       "      <td>133</td>\n",
       "      <td>320</td>\n",
       "      <td>-3.454915</td>\n",
       "      <td>5.172690</td>\n",
       "      <td>0.0</td>\n",
       "      <td>188</td>\n",
       "    </tr>\n",
       "    <tr>\n",
       "      <th>190</th>\n",
       "      <td>133</td>\n",
       "      <td>320</td>\n",
       "      <td>-1.265258</td>\n",
       "      <td>6.582263</td>\n",
       "      <td>0.0</td>\n",
       "      <td>190</td>\n",
       "    </tr>\n",
       "    <tr>\n",
       "      <th>204</th>\n",
       "      <td>133</td>\n",
       "      <td>320</td>\n",
       "      <td>0.795845</td>\n",
       "      <td>6.746226</td>\n",
       "      <td>0.0</td>\n",
       "      <td>204</td>\n",
       "    </tr>\n",
       "    <tr>\n",
       "      <th>212</th>\n",
       "      <td>133</td>\n",
       "      <td>320</td>\n",
       "      <td>1.010097</td>\n",
       "      <td>6.194357</td>\n",
       "      <td>0.0</td>\n",
       "      <td>212</td>\n",
       "    </tr>\n",
       "    <tr>\n",
       "      <th>218</th>\n",
       "      <td>133</td>\n",
       "      <td>320</td>\n",
       "      <td>2.220897</td>\n",
       "      <td>7.185340</td>\n",
       "      <td>0.0</td>\n",
       "      <td>218</td>\n",
       "    </tr>\n",
       "    <tr>\n",
       "      <th>220</th>\n",
       "      <td>133</td>\n",
       "      <td>320</td>\n",
       "      <td>0.552432</td>\n",
       "      <td>4.875812</td>\n",
       "      <td>0.0</td>\n",
       "      <td>220</td>\n",
       "    </tr>\n",
       "    <tr>\n",
       "      <th>222</th>\n",
       "      <td>133</td>\n",
       "      <td>775</td>\n",
       "      <td>-5.316767</td>\n",
       "      <td>1.373205</td>\n",
       "      <td>0.0</td>\n",
       "      <td>222</td>\n",
       "    </tr>\n",
       "    <tr>\n",
       "      <th>224</th>\n",
       "      <td>133</td>\n",
       "      <td>775</td>\n",
       "      <td>-0.098659</td>\n",
       "      <td>4.653714</td>\n",
       "      <td>0.0</td>\n",
       "      <td>224</td>\n",
       "    </tr>\n",
       "    <tr>\n",
       "      <th>225</th>\n",
       "      <td>133</td>\n",
       "      <td>320</td>\n",
       "      <td>-2.329001</td>\n",
       "      <td>5.919379</td>\n",
       "      <td>0.0</td>\n",
       "      <td>225</td>\n",
       "    </tr>\n",
       "    <tr>\n",
       "      <th>229</th>\n",
       "      <td>133</td>\n",
       "      <td>319</td>\n",
       "      <td>-3.932340</td>\n",
       "      <td>2.424909</td>\n",
       "      <td>0.0</td>\n",
       "      <td>229</td>\n",
       "    </tr>\n",
       "    <tr>\n",
       "      <th>241</th>\n",
       "      <td>133</td>\n",
       "      <td>775</td>\n",
       "      <td>-4.418191</td>\n",
       "      <td>1.784400</td>\n",
       "      <td>0.0</td>\n",
       "      <td>241</td>\n",
       "    </tr>\n",
       "    <tr>\n",
       "      <th>242</th>\n",
       "      <td>133</td>\n",
       "      <td>320</td>\n",
       "      <td>-1.614249</td>\n",
       "      <td>5.943965</td>\n",
       "      <td>0.0</td>\n",
       "      <td>242</td>\n",
       "    </tr>\n",
       "    <tr>\n",
       "      <th>249</th>\n",
       "      <td>133</td>\n",
       "      <td>775</td>\n",
       "      <td>-5.316767</td>\n",
       "      <td>1.373205</td>\n",
       "      <td>0.0</td>\n",
       "      <td>249</td>\n",
       "    </tr>\n",
       "    <tr>\n",
       "      <th>251</th>\n",
       "      <td>133</td>\n",
       "      <td>320</td>\n",
       "      <td>-1.936982</td>\n",
       "      <td>4.392842</td>\n",
       "      <td>0.0</td>\n",
       "      <td>251</td>\n",
       "    </tr>\n",
       "    <tr>\n",
       "      <th>258</th>\n",
       "      <td>133</td>\n",
       "      <td>320</td>\n",
       "      <td>0.235846</td>\n",
       "      <td>5.102891</td>\n",
       "      <td>0.0</td>\n",
       "      <td>258</td>\n",
       "    </tr>\n",
       "    <tr>\n",
       "      <th>283</th>\n",
       "      <td>133</td>\n",
       "      <td>775</td>\n",
       "      <td>-1.313406</td>\n",
       "      <td>4.448699</td>\n",
       "      <td>0.0</td>\n",
       "      <td>283</td>\n",
       "    </tr>\n",
       "    <tr>\n",
       "      <th>293</th>\n",
       "      <td>133</td>\n",
       "      <td>775</td>\n",
       "      <td>-0.233888</td>\n",
       "      <td>5.188465</td>\n",
       "      <td>0.0</td>\n",
       "      <td>293</td>\n",
       "    </tr>\n",
       "  </tbody>\n",
       "</table>\n",
       "</div>"
      ],
      "text/plain": [
       "     PCI Serving  PCI Coord  JT_1 SINR [dB]  JT_2 SINR [dB]  usage   id\n",
       "27           133        320        2.405651        6.717764    0.0   27\n",
       "29           133        775       -1.563275        4.954945    0.0   29\n",
       "30           133        320        2.778218        8.049792    0.0   30\n",
       "32           133        775       -4.056027        2.259653    0.0   32\n",
       "43           133        320        2.487849        7.591798    0.0   43\n",
       "57           133        775       -1.621674        4.865466    0.0   57\n",
       "58           133        320        2.495852        7.604191    0.0   58\n",
       "61           133        320        1.956370        7.661257    0.0   61\n",
       "67           133        319       -3.160994        2.692068    0.0   67\n",
       "74           133        319       -2.269692        3.148593    0.0   74\n",
       "83           133        320        2.951561        7.491035    0.0   83\n",
       "92           133        775       -0.385987        4.972884    0.0   92\n",
       "119          133        775       -0.481782        4.152851    0.0  119\n",
       "158          133        320        1.616801        6.308760    0.0  158\n",
       "162          133        319       -2.435656        3.677117    0.0  162\n",
       "164          133        320       -3.866055        2.514132    0.0  164\n",
       "179          133        775       -0.188658        5.253193    0.0  179\n",
       "180          133        775       -1.060530        4.811497    0.0  180\n",
       "188          133        320       -3.454915        5.172690    0.0  188\n",
       "190          133        320       -1.265258        6.582263    0.0  190\n",
       "204          133        320        0.795845        6.746226    0.0  204\n",
       "212          133        320        1.010097        6.194357    0.0  212\n",
       "218          133        320        2.220897        7.185340    0.0  218\n",
       "220          133        320        0.552432        4.875812    0.0  220\n",
       "222          133        775       -5.316767        1.373205    0.0  222\n",
       "224          133        775       -0.098659        4.653714    0.0  224\n",
       "225          133        320       -2.329001        5.919379    0.0  225\n",
       "229          133        319       -3.932340        2.424909    0.0  229\n",
       "241          133        775       -4.418191        1.784400    0.0  241\n",
       "242          133        320       -1.614249        5.943965    0.0  242\n",
       "249          133        775       -5.316767        1.373205    0.0  249\n",
       "251          133        320       -1.936982        4.392842    0.0  251\n",
       "258          133        320        0.235846        5.102891    0.0  258\n",
       "283          133        775       -1.313406        4.448699    0.0  283\n",
       "293          133        775       -0.233888        5.188465    0.0  293"
      ]
     },
     "execution_count": 49,
     "metadata": {},
     "output_type": "execute_result"
    }
   ],
   "source": [
    "df[df['PCI Serving']==133]"
   ]
  },
  {
   "cell_type": "code",
   "execution_count": 44,
   "metadata": {},
   "outputs": [
    {
     "data": {
      "text/plain": [
       "-19.191548656731307"
      ]
     },
     "execution_count": 44,
     "metadata": {},
     "output_type": "execute_result"
    }
   ],
   "source": [
    "sinr2"
   ]
  },
  {
   "cell_type": "code",
   "execution_count": 33,
   "metadata": {},
   "outputs": [
    {
     "data": {
      "text/plain": [
       "Text(0, 0.5, 'Gain with CoMP [%]')"
      ]
     },
     "execution_count": 33,
     "metadata": {},
     "output_type": "execute_result"
    },
    {
     "data": {
      "image/png": "[encoded data removed]",
      "text/plain": [
       "<Figure size 432x288 with 1 Axes>"
      ]
     },
     "metadata": {
      "needs_background": "light"
     },
     "output_type": "display_data"
    }
   ],
   "source": [
    "plt.plot(ran,l2)\n",
    "plt.xlabel('Ankunftszeit')\n",
    "plt.ylabel('Gain with CoMP [%]')"
   ]
  },
  {
   "cell_type": "code",
   "execution_count": 34,
   "metadata": {},
   "outputs": [
    {
     "data": {
      "text/plain": [
       "Text(0, 0.5, 'Gain with CoMP [%]')"
      ]
     },
     "execution_count": 34,
     "metadata": {},
     "output_type": "execute_result"
    },
    {
     "data": {
      "image/png": "[encoded data removed]",
      "text/plain": [
       "<Figure size 432x288 with 1 Axes>"
      ]
     },
     "metadata": {
      "needs_background": "light"
     },
     "output_type": "display_data"
    }
   ],
   "source": [
    "plt.plot(ran,(l+l2)/2)\n",
    "plt.xlabel('Ankunftszeit')\n",
    "plt.ylabel('Gain with CoMP [%]')"
   ]
  }
 ],
 "metadata": {
  "kernelspec": {
   "display_name": "Python 3",
   "language": "python",
   "name": "python3"
  },
  "language_info": {
   "codemirror_mode": {
    "name": "ipython",
    "version": 3
   },
   "file_extension": ".py",
   "mimetype": "text/x-python",
   "name": "python",
   "nbconvert_exporter": "python",
   "pygments_lexer": "ipython3",
   "version": "3.8.5"
  },
  "latex_envs": {
   "LaTeX_envs_menu_present": true,
   "autoclose": false,
   "autocomplete": true,
   "bibliofile": "biblio.bib",
   "cite_by": "apalike",
   "current_citInitial": 1,
   "eqLabelWithNumbers": true,
   "eqNumInitial": 1,
   "hotkeys": {
    "equation": "Ctrl-E",
    "itemize": "Ctrl-I"
   },
   "labels_anchors": false,
   "latex_user_defs": false,
   "report_style_numbering": false,
   "user_envs_cfg": false
  }
 },
 "nbformat": 4,
 "nbformat_minor": 4
}
