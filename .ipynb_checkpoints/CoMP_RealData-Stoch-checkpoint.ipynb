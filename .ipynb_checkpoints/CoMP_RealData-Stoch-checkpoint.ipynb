{
 "cells": [
  {
   "cell_type": "code",
   "execution_count": 1,
   "metadata": {},
   "outputs": [],
   "source": [
    "import eds\n",
    "import simpy\n",
    "import numpy as np\n",
    "import pandas as pd\n",
    "import scipy\n",
    "import matplotlib.pyplot as plt\n",
    "import show as sh"
   ]
  },
  {
   "cell_type": "code",
   "execution_count": 2,
   "metadata": {},
   "outputs": [
    {
     "name": "stdout",
     "output_type": "stream",
     "text": [
      "\f",
      "\n"
     ]
    }
   ],
   "source": [
    "clear all"
   ]
  },
  {
   "cell_type": "code",
   "execution_count": 3,
   "metadata": {},
   "outputs": [],
   "source": [
    "df=pd.read_csv('Prepro/Test-Data',index_col='Unnamed: 0')\n",
    "sectors=df['PCI Serving'].unique()\n",
    "cluster=[775,133]"
   ]
  },
  {
   "cell_type": "code",
   "execution_count": 4,
   "metadata": {},
   "outputs": [],
   "source": [
    "sectors=df['PCI Serving'].unique()"
   ]
  },
  {
   "cell_type": "code",
   "execution_count": 5,
   "metadata": {},
   "outputs": [],
   "source": [
    "cluster=[775,133]"
   ]
  },
  {
   "cell_type": "code",
   "execution_count": 37,
   "metadata": {},
   "outputs": [],
   "source": [
    "max_prb=50\n",
    "ue_nr=10\n",
    "metric=[1,1]\n",
    "size=4000\n",
    "env=simpy.Environment()\n",
    "ue_dict=eds.df_to_ue_lists(df,cluster,6,env)\n",
    "ue_dict_red2,ue_all=eds.get_user_from_cluster(ue_dict,cluster)\n",
    "prb_number_comp=37\n",
    "prb_number_normal=max_prb-prb_number_comp\n"
   ]
  },
  {
   "cell_type": "code",
   "execution_count": 38,
   "metadata": {},
   "outputs": [
    {
     "name": "stderr",
     "output_type": "stream",
     "text": [
      "C:\\Users\\Caroline Zoll\\EDS\\eds.py:202: RuntimeWarning: divide by zero encountered in double_scalars\n",
      "  metric=np.append(metric,((i.cp)**e1/(i.mR**e2)))\n",
      "C:\\Users\\Caroline Zoll\\EDS\\eds.py:232: RuntimeWarning: divide by zero encountered in double_scalars\n",
      "  metric=np.append(metric,((cp)**e1/(i.mR2)**e2))\n"
     ]
    }
   ],
   "source": [
    "load1=np.array([])\n",
    "load2=np.array([])\n",
    "speicher={}\n",
    "queue_len=np.array([])\n",
    "ran=np.arange(1,50,1)\n",
    "for k in ran:\n",
    "    env = env=simpy.Environment()\n",
    "\n",
    "    ue_dict=eds.df_to_ue_lists(df,cluster,6,env)\n",
    "    ue_dict_red2,ue_all=eds.get_user_from_cluster(ue_dict,cluster)\n",
    "    \n",
    "    env=simpy.Environment()\n",
    "    #Start processes\n",
    "\n",
    "    SCHEDULE_T=2 #Clock des Schedulers \n",
    "    for i in cluster:\n",
    "        ue_list=ue_dict_red2[i]\n",
    "        for j in ue_list:\n",
    "            env.process(j.best_effort_stat(env,k))\n",
    "\n",
    "    ue_comp=np.array([]) #ues that use comp -> processed by central_scheduler\n",
    "    for i in cluster:\n",
    "        ue_list=ue_dict_red2[i]\n",
    "        new_ue_list=np.array([])\n",
    "        for j in ue_list:\n",
    "            if(j.comp == 0):\n",
    "                new_ue_list=np.append(new_ue_list,j)\n",
    "            else:\n",
    "                ue_comp=np.append(ue_comp,j)\n",
    "        ue_dict[i]=new_ue_list #user without comp\n",
    "\n",
    "    env.process(eds.central_scheduler(env,ue_comp,SCHEDULE_T,cluster,prb_number_comp,metric))\n",
    "\n",
    "    counter=0\n",
    "    for i in cluster:\n",
    "        ue_list=ue_dict[i]\n",
    "        ue_sep=ue_all[counter*ue_nr:((counter+1)*ue_nr)]\n",
    "        env.process(eds.scheduler(env,ue_sep,SCHEDULE_T,cluster,max_prb,ue_list,prb_number_normal,metric))\n",
    "        counter=counter+1\n",
    "    env.run(until=1000)\n",
    "    liste=np.array([])\n",
    "    \n",
    "    av=0\n",
    "    for i in ue_all:\n",
    "        liste=np.append(liste,((i.mR2/i.mR)-1)*100)\n",
    "        av+=i.mR2/i.mR\n",
    "        if(i.queue.level!=0):\n",
    "            empty=1\n",
    "            \n",
    "    queue_len=np.append(queue_len, empty)\n",
    "    av=av/(ue_nr*2)\n",
    "    speicher.update({k:liste})\n",
    "    \n",
    "    \n",
    "    count=0\n",
    "    count2=0\n",
    "    for i in ue_all[0:10]:\n",
    "        count+=np.ceil(k/i.tbs)\n",
    "    for i in ue_all[10:20]:\n",
    "        count2+=np.ceil(k/i.tbs)\n",
    "    \n",
    "    total=max_prb*5 #total number of prbs \n",
    "\n",
    "    load1=np.append(load1,count*100/total)\n",
    "    load2=np.append(load2,count2*100/total)"
   ]
  },
  {
   "cell_type": "code",
   "execution_count": 39,
   "metadata": {},
   "outputs": [],
   "source": [
    "l=np.array([])\n",
    "l2=np.array([])\n",
    "for i in ran:\n",
    "    x=speicher.get(i)\n",
    "    m=x[0:ue_nr].mean()\n",
    "    m2=x[ue_nr:ue_nr*2].mean()\n",
    "    l=np.append(l,m)\n",
    "    l2=np.append(l2,m2)\n",
    "min_val=min(np.append(load1,load2))\n",
    "max_val=max(np.append(load1,load2))"
   ]
  },
  {
   "cell_type": "code",
   "execution_count": 40,
   "metadata": {},
   "outputs": [
    {
     "data": {
      "text/plain": [
       "array([<eds.ue object at 0x0000016A47C46820>,\n",
       "       <eds.ue object at 0x0000016A47C463A0>,\n",
       "       <eds.ue object at 0x0000016A47C46250>,\n",
       "       <eds.ue object at 0x0000016A47C46F70>,\n",
       "       <eds.ue object at 0x0000016A47C46130>,\n",
       "       <eds.ue object at 0x0000016A44CDE220>,\n",
       "       <eds.ue object at 0x0000016A46749F40>,\n",
       "       <eds.ue object at 0x0000016A46ADA040>,\n",
       "       <eds.ue object at 0x0000016A46888310>], dtype=object)"
      ]
     },
     "execution_count": 40,
     "metadata": {},
     "output_type": "execute_result"
    }
   ],
   "source": [
    "ue_comp"
   ]
  },
  {
   "cell_type": "code",
   "execution_count": 41,
   "metadata": {},
   "outputs": [
    {
     "data": {
      "text/plain": [
       "<matplotlib.legend.Legend at 0x16a4baf8340>"
      ]
     },
     "execution_count": 41,
     "metadata": {},
     "output_type": "execute_result"
    },
    {
     "data": {
      "image/png": "[encoded data removed]",
      "text/plain": [
       "<Figure size 432x288 with 1 Axes>"
      ]
     },
     "metadata": {
      "needs_background": "light"
     },
     "output_type": "display_data"
    }
   ],
   "source": [
    "plt.plot(ran,l,label='cell1')\n",
    "plt.plot(ran,l2,label='cell2')\n",
    "#plt.plot(ran,(l2+l)/2,label='av')\n",
    "plt.xlabel('Av. Ankunftszeit [ms]')\n",
    "plt.ylabel('Gain with CoMP [%]')\n",
    "plt.legend(loc='upper right')\n"
   ]
  },
  {
   "cell_type": "code",
   "execution_count": 32,
   "metadata": {},
   "outputs": [
    {
     "name": "stdout",
     "output_type": "stream",
     "text": [
      "120.8261341863384\n",
      "1.4093375450237708\n",
      "86.96659190656959\n",
      "5.47524544991437\n",
      "53.90061569852091\n",
      "6.055882884892792\n",
      "62.011126302992274\n",
      "14.559950411527906\n",
      "61.004266508401784\n",
      "-3.8471858986701024\n",
      "77.98373221747785\n",
      "6.629069938679665\n",
      "101.11968624102255\n",
      "-2.7900932018783844\n",
      "68.87799188385812\n",
      "-2.091273687743008\n",
      "77.2271007340771\n",
      "-2.1003753037073882\n",
      "72.693527132758\n",
      "2.3893819397155687\n",
      "76.52515363269815\n",
      "-1.5632745364149927\n",
      "77.33184036370393\n",
      "-4.056026752161396\n",
      "77.2687736308112\n",
      "-1.6216738472853722\n",
      "57.18777264185082\n",
      "-0.3859866477971857\n",
      "112.95858631129931\n",
      "-0.4817820300134011\n",
      "60.71427826538197\n",
      "-0.1886575298340831\n",
      "104.87327190157393\n",
      "-1.0605296992308209\n",
      "88.72128424789815\n",
      "-5.316767014420647\n",
      "117.024180639303\n",
      "-0.09865936859399307\n",
      "96.80901732573278\n",
      "-4.418191230979413\n"
     ]
    }
   ],
   "source": [
    "for i in ue_all:\n",
    "    print(i.mR)\n",
    "    print(i.sinr)\n",
    "    #print(i.mR2)"
   ]
  },
  {
   "cell_type": "code",
   "execution_count": null,
   "metadata": {},
   "outputs": [],
   "source": [
    "df[df['PCI Serving']==133]"
   ]
  },
  {
   "cell_type": "code",
   "execution_count": null,
   "metadata": {},
   "outputs": [],
   "source": [
    "sinr2"
   ]
  },
  {
   "cell_type": "code",
   "execution_count": null,
   "metadata": {},
   "outputs": [],
   "source": [
    "plt.plot(ran,l2)\n",
    "plt.xlabel('Ankunftszeit')\n",
    "plt.ylabel('Gain with CoMP [%]')"
   ]
  },
  {
   "cell_type": "code",
   "execution_count": null,
   "metadata": {},
   "outputs": [],
   "source": [
    "plt.plot(ran,(l+l2)/2)\n",
    "plt.xlabel('Ankunftszeit')\n",
    "plt.ylabel('Gain with CoMP [%]')"
   ]
  }
 ],
 "metadata": {
  "kernelspec": {
   "display_name": "Python 3",
   "language": "python",
   "name": "python3"
  },
  "language_info": {
   "codemirror_mode": {
    "name": "ipython",
    "version": 3
   },
   "file_extension": ".py",
   "mimetype": "text/x-python",
   "name": "python",
   "nbconvert_exporter": "python",
   "pygments_lexer": "ipython3",
   "version": "3.8.5"
  },
  "latex_envs": {
   "LaTeX_envs_menu_present": true,
   "autoclose": false,
   "autocomplete": true,
   "bibliofile": "biblio.bib",
   "cite_by": "apalike",
   "current_citInitial": 1,
   "eqLabelWithNumbers": true,
   "eqNumInitial": 1,
   "hotkeys": {
    "equation": "Ctrl-E",
    "itemize": "Ctrl-I"
   },
   "labels_anchors": false,
   "latex_user_defs": false,
   "report_style_numbering": false,
   "user_envs_cfg": false
  }
 },
 "nbformat": 4,
 "nbformat_minor": 4
}
