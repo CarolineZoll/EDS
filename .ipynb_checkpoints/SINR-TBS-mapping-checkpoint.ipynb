{
 "cells": [
  {
   "cell_type": "markdown",
   "metadata": {},
   "source": [
    "Create SINR-TBS Mapping\n",
    "\n",
    "https://www.researchgate.net/publication/308868405_DL_performance_evaluation_of_a_combined_cell_in_LTE_network"
   ]
  },
  {
   "cell_type": "code",
   "execution_count": 6,
   "metadata": {},
   "outputs": [
    {
     "data": {
      "text/html": [
       "<img src=\"images/SINR-TBS.JPG\" width=\"600\" height=\"300\"/>"
      ],
      "text/plain": [
       "<IPython.core.display.Image object>"
      ]
     },
     "execution_count": 6,
     "metadata": {},
     "output_type": "execute_result"
    }
   ],
   "source": [
    "from IPython.display import Image\n",
    "  \n",
    "# get the image\n",
    "Image(url=\"images/SINR-TBS.JPG\", width=600, height=300)"
   ]
  },
  {
   "cell_type": "code",
   "execution_count": 13,
   "metadata": {},
   "outputs": [
    {
     "data": {
      "text/html": [
       "<img src=\"images/SINR-TBS-lin.JPG\" width=\"600\" height=\"300\"/>"
      ],
      "text/plain": [
       "<IPython.core.display.Image object>"
      ]
     },
     "execution_count": 13,
     "metadata": {},
     "output_type": "execute_result"
    }
   ],
   "source": [
    "from IPython.display import Image\n",
    "  \n",
    "# get the image\n",
    "Image(url=\"images/SINR-TBS-lin.JPG\", width=600, height=300)"
   ]
  },
  {
   "cell_type": "code",
   "execution_count": 1,
   "metadata": {},
   "outputs": [],
   "source": [
    "import numpy as np\n",
    "import matplotlib.pyplot as plt\n",
    "import pandas as pd"
   ]
  },
  {
   "cell_type": "code",
   "execution_count": 2,
   "metadata": {},
   "outputs": [],
   "source": [
    "tbs1=np.linspace(10,50,6)\n",
    "tbs2=np.linspace(55,100,5)\n",
    "tbs3=np.linspace(105,180,5)\n",
    "tbs4=np.linspace(200,320,5)\n",
    "tbs5=np.linspace(350,460,4)\n",
    "tbs6=np.linspace(500,640,4)\n",
    "tbs7=np.linspace(680,800,4)\n",
    "tbs8=np.linspace(850,980,4)\n",
    "tbs9=np.linspace(1025,1140,4)"
   ]
  },
  {
   "cell_type": "code",
   "execution_count": 4,
   "metadata": {},
   "outputs": [],
   "source": [
    "tbs1=np.linspace(10,50,(6-1)*2+1)\n",
    "tbs2=np.linspace(55,100,(5-1)*2+1)\n",
    "tbs3=np.linspace(105,180,(5-1)*2+1)\n",
    "tbs4=np.linspace(200,320,(5-1)*2+1)\n",
    "tbs5=np.linspace(350,460,(4*2)\n",
    "tbs6=np.linspace(500,640,4*2)\n",
    "tbs7=np.linspace(680,800,4*2)\n",
    "tbs8=np.linspace(850,980,4*2)\n",
    "tbs9=np.linspace(1025,1140,4*2)"
   ]
  },
  {
   "cell_type": "code",
   "execution_count": 5,
   "metadata": {},
   "outputs": [],
   "source": [
    "sinr=np.arange(-10,31)"
   ]
  },
  {
   "cell_type": "code",
   "execution_count": 6,
   "metadata": {},
   "outputs": [],
   "source": [
    "tbs=np.append(tbs1,tbs2)\n",
    "tbs=np.append(tbs,tbs3)\n",
    "tbs=np.append(tbs,tbs4)\n",
    "tbs=np.append(tbs,tbs5)\n",
    "tbs=np.append(tbs,tbs6)\n",
    "tbs=np.append(tbs,tbs7)\n",
    "tbs=np.append(tbs,tbs8)\n",
    "tbs=np.append(tbs,tbs9)"
   ]
  },
  {
   "cell_type": "code",
   "execution_count": 7,
   "metadata": {},
   "outputs": [
    {
     "data": {
      "text/plain": [
       "array([  10.        ,   13.63636364,   17.27272727,   20.90909091,\n",
       "         24.54545455,   28.18181818,   31.81818182,   35.45454545,\n",
       "         39.09090909,   42.72727273,   46.36363636,   50.        ,\n",
       "         55.        ,   60.        ,   65.        ,   70.        ,\n",
       "         75.        ,   80.        ,   85.        ,   90.        ,\n",
       "         95.        ,  100.        ,  105.        ,  113.33333333,\n",
       "        121.66666667,  130.        ,  138.33333333,  146.66666667,\n",
       "        155.        ,  163.33333333,  171.66666667,  180.        ,\n",
       "        200.        ,  213.33333333,  226.66666667,  240.        ,\n",
       "        253.33333333,  266.66666667,  280.        ,  293.33333333,\n",
       "        306.66666667,  320.        ,  350.        ,  365.71428571,\n",
       "        381.42857143,  397.14285714,  412.85714286,  428.57142857,\n",
       "        444.28571429,  460.        ,  500.        ,  520.        ,\n",
       "        540.        ,  560.        ,  580.        ,  600.        ,\n",
       "        620.        ,  640.        ,  680.        ,  697.14285714,\n",
       "        714.28571429,  731.42857143,  748.57142857,  765.71428571,\n",
       "        782.85714286,  800.        ,  850.        ,  868.57142857,\n",
       "        887.14285714,  905.71428571,  924.28571429,  942.85714286,\n",
       "        961.42857143,  980.        , 1025.        , 1041.42857143,\n",
       "       1057.85714286, 1074.28571429, 1090.71428571, 1107.14285714,\n",
       "       1123.57142857, 1140.        ])"
      ]
     },
     "execution_count": 7,
     "metadata": {},
     "output_type": "execute_result"
    }
   ],
   "source": [
    "tbs"
   ]
  },
  {
   "cell_type": "code",
   "execution_count": 63,
   "metadata": {},
   "outputs": [],
   "source": [
    "sinr_tbs= pd.DataFrame(data=tbs, index=sinr, columns=None, dtype=None, copy=None)\n",
    "sinr_tbs= sinr_tbs.rename({0: 'tbs'}, axis=1) "
   ]
  },
  {
   "cell_type": "code",
   "execution_count": 64,
   "metadata": {},
   "outputs": [
    {
     "data": {
      "text/html": [
       "<div>\n",
       "<style scoped>\n",
       "    .dataframe tbody tr th:only-of-type {\n",
       "        vertical-align: middle;\n",
       "    }\n",
       "\n",
       "    .dataframe tbody tr th {\n",
       "        vertical-align: top;\n",
       "    }\n",
       "\n",
       "    .dataframe thead th {\n",
       "        text-align: right;\n",
       "    }\n",
       "</style>\n",
       "<table border=\"1\" class=\"dataframe\">\n",
       "  <thead>\n",
       "    <tr style=\"text-align: right;\">\n",
       "      <th></th>\n",
       "      <th>tbs</th>\n",
       "    </tr>\n",
       "  </thead>\n",
       "  <tbody>\n",
       "    <tr>\n",
       "      <th>-10</th>\n",
       "      <td>10.000000</td>\n",
       "    </tr>\n",
       "    <tr>\n",
       "      <th>-9</th>\n",
       "      <td>18.000000</td>\n",
       "    </tr>\n",
       "    <tr>\n",
       "      <th>-8</th>\n",
       "      <td>26.000000</td>\n",
       "    </tr>\n",
       "    <tr>\n",
       "      <th>-7</th>\n",
       "      <td>34.000000</td>\n",
       "    </tr>\n",
       "    <tr>\n",
       "      <th>-6</th>\n",
       "      <td>42.000000</td>\n",
       "    </tr>\n",
       "    <tr>\n",
       "      <th>-5</th>\n",
       "      <td>50.000000</td>\n",
       "    </tr>\n",
       "    <tr>\n",
       "      <th>-4</th>\n",
       "      <td>55.000000</td>\n",
       "    </tr>\n",
       "    <tr>\n",
       "      <th>-3</th>\n",
       "      <td>66.250000</td>\n",
       "    </tr>\n",
       "    <tr>\n",
       "      <th>-2</th>\n",
       "      <td>77.500000</td>\n",
       "    </tr>\n",
       "    <tr>\n",
       "      <th>-1</th>\n",
       "      <td>88.750000</td>\n",
       "    </tr>\n",
       "    <tr>\n",
       "      <th>0</th>\n",
       "      <td>100.000000</td>\n",
       "    </tr>\n",
       "    <tr>\n",
       "      <th>1</th>\n",
       "      <td>105.000000</td>\n",
       "    </tr>\n",
       "    <tr>\n",
       "      <th>2</th>\n",
       "      <td>123.750000</td>\n",
       "    </tr>\n",
       "    <tr>\n",
       "      <th>3</th>\n",
       "      <td>142.500000</td>\n",
       "    </tr>\n",
       "    <tr>\n",
       "      <th>4</th>\n",
       "      <td>161.250000</td>\n",
       "    </tr>\n",
       "    <tr>\n",
       "      <th>5</th>\n",
       "      <td>180.000000</td>\n",
       "    </tr>\n",
       "    <tr>\n",
       "      <th>6</th>\n",
       "      <td>200.000000</td>\n",
       "    </tr>\n",
       "    <tr>\n",
       "      <th>7</th>\n",
       "      <td>230.000000</td>\n",
       "    </tr>\n",
       "    <tr>\n",
       "      <th>8</th>\n",
       "      <td>260.000000</td>\n",
       "    </tr>\n",
       "    <tr>\n",
       "      <th>9</th>\n",
       "      <td>290.000000</td>\n",
       "    </tr>\n",
       "    <tr>\n",
       "      <th>10</th>\n",
       "      <td>320.000000</td>\n",
       "    </tr>\n",
       "    <tr>\n",
       "      <th>11</th>\n",
       "      <td>350.000000</td>\n",
       "    </tr>\n",
       "    <tr>\n",
       "      <th>12</th>\n",
       "      <td>386.666667</td>\n",
       "    </tr>\n",
       "    <tr>\n",
       "      <th>13</th>\n",
       "      <td>423.333333</td>\n",
       "    </tr>\n",
       "    <tr>\n",
       "      <th>14</th>\n",
       "      <td>460.000000</td>\n",
       "    </tr>\n",
       "    <tr>\n",
       "      <th>15</th>\n",
       "      <td>500.000000</td>\n",
       "    </tr>\n",
       "    <tr>\n",
       "      <th>16</th>\n",
       "      <td>546.666667</td>\n",
       "    </tr>\n",
       "    <tr>\n",
       "      <th>17</th>\n",
       "      <td>593.333333</td>\n",
       "    </tr>\n",
       "    <tr>\n",
       "      <th>18</th>\n",
       "      <td>640.000000</td>\n",
       "    </tr>\n",
       "    <tr>\n",
       "      <th>19</th>\n",
       "      <td>680.000000</td>\n",
       "    </tr>\n",
       "    <tr>\n",
       "      <th>20</th>\n",
       "      <td>720.000000</td>\n",
       "    </tr>\n",
       "    <tr>\n",
       "      <th>21</th>\n",
       "      <td>760.000000</td>\n",
       "    </tr>\n",
       "    <tr>\n",
       "      <th>22</th>\n",
       "      <td>800.000000</td>\n",
       "    </tr>\n",
       "    <tr>\n",
       "      <th>23</th>\n",
       "      <td>850.000000</td>\n",
       "    </tr>\n",
       "    <tr>\n",
       "      <th>24</th>\n",
       "      <td>893.333333</td>\n",
       "    </tr>\n",
       "    <tr>\n",
       "      <th>25</th>\n",
       "      <td>936.666667</td>\n",
       "    </tr>\n",
       "    <tr>\n",
       "      <th>26</th>\n",
       "      <td>980.000000</td>\n",
       "    </tr>\n",
       "    <tr>\n",
       "      <th>27</th>\n",
       "      <td>1025.000000</td>\n",
       "    </tr>\n",
       "    <tr>\n",
       "      <th>28</th>\n",
       "      <td>1063.333333</td>\n",
       "    </tr>\n",
       "    <tr>\n",
       "      <th>29</th>\n",
       "      <td>1101.666667</td>\n",
       "    </tr>\n",
       "    <tr>\n",
       "      <th>30</th>\n",
       "      <td>1140.000000</td>\n",
       "    </tr>\n",
       "  </tbody>\n",
       "</table>\n",
       "</div>"
      ],
      "text/plain": [
       "             tbs\n",
       "-10    10.000000\n",
       "-9     18.000000\n",
       "-8     26.000000\n",
       "-7     34.000000\n",
       "-6     42.000000\n",
       "-5     50.000000\n",
       "-4     55.000000\n",
       "-3     66.250000\n",
       "-2     77.500000\n",
       "-1     88.750000\n",
       " 0    100.000000\n",
       " 1    105.000000\n",
       " 2    123.750000\n",
       " 3    142.500000\n",
       " 4    161.250000\n",
       " 5    180.000000\n",
       " 6    200.000000\n",
       " 7    230.000000\n",
       " 8    260.000000\n",
       " 9    290.000000\n",
       " 10   320.000000\n",
       " 11   350.000000\n",
       " 12   386.666667\n",
       " 13   423.333333\n",
       " 14   460.000000\n",
       " 15   500.000000\n",
       " 16   546.666667\n",
       " 17   593.333333\n",
       " 18   640.000000\n",
       " 19   680.000000\n",
       " 20   720.000000\n",
       " 21   760.000000\n",
       " 22   800.000000\n",
       " 23   850.000000\n",
       " 24   893.333333\n",
       " 25   936.666667\n",
       " 26   980.000000\n",
       " 27  1025.000000\n",
       " 28  1063.333333\n",
       " 29  1101.666667\n",
       " 30  1140.000000"
      ]
     },
     "execution_count": 64,
     "metadata": {},
     "output_type": "execute_result"
    }
   ],
   "source": [
    "sinr_tbs"
   ]
  },
  {
   "cell_type": "code",
   "execution_count": 66,
   "metadata": {},
   "outputs": [],
   "source": [
    "sinr_tbs.to_csv('Data/sinr-tbs-mapping.csv')"
   ]
  }
 ],
 "metadata": {
  "kernelspec": {
   "display_name": "Python 3",
   "language": "python",
   "name": "python3"
  },
  "language_info": {
   "codemirror_mode": {
    "name": "ipython",
    "version": 3
   },
   "file_extension": ".py",
   "mimetype": "text/x-python",
   "name": "python",
   "nbconvert_exporter": "python",
   "pygments_lexer": "ipython3",
   "version": "3.8.5"
  },
  "latex_envs": {
   "LaTeX_envs_menu_present": true,
   "autoclose": false,
   "autocomplete": true,
   "bibliofile": "biblio.bib",
   "cite_by": "apalike",
   "current_citInitial": 1,
   "eqLabelWithNumbers": true,
   "eqNumInitial": 1,
   "hotkeys": {
    "equation": "Ctrl-E",
    "itemize": "Ctrl-I"
   },
   "labels_anchors": false,
   "latex_user_defs": false,
   "report_style_numbering": false,
   "user_envs_cfg": false
  }
 },
 "nbformat": 4,
 "nbformat_minor": 4
}
