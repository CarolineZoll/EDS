{
 "cells": [
  {
   "cell_type": "code",
   "execution_count": 160,
   "metadata": {},
   "outputs": [],
   "source": [
    "import eds \n",
    "import simpy\n",
    "import numpy as np\n",
    "import pandas as pd\n",
    "import scipy\n",
    "import matplotlib.pyplot as plt\n",
    "import show as sh"
   ]
  },
  {
   "cell_type": "code",
   "execution_count": 161,
   "metadata": {},
   "outputs": [
    {
     "name": "stdout",
     "output_type": "stream",
     "text": [
      "\f",
      "\n"
     ]
    }
   ],
   "source": [
    "clear all"
   ]
  },
  {
   "cell_type": "code",
   "execution_count": 162,
   "metadata": {},
   "outputs": [],
   "source": [
    "df=pd.read_csv('Prepro/Test-Data',index_col='Unnamed: 0')\n",
    "sectors=df['PCI Serving'].unique()\n",
    "cluster=[775,133]"
   ]
  },
  {
   "cell_type": "code",
   "execution_count": 163,
   "metadata": {},
   "outputs": [],
   "source": [
    "sectors=df['PCI Serving'].unique()"
   ]
  },
  {
   "cell_type": "code",
   "execution_count": 164,
   "metadata": {},
   "outputs": [],
   "source": [
    "cluster=[775,133]"
   ]
  },
  {
   "cell_type": "code",
   "execution_count": 165,
   "metadata": {},
   "outputs": [],
   "source": [
    "max_prb=50\n",
    "ue_nr=10\n",
    "\n",
    "\n",
    "size=4000\n",
    "env=simpy.Environment()\n",
    "ue_dict=eds.df_to_ue_lists(df,cluster,6,env)\n",
    "ue_dict_red2,ue_all=eds.get_user_from_cluster_random(ue_dict,cluster,ue_nr)"
   ]
  },
  {
   "cell_type": "code",
   "execution_count": 166,
   "metadata": {},
   "outputs": [
    {
     "name": "stderr",
     "output_type": "stream",
     "text": [
      "C:\\Users\\Caroline Zoll\\EDS\\edsCopy1.py:233: RuntimeWarning: divide by zero encountered in double_scalars\n",
      "  metric=np.append(metric,((i.cp)**e1/(i.mR**e2)))\n",
      "C:\\Users\\Caroline Zoll\\EDS\\edsCopy1.py:263: RuntimeWarning: divide by zero encountered in double_scalars\n",
      "  metric=np.append(metric,((cp)**e1/(i.mR2)**e2))\n"
     ]
    }
   ],
   "source": [
    "load1_l=np.array([])\n",
    "load2_l=np.array([])\n",
    "speicher={}\n",
    "ran=np.arange(1,40,1)\n",
    "metric=[1,1]\n",
    "prb_number_comp=eds.calculate_prb_number2(ue_all,max_prb)\n",
    "prb_number_normal=max_prb-prb_number_comp\n",
    "for k in ran:\n",
    "    env=simpy.Environment()\n",
    "    sched1=eds.sched_inst(env)\n",
    "    sched2=eds.sched_inst(env)\n",
    "    sched3=eds.sched_inst(env)\n",
    "    sched_l=[sched1,sched2]\n",
    "    \n",
    "\n",
    "    ue_dict=eds.df_to_ue_lists(df,cluster,6,env)\n",
    "    ue_dict_red2,ue_all=eds.get_user_from_cluster(ue_dict,cluster)\n",
    "    \n",
    "    env=simpy.Environment()\n",
    "    #Start processes\n",
    "\n",
    "    SCHEDULE_T=2 #Clock des Schedulers \n",
    "    for i in cluster:\n",
    "        ue_list=ue_dict_red2[i]\n",
    "        for j in ue_list:\n",
    "            env.process(j.best_effort_stat(env,k))\n",
    "\n",
    "    ue_comp=np.array([]) #ues that use comp -> processed by central_scheduler\n",
    "    for i in cluster:\n",
    "        ue_list=ue_dict_red2[i]\n",
    "        new_ue_list=np.array([])\n",
    "        for j in ue_list:\n",
    "            if(j.comp == 0):\n",
    "                new_ue_list=np.append(new_ue_list,j)\n",
    "            else:\n",
    "                ue_comp=np.append(ue_comp,j)\n",
    "        ue_dict[i]=new_ue_list #user without comp\n",
    "\n",
    "    env.process(sched3.central_scheduler(env,ue_comp,SCHEDULE_T,cluster,prb_number_comp,metric))\n",
    "\n",
    "    counter=0\n",
    "    for i in cluster:\n",
    "        ue_list=ue_dict[i]\n",
    "        ue_sep=ue_all[counter*ue_nr:((counter+1)*ue_nr)]\n",
    "        sched=sched_l[counter]\n",
    "        env.process(sched.scheduler(env,ue_sep,SCHEDULE_T,cluster,max_prb,ue_list,prb_number_normal,metric))\n",
    "        counter=counter+1\n",
    "    timer=10000\n",
    "    env.run(until=timer)\n",
    "    liste=np.array([])\n",
    "    \n",
    "    av=0\n",
    "    for i in ue_all:\n",
    "        liste=np.append(liste,((i.mR2/i.mR)-1)*100)\n",
    "        av+=i.mR2/i.mR\n",
    "    av=av/(ue_nr*2)\n",
    "    speicher.update({k:liste})\n",
    "    \n",
    "    rem1=0\n",
    "    req1=0\n",
    "    load1=0\n",
    "    rem2=0\n",
    "    req2=0\n",
    "    load2=0\n",
    "    ind=int(timer/2-2)\n",
    "    for i in np.arange(100,ind):\n",
    "        rem1+=sched1.rem_prb[ind]\n",
    "        req1+=sched1.rem_req[ind]\n",
    "        load1+=(sched1.rem_req[ind]+(max_prb-sched1.rem_prb[ind])*(timer/2))/((max_prb)*timer/2)\n",
    "        \n",
    "        rem2+=sched2.rem_prb[ind]\n",
    "        req2+=sched2.rem_req[ind]\n",
    "        load2+=(sched2.rem_req[ind]+(max_prb-sched2.rem_prb[ind])*(timer/2))/((max_prb)*timer/2)\n",
    "        \n",
    "    load1_l=np.append(load1_l,load1/len(np.arange(100,ind)))\n",
    "    load2_l=np.append(load2_l,load2/len(np.arange(100,ind)))\n",
    "    \n",
    "    "
   ]
  },
  {
   "cell_type": "code",
   "execution_count": 167,
   "metadata": {},
   "outputs": [],
   "source": [
    "l=np.array([])\n",
    "l2=np.array([])\n",
    "for i in ran:\n",
    "    x=speicher.get(i)\n",
    "    m=x[0:ue_nr].mean()\n",
    "    m2=x[ue_nr:ue_nr*2].mean()\n",
    "    l=np.append(l,m)\n",
    "    l2=np.append(l2,m2)\n",
    "min_val=min(np.append(load1_l,load2_l))\n",
    "max_val=max(np.append(load1_l,load2_l))"
   ]
  },
  {
   "cell_type": "code",
   "execution_count": 168,
   "metadata": {},
   "outputs": [
    {
     "data": {
      "text/plain": [
       "<matplotlib.legend.Legend at 0x24ab29afd60>"
      ]
     },
     "execution_count": 168,
     "metadata": {},
     "output_type": "execute_result"
    },
    {
     "data": {
      "image/png": "[encoded data removed]",
      "text/plain": [
       "<Figure size 640x480 with 1 Axes>"
      ]
     },
     "metadata": {
      "needs_background": "light"
     },
     "output_type": "display_data"
    }
   ],
   "source": [
    "from matplotlib.pyplot import figure\n",
    "figure(figsize=(8, 6), dpi=80)\n",
    "plt.plot(ran,l,label=str(i*100/max_prb)+'% of prbs for comp')\n",
    "#plt.axvline(x=ran[14], color='red', label='full load of the cell')\n",
    "plt.xlabel('Av. packet arrival [ms]')\n",
    "plt.ylabel('Gain with CoMP [%]')\n",
    "plt.legend(loc='upper right')\n"
   ]
  },
  {
   "cell_type": "code",
   "execution_count": 169,
   "metadata": {},
   "outputs": [
    {
     "data": {
      "text/plain": [
       "<matplotlib.legend.Legend at 0x24ac02d9940>"
      ]
     },
     "execution_count": 169,
     "metadata": {},
     "output_type": "execute_result"
    },
    {
     "data": {
      "image/png": "[encoded data removed]",
      "text/plain": [
       "<Figure size 640x480 with 1 Axes>"
      ]
     },
     "metadata": {
      "needs_background": "light"
     },
     "output_type": "display_data"
    }
   ],
   "source": [
    "from matplotlib.pyplot import figure\n",
    "figure(figsize=(8, 6), dpi=80)\n",
    "plt.plot(ran,l2,label='cell1',color='orange')\n",
    "plt.xlabel('Av. packet arrival [ms]')\n",
    "plt.title('Comparison of both cells in the cluster with 62% of the prbs for comp')\n",
    "plt.ylabel('Gain with CoMP [%]')\n",
    "plt.legend(loc='upper right')\n"
   ]
  },
  {
   "cell_type": "code",
   "execution_count": 170,
   "metadata": {},
   "outputs": [
    {
     "ename": "SyntaxError",
     "evalue": "invalid syntax (<ipython-input-170-d32c5d4687b8>, line 3)",
     "output_type": "error",
     "traceback": [
      "\u001b[1;36m  File \u001b[1;32m\"<ipython-input-170-d32c5d4687b8>\"\u001b[1;36m, line \u001b[1;32m3\u001b[0m\n\u001b[1;33m    plt.plot(ran,(l+l2)/,label='cell1',color='orange')\u001b[0m\n\u001b[1;37m                        ^\u001b[0m\n\u001b[1;31mSyntaxError\u001b[0m\u001b[1;31m:\u001b[0m invalid syntax\n"
     ]
    }
   ],
   "source": [
    "from matplotlib.pyplot import figure\n",
    "figure(figsize=(8, 6), dpi=80)\n",
    "plt.plot(ran,(l+l2)/,label='cell1',color='orange')\n",
    "plt.xlabel('Av. packet arrival [ms]')\n",
    "plt.title('Comparison of both cells in the cluster with 62% of the prbs for comp')\n",
    "plt.ylabel('Gain with CoMP [%]')\n",
    "plt.legend(loc='upper right')\n"
   ]
  },
  {
   "cell_type": "code",
   "execution_count": null,
   "metadata": {},
   "outputs": [],
   "source": [
    "load1_l=np.array([])\n",
    "load2_l=np.array([])\n",
    "speicher={}\n",
    "k=4\n",
    "metric=[1,1]\n",
    "prb_number_comp=eds.calculate_prb_number2(ue_all,max_prb)\n",
    "prb_number_normal=max_prb-prb_number_comp\n",
    "env=simpy.Environment()\n",
    "sched1=eds.sched_inst(env)\n",
    "sched2=eds.sched_inst(env)\n",
    "sched3=eds.sched_inst(env)\n",
    "sched_l=[sched1,sched2]\n",
    "    \n",
    "\n",
    "ue_dict=eds.df_to_ue_lists(df,cluster,6,env)\n",
    "ue_dict_red2,ue_all=eds.get_user_from_cluster(ue_dict,cluster)\n",
    "    \n",
    "env=simpy.Environment()\n",
    "    #Start processes\n",
    "\n",
    "SCHEDULE_T=2 #Clock des Schedulers \n",
    "for i in cluster:\n",
    "    ue_list=ue_dict_red2[i]\n",
    "    for j in ue_list:\n",
    "        env.process(j.best_effort_stat(env,k))\n",
    "\n",
    "ue_comp=np.array([]) #ues that use comp -> processed by central_scheduler\n",
    "for i in cluster:\n",
    "    ue_list=ue_dict_red2[i]\n",
    "    new_ue_list=np.array([])\n",
    "    for j in ue_list:\n",
    "        if(j.comp == 0):\n",
    "            new_ue_list=np.append(new_ue_list,j)\n",
    "        else:\n",
    "            ue_comp=np.append(ue_comp,j)\n",
    "    ue_dict[i]=new_ue_list #user without comp\n",
    "\n",
    "env.process(sched3.central_scheduler(env,ue_comp,SCHEDULE_T,cluster,prb_number_comp,metric))\n",
    "\n",
    "counter=0\n",
    "for i in cluster:\n",
    "    ue_list=ue_dict[i]\n",
    "    ue_sep=ue_all[counter*ue_nr:((counter+1)*ue_nr)]\n",
    "    sched=sched_l[counter]\n",
    "    env.process(sched.scheduler(env,ue_sep,SCHEDULE_T,cluster,max_prb,ue_list,prb_number_normal,metric))\n",
    "    counter=counter+1\n",
    "timer=4000\n",
    "env.run(until=timer)\n",
    "liste=np.array([])\n",
    "    \n",
    "av=0\n",
    "for i in ue_all:\n",
    "    liste=np.append(liste,((i.mR2/i.mR)-1)*100)\n",
    "    av+=i.mR2/i.mR\n",
    "av=av/(ue_nr*2)\n",
    "speicher.update({k:liste})\n",
    "    \n",
    "rem1=0\n",
    "req1=0\n",
    "load1=0\n",
    "rem2=0\n",
    "req2=0\n",
    "load2=0\n",
    "ind=int(timer/2-2)\n",
    "for i in np.arange(100,ind):\n",
    "    rem1+=sched1.rem_prb[ind]\n",
    "    req1+=sched1.rem_req[ind]\n",
    "    load1+=(sched1.rem_req[ind]+(max_prb-sched1.rem_prb[ind])*(timer/2))/((max_prb)*timer/2)\n",
    "        \n",
    "    rem2+=sched2.rem_prb[ind]\n",
    "    req2+=sched2.rem_req[ind]\n",
    "    load2+=(sched2.rem_req[ind]+(max_prb-sched2.rem_prb[ind])*(timer/2))/((max_prb)*timer/2)\n",
    "        \n",
    "load1_l=np.append(load1_l,load1/len(np.arange(100,ind)))\n",
    "load2_l=np.append(load2_l,load2/len(np.arange(100,ind)))\n",
    "    "
   ]
  },
  {
   "cell_type": "code",
   "execution_count": null,
   "metadata": {},
   "outputs": [],
   "source": [
    "m=0\n",
    "for i in ue_all[0:10]:\n",
    "    m+=i.mR2/i.mR\n",
    "m=((m/10)-1)*100\n",
    "\n",
    "m2=0\n",
    "for i in ue_all[10:20]:\n",
    "    m2+=i.mR2/i.mR\n",
    "m2=((m2/10)-1)*100\n",
    "\n",
    "print('gain cell1:',m)\n",
    "print('gain cell2:',m2)"
   ]
  },
  {
   "cell_type": "code",
   "execution_count": null,
   "metadata": {},
   "outputs": [],
   "source": [
    "for i in ue_comp:\n",
    "    #print('comp:',i.comp)\n",
    "    print(i.cell1)\n",
    "    #print('comp:',i.tbs2/i.tbs)\n",
    "    #print('gain:',(i.mR2/i.mR-1)*100)\n",
    "    #print('gain:',(i.sinr2-i.sinr))"
   ]
  },
  {
   "cell_type": "code",
   "execution_count": null,
   "metadata": {},
   "outputs": [],
   "source": [
    "x=np.array([])\n",
    "y=np.array([])\n",
    "z=np.array([])\n",
    "for i in ue_all:\n",
    "    if(i.comp==0):\n",
    "        z=np.append(z,i.mR2/i.mR)\n",
    "    if(i.comp==1):\n",
    "        y=np.append(y,i.mR2/i.mR)\n",
    "    x=np.append(x,i.mR2/i.mR)\n",
    "x=(x-1)*100\n",
    "y=(y-1)*100    \n",
    "z=(z-1)*100"
   ]
  },
  {
   "cell_type": "code",
   "execution_count": null,
   "metadata": {},
   "outputs": [],
   "source": [
    "sh.cdf_3(x,'all ues','blue',y,'comp ues','green',z,'no_comp ues','red','CDF of the rate gain',min(liste),max(liste),'Gewinn [%]',60)"
   ]
  },
  {
   "cell_type": "code",
   "execution_count": null,
   "metadata": {},
   "outputs": [],
   "source": [
    "x.mean()"
   ]
  },
  {
   "cell_type": "code",
   "execution_count": null,
   "metadata": {},
   "outputs": [],
   "source": [
    "mR=np.array([])\n",
    "mR2=np.array([])\n",
    "for i in ue_all:\n",
    "    mR=np.append(mR,i.mR)\n",
    "    mR2=np.append(mR2,i.mR2)"
   ]
  },
  {
   "cell_type": "code",
   "execution_count": null,
   "metadata": {},
   "outputs": [],
   "source": [
    "mR.min()"
   ]
  },
  {
   "cell_type": "code",
   "execution_count": null,
   "metadata": {},
   "outputs": [],
   "source": [
    "mR2.min()"
   ]
  },
  {
   "cell_type": "code",
   "execution_count": null,
   "metadata": {},
   "outputs": [],
   "source": [
    "load1_l=np.array([])\n",
    "load2_l=np.array([])\n",
    "speicher={}\n",
    "k=4\n",
    "metric=[0,1]\n",
    "prb_number_comp=eds.calculate_prb_number2(ue_all,max_prb)+1\n",
    "prb_number_normal=max_prb-prb_number_comp\n",
    "env=simpy.Environment()\n",
    "sched1=eds.sched_inst(env)\n",
    "sched2=eds.sched_inst(env)\n",
    "sched3=eds.sched_inst(env)\n",
    "sched_l=[sched1,sched2]\n",
    "    \n",
    "\n",
    "ue_dict=eds.df_to_ue_lists(df,cluster,6,env)\n",
    "ue_dict_red2,ue_all=eds.get_user_from_cluster(ue_dict,cluster)\n",
    "    \n",
    "env=simpy.Environment()\n",
    "    #Start processes\n",
    "\n",
    "SCHEDULE_T=2 #Clock des Schedulers \n",
    "for i in cluster:\n",
    "    ue_list=ue_dict_red2[i]\n",
    "    for j in ue_list:\n",
    "        env.process(j.best_effort_stat(env,k))\n",
    "\n",
    "ue_comp=np.array([]) #ues that use comp -> processed by central_scheduler\n",
    "for i in cluster:\n",
    "    ue_list=ue_dict_red2[i]\n",
    "    new_ue_list=np.array([])\n",
    "    for j in ue_list:\n",
    "        if(j.comp == 0):\n",
    "            new_ue_list=np.append(new_ue_list,j)\n",
    "        else:\n",
    "            ue_comp=np.append(ue_comp,j)\n",
    "    ue_dict[i]=new_ue_list #user without comp\n",
    "\n",
    "env.process(sched3.central_scheduler(env,ue_comp,SCHEDULE_T,cluster,prb_number_comp,metric))\n",
    "\n",
    "counter=0\n",
    "for i in cluster:\n",
    "    ue_list=ue_dict[i]\n",
    "    ue_sep=ue_all[counter*ue_nr:((counter+1)*ue_nr)]\n",
    "    sched=sched_l[counter]\n",
    "    env.process(sched.scheduler(env,ue_sep,SCHEDULE_T,cluster,max_prb,ue_list,prb_number_normal,metric))\n",
    "    counter=counter+1\n",
    "timer=4000\n",
    "env.run(until=timer)\n",
    "liste=np.array([])\n",
    "    \n",
    "av=0\n",
    "for i in ue_all:\n",
    "    liste=np.append(liste,((i.mR2/i.mR)-1)*100)\n",
    "    av+=i.mR2/i.mR\n",
    "av=av/(ue_nr*2)\n",
    "speicher.update({k:liste})\n",
    "    \n",
    "rem1=0\n",
    "req1=0\n",
    "load1=0\n",
    "rem2=0\n",
    "req2=0\n",
    "load2=0\n",
    "ind=int(timer/2-2)\n",
    "for i in np.arange(100,ind):\n",
    "    rem1+=sched1.rem_prb[ind]\n",
    "    req1+=sched1.rem_req[ind]\n",
    "    load1+=(sched1.rem_req[ind]+(max_prb-sched1.rem_prb[ind])*(timer/2))/((max_prb)*timer/2)\n",
    "        \n",
    "    rem2+=sched2.rem_prb[ind]\n",
    "    req2+=sched2.rem_req[ind]\n",
    "    load2+=(sched2.rem_req[ind]+(max_prb-sched2.rem_prb[ind])*(timer/2))/((max_prb)*timer/2)\n",
    "        \n",
    "load1_l=np.append(load1_l,load1/len(np.arange(100,ind)))\n",
    "load2_l=np.append(load2_l,load2/len(np.arange(100,ind)))\n",
    "    "
   ]
  },
  {
   "cell_type": "code",
   "execution_count": null,
   "metadata": {},
   "outputs": [],
   "source": [
    "m=0\n",
    "for i in ue_all[0:10]:\n",
    "    m+=i.mR2/i.mR\n",
    "m=((m/10)-1)*100\n",
    "\n",
    "m2=0\n",
    "for i in ue_all[10:20]:\n",
    "    m2+=i.mR2/i.mR\n",
    "m2=((m2/10)-1)*100\n",
    "\n",
    "print('gain cell1:',m)\n",
    "print('gain cell2:',m2)"
   ]
  },
  {
   "cell_type": "code",
   "execution_count": null,
   "metadata": {},
   "outputs": [],
   "source": [
    "m=0\n",
    "for i in ue_all[0:10]:\n",
    "    m+=i.mR\n",
    "m2=0\n",
    "for i in ue_all[0:10]:\n",
    "    m2+=i.mR2\n",
    "print('av. mean rate cell 1')\n",
    "print('no comp:',m/10)\n",
    "print('comp:',m2/10)\n",
    "m=0\n",
    "for i in ue_all[10:20]:\n",
    "    m+=i.mR\n",
    "m2=0\n",
    "for i in ue_all[10:20]:\n",
    "    m2+=i.mR2 \n",
    "print('av. mean rate cell 2')\n",
    "print('no comp:', m/10)\n",
    "print('comp:',m2/10)"
   ]
  },
  {
   "cell_type": "code",
   "execution_count": null,
   "metadata": {},
   "outputs": [],
   "source": [
    "x=np.array([])\n",
    "y=np.array([])\n",
    "z=np.array([])\n",
    "for i in ue_all:\n",
    "    if(i.comp==0):\n",
    "        z=np.append(z,i.mR2/i.mR)\n",
    "    if(i.comp==1):\n",
    "        y=np.append(y,i.mR2/i.mR)\n",
    "    x=np.append(x,i.mR2/i.mR)\n",
    "x=(x-1)*100\n",
    "y=(y-1)*100    \n",
    "z=(z-1)*100"
   ]
  },
  {
   "cell_type": "code",
   "execution_count": null,
   "metadata": {},
   "outputs": [],
   "source": [
    "sh.cdf_3(x,'all ues','blue',y,'comp ues','green',z,'no_comp ues','red','CDF of the rate gain',min(liste),max(liste),'Gewinn [%]',60)"
   ]
  },
  {
   "cell_type": "code",
   "execution_count": null,
   "metadata": {},
   "outputs": [],
   "source": [
    "m=0\n",
    "for i in ue_all[0:10]:\n",
    "    m+=i.mR\n",
    "m2=0\n",
    "for i in ue_all[0:10]:\n",
    "    m2+=i.mR2\n",
    "print('av. mean rate cell 1')\n",
    "print('no comp:',m/10)\n",
    "print('comp:',m2/10)\n",
    "m=0\n",
    "for i in ue_all[10:20]:\n",
    "    m+=i.mR\n",
    "m2=0\n",
    "for i in ue_all[10:20]:\n",
    "    m2+=i.mR2 \n",
    "print('av. mean rate cell 2')\n",
    "print('no comp:', m/10)\n",
    "print('comp:',m2/10)"
   ]
  },
  {
   "cell_type": "code",
   "execution_count": 183,
   "metadata": {},
   "outputs": [],
   "source": [
    "import plotly.graph_objects as go\n",
    "\n",
    "import networkx as nx"
   ]
  },
  {
   "cell_type": "code",
   "execution_count": 248,
   "metadata": {},
   "outputs": [
    {
     "data": {
      "text/plain": [
       "array([1, 2])"
      ]
     },
     "execution_count": 248,
     "metadata": {},
     "output_type": "execute_result"
    }
   ],
   "source": [
    "np.arange(1,3)"
   ]
  },
  {
   "cell_type": "code",
   "execution_count": 260,
   "metadata": {},
   "outputs": [
    {
     "ename": "TypeError",
     "evalue": "string indices must be integers",
     "output_type": "error",
     "traceback": [
      "\u001b[1;31m---------------------------------------------------------------------------\u001b[0m",
      "\u001b[1;31mTypeError\u001b[0m                                 Traceback (most recent call last)",
      "\u001b[1;32m<ipython-input-260-d3da501cd4a1>\u001b[0m in \u001b[0;36m<module>\u001b[1;34m\u001b[0m\n\u001b[0;32m     30\u001b[0m \u001b[1;33m\u001b[0m\u001b[0m\n\u001b[0;32m     31\u001b[0m \u001b[1;33m\u001b[0m\u001b[0m\n\u001b[1;32m---> 32\u001b[1;33m \u001b[0mnx\u001b[0m\u001b[1;33m.\u001b[0m\u001b[0mdraw\u001b[0m\u001b[1;33m(\u001b[0m\u001b[0mG\u001b[0m\u001b[1;33m,\u001b[0m\u001b[1;34m'circular_layout'\u001b[0m\u001b[1;33m,\u001b[0m\u001b[0mwith_labels\u001b[0m\u001b[1;33m=\u001b[0m\u001b[1;32mTrue\u001b[0m\u001b[1;33m,\u001b[0m\u001b[0mnode_color\u001b[0m\u001b[1;33m=\u001b[0m\u001b[0mn_c\u001b[0m\u001b[1;33m,\u001b[0m\u001b[0mfont_color\u001b[0m\u001b[1;33m=\u001b[0m\u001b[1;34m'white'\u001b[0m\u001b[1;33m,\u001b[0m\u001b[0mnode_size\u001b[0m\u001b[1;33m=\u001b[0m\u001b[0mn_s\u001b[0m\u001b[1;33m)\u001b[0m\u001b[1;33m\u001b[0m\u001b[1;33m\u001b[0m\u001b[0m\n\u001b[0m\u001b[0;32m     33\u001b[0m \u001b[0mplt\u001b[0m\u001b[1;33m.\u001b[0m\u001b[0mdraw\u001b[0m\u001b[1;33m(\u001b[0m\u001b[1;33m)\u001b[0m\u001b[1;33m\u001b[0m\u001b[1;33m\u001b[0m\u001b[0m\n\u001b[0;32m     34\u001b[0m \u001b[0mplt\u001b[0m\u001b[1;33m.\u001b[0m\u001b[0mshow\u001b[0m\u001b[1;33m(\u001b[0m\u001b[1;33m)\u001b[0m\u001b[1;33m\u001b[0m\u001b[1;33m\u001b[0m\u001b[0m\n",
      "\u001b[1;32m~\\anaconda3\\lib\\site-packages\\networkx\\drawing\\nx_pylab.py\u001b[0m in \u001b[0;36mdraw\u001b[1;34m(G, pos, ax, **kwds)\u001b[0m\n\u001b[0;32m    121\u001b[0m         \u001b[0mkwds\u001b[0m\u001b[1;33m[\u001b[0m\u001b[1;34m\"with_labels\"\u001b[0m\u001b[1;33m]\u001b[0m \u001b[1;33m=\u001b[0m \u001b[1;34m\"labels\"\u001b[0m \u001b[1;32min\u001b[0m \u001b[0mkwds\u001b[0m\u001b[1;33m\u001b[0m\u001b[1;33m\u001b[0m\u001b[0m\n\u001b[0;32m    122\u001b[0m \u001b[1;33m\u001b[0m\u001b[0m\n\u001b[1;32m--> 123\u001b[1;33m     \u001b[0mdraw_networkx\u001b[0m\u001b[1;33m(\u001b[0m\u001b[0mG\u001b[0m\u001b[1;33m,\u001b[0m \u001b[0mpos\u001b[0m\u001b[1;33m=\u001b[0m\u001b[0mpos\u001b[0m\u001b[1;33m,\u001b[0m \u001b[0max\u001b[0m\u001b[1;33m=\u001b[0m\u001b[0max\u001b[0m\u001b[1;33m,\u001b[0m \u001b[1;33m**\u001b[0m\u001b[0mkwds\u001b[0m\u001b[1;33m)\u001b[0m\u001b[1;33m\u001b[0m\u001b[1;33m\u001b[0m\u001b[0m\n\u001b[0m\u001b[0;32m    124\u001b[0m     \u001b[0max\u001b[0m\u001b[1;33m.\u001b[0m\u001b[0mset_axis_off\u001b[0m\u001b[1;33m(\u001b[0m\u001b[1;33m)\u001b[0m\u001b[1;33m\u001b[0m\u001b[1;33m\u001b[0m\u001b[0m\n\u001b[0;32m    125\u001b[0m     \u001b[0mplt\u001b[0m\u001b[1;33m.\u001b[0m\u001b[0mdraw_if_interactive\u001b[0m\u001b[1;33m(\u001b[0m\u001b[1;33m)\u001b[0m\u001b[1;33m\u001b[0m\u001b[1;33m\u001b[0m\u001b[0m\n",
      "\u001b[1;32m~\\anaconda3\\lib\\site-packages\\networkx\\drawing\\nx_pylab.py\u001b[0m in \u001b[0;36mdraw_networkx\u001b[1;34m(G, pos, arrows, with_labels, **kwds)\u001b[0m\n\u001b[0;32m    333\u001b[0m         \u001b[0mpos\u001b[0m \u001b[1;33m=\u001b[0m \u001b[0mnx\u001b[0m\u001b[1;33m.\u001b[0m\u001b[0mdrawing\u001b[0m\u001b[1;33m.\u001b[0m\u001b[0mspring_layout\u001b[0m\u001b[1;33m(\u001b[0m\u001b[0mG\u001b[0m\u001b[1;33m)\u001b[0m  \u001b[1;31m# default to spring layout\u001b[0m\u001b[1;33m\u001b[0m\u001b[1;33m\u001b[0m\u001b[0m\n\u001b[0;32m    334\u001b[0m \u001b[1;33m\u001b[0m\u001b[0m\n\u001b[1;32m--> 335\u001b[1;33m     \u001b[0mdraw_networkx_nodes\u001b[0m\u001b[1;33m(\u001b[0m\u001b[0mG\u001b[0m\u001b[1;33m,\u001b[0m \u001b[0mpos\u001b[0m\u001b[1;33m,\u001b[0m \u001b[1;33m**\u001b[0m\u001b[0mnode_kwds\u001b[0m\u001b[1;33m)\u001b[0m\u001b[1;33m\u001b[0m\u001b[1;33m\u001b[0m\u001b[0m\n\u001b[0m\u001b[0;32m    336\u001b[0m     \u001b[0mdraw_networkx_edges\u001b[0m\u001b[1;33m(\u001b[0m\u001b[0mG\u001b[0m\u001b[1;33m,\u001b[0m \u001b[0mpos\u001b[0m\u001b[1;33m,\u001b[0m \u001b[0marrows\u001b[0m\u001b[1;33m=\u001b[0m\u001b[0marrows\u001b[0m\u001b[1;33m,\u001b[0m \u001b[1;33m**\u001b[0m\u001b[0medge_kwds\u001b[0m\u001b[1;33m)\u001b[0m\u001b[1;33m\u001b[0m\u001b[1;33m\u001b[0m\u001b[0m\n\u001b[0;32m    337\u001b[0m     \u001b[1;32mif\u001b[0m \u001b[0mwith_labels\u001b[0m\u001b[1;33m:\u001b[0m\u001b[1;33m\u001b[0m\u001b[1;33m\u001b[0m\u001b[0m\n",
      "\u001b[1;32m~\\anaconda3\\lib\\site-packages\\networkx\\drawing\\nx_pylab.py\u001b[0m in \u001b[0;36mdraw_networkx_nodes\u001b[1;34m(G, pos, nodelist, node_size, node_color, node_shape, alpha, cmap, vmin, vmax, ax, linewidths, edgecolors, label)\u001b[0m\n\u001b[0;32m    454\u001b[0m \u001b[1;33m\u001b[0m\u001b[0m\n\u001b[0;32m    455\u001b[0m     \u001b[1;32mtry\u001b[0m\u001b[1;33m:\u001b[0m\u001b[1;33m\u001b[0m\u001b[1;33m\u001b[0m\u001b[0m\n\u001b[1;32m--> 456\u001b[1;33m         \u001b[0mxy\u001b[0m \u001b[1;33m=\u001b[0m \u001b[0mnp\u001b[0m\u001b[1;33m.\u001b[0m\u001b[0masarray\u001b[0m\u001b[1;33m(\u001b[0m\u001b[1;33m[\u001b[0m\u001b[0mpos\u001b[0m\u001b[1;33m[\u001b[0m\u001b[0mv\u001b[0m\u001b[1;33m]\u001b[0m \u001b[1;32mfor\u001b[0m \u001b[0mv\u001b[0m \u001b[1;32min\u001b[0m \u001b[0mnodelist\u001b[0m\u001b[1;33m]\u001b[0m\u001b[1;33m)\u001b[0m\u001b[1;33m\u001b[0m\u001b[1;33m\u001b[0m\u001b[0m\n\u001b[0m\u001b[0;32m    457\u001b[0m     \u001b[1;32mexcept\u001b[0m \u001b[0mKeyError\u001b[0m \u001b[1;32mas\u001b[0m \u001b[0me\u001b[0m\u001b[1;33m:\u001b[0m\u001b[1;33m\u001b[0m\u001b[1;33m\u001b[0m\u001b[0m\n\u001b[0;32m    458\u001b[0m         \u001b[1;32mraise\u001b[0m \u001b[0mnx\u001b[0m\u001b[1;33m.\u001b[0m\u001b[0mNetworkXError\u001b[0m\u001b[1;33m(\u001b[0m\u001b[1;34mf\"Node {e} has no position.\"\u001b[0m\u001b[1;33m)\u001b[0m \u001b[1;32mfrom\u001b[0m \u001b[0me\u001b[0m\u001b[1;33m\u001b[0m\u001b[1;33m\u001b[0m\u001b[0m\n",
      "\u001b[1;32m~\\anaconda3\\lib\\site-packages\\networkx\\drawing\\nx_pylab.py\u001b[0m in \u001b[0;36m<listcomp>\u001b[1;34m(.0)\u001b[0m\n\u001b[0;32m    454\u001b[0m \u001b[1;33m\u001b[0m\u001b[0m\n\u001b[0;32m    455\u001b[0m     \u001b[1;32mtry\u001b[0m\u001b[1;33m:\u001b[0m\u001b[1;33m\u001b[0m\u001b[1;33m\u001b[0m\u001b[0m\n\u001b[1;32m--> 456\u001b[1;33m         \u001b[0mxy\u001b[0m \u001b[1;33m=\u001b[0m \u001b[0mnp\u001b[0m\u001b[1;33m.\u001b[0m\u001b[0masarray\u001b[0m\u001b[1;33m(\u001b[0m\u001b[1;33m[\u001b[0m\u001b[0mpos\u001b[0m\u001b[1;33m[\u001b[0m\u001b[0mv\u001b[0m\u001b[1;33m]\u001b[0m \u001b[1;32mfor\u001b[0m \u001b[0mv\u001b[0m \u001b[1;32min\u001b[0m \u001b[0mnodelist\u001b[0m\u001b[1;33m]\u001b[0m\u001b[1;33m)\u001b[0m\u001b[1;33m\u001b[0m\u001b[1;33m\u001b[0m\u001b[0m\n\u001b[0m\u001b[0;32m    457\u001b[0m     \u001b[1;32mexcept\u001b[0m \u001b[0mKeyError\u001b[0m \u001b[1;32mas\u001b[0m \u001b[0me\u001b[0m\u001b[1;33m:\u001b[0m\u001b[1;33m\u001b[0m\u001b[1;33m\u001b[0m\u001b[0m\n\u001b[0;32m    458\u001b[0m         \u001b[1;32mraise\u001b[0m \u001b[0mnx\u001b[0m\u001b[1;33m.\u001b[0m\u001b[0mNetworkXError\u001b[0m\u001b[1;33m(\u001b[0m\u001b[1;34mf\"Node {e} has no position.\"\u001b[0m\u001b[1;33m)\u001b[0m \u001b[1;32mfrom\u001b[0m \u001b[0me\u001b[0m\u001b[1;33m\u001b[0m\u001b[1;33m\u001b[0m\u001b[0m\n",
      "\u001b[1;31mTypeError\u001b[0m: string indices must be integers"
     ]
    },
    {
     "data": {
      "image/png": "[encoded data removed]",
      "text/plain": [
       "<Figure size 432x288 with 1 Axes>"
      ]
     },
     "metadata": {},
     "output_type": "display_data"
    }
   ],
   "source": [
    "G=nx.Graph()\n",
    "\n",
    "x=np.arange(1,ue_nr*2)\n",
    "G.add_node('cs')\n",
    "G.add_node('s-1')\n",
    "G.add_node('s-2')\n",
    "\n",
    "G.add_nodes_from(x)\n",
    "\n",
    "n_c=np.array(['red','red','red'])\n",
    "counter=1\n",
    "for i in ue_all:\n",
    "    if(i.comp==1):\n",
    "        G.add_edge(counter,'cs')\n",
    "        if(i.cell1==cluster[0]):\n",
    "            n_c=np.append(n_c,'green')\n",
    "        elif(i.cell1==cluster[1]):\n",
    "            n_c=np.append(n_c,'blue')\n",
    "    else:\n",
    "        if(i.cell1==cluster[0]):\n",
    "            G.add_edge(counter,'s-1')\n",
    "            n_c=np.append(n_c,'green')\n",
    "        elif(i.cell1==cluster[1]):\n",
    "            G.add_edge(counter,'s-2')\n",
    "            n_c=np.append(n_c,'blue')\n",
    "    counter+=1\n",
    "            \n",
    "n_s=np.ones(ue_nr*2+3)*300\n",
    "n_s[0:3]=1000\n",
    "\n",
    "\n",
    "nx.draw(G,with_labels=True,node_color=n_c,font_color='white',node_size=n_s)\n",
    "plt.draw()\n",
    "plt.show()"
   ]
  }
 ],
 "metadata": {
  "kernelspec": {
   "display_name": "Python 3",
   "language": "python",
   "name": "python3"
  },
  "language_info": {
   "codemirror_mode": {
    "name": "ipython",
    "version": 3
   },
   "file_extension": ".py",
   "mimetype": "text/x-python",
   "name": "python",
   "nbconvert_exporter": "python",
   "pygments_lexer": "ipython3",
   "version": "3.8.5"
  },
  "latex_envs": {
   "LaTeX_envs_menu_present": true,
   "autoclose": false,
   "autocomplete": true,
   "bibliofile": "biblio.bib",
   "cite_by": "apalike",
   "current_citInitial": 1,
   "eqLabelWithNumbers": true,
   "eqNumInitial": 1,
   "hotkeys": {
    "equation": "Ctrl-E",
    "itemize": "Ctrl-I"
   },
   "labels_anchors": false,
   "latex_user_defs": false,
   "report_style_numbering": false,
   "user_envs_cfg": false
  }
 },
 "nbformat": 4,
 "nbformat_minor": 4
}
