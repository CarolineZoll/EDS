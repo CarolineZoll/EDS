{
 "cells": [
  {
   "cell_type": "code",
   "execution_count": 1,
   "metadata": {},
   "outputs": [
    {
     "name": "stdout",
     "output_type": "stream",
     "text": [
      "\f",
      "\n"
     ]
    }
   ],
   "source": [
    "clear all"
   ]
  },
  {
   "cell_type": "code",
   "execution_count": 2,
   "metadata": {},
   "outputs": [],
   "source": [
    "import eds\n",
    "import simpy\n",
    "import numpy as np\n",
    "import pandas as pd\n",
    "import scipy\n",
    "import matplotlib.pyplot as plt\n",
    "import show as sh"
   ]
  },
  {
   "cell_type": "code",
   "execution_count": 3,
   "metadata": {},
   "outputs": [],
   "source": [
    "df=pd.read_csv('Prepro/Test-Data',index_col='Unnamed: 0')"
   ]
  },
  {
   "cell_type": "code",
   "execution_count": 4,
   "metadata": {},
   "outputs": [],
   "source": [
    "sectors=df['PCI Serving'].unique()"
   ]
  },
  {
   "cell_type": "code",
   "execution_count": 5,
   "metadata": {},
   "outputs": [],
   "source": [
    "cluster=[775,133]"
   ]
  },
  {
   "cell_type": "code",
   "execution_count": 6,
   "metadata": {},
   "outputs": [
    {
     "data": {
      "text/html": [
       "<div>\n",
       "<style scoped>\n",
       "    .dataframe tbody tr th:only-of-type {\n",
       "        vertical-align: middle;\n",
       "    }\n",
       "\n",
       "    .dataframe tbody tr th {\n",
       "        vertical-align: top;\n",
       "    }\n",
       "\n",
       "    .dataframe thead th {\n",
       "        text-align: right;\n",
       "    }\n",
       "</style>\n",
       "<table border=\"1\" class=\"dataframe\">\n",
       "  <thead>\n",
       "    <tr style=\"text-align: right;\">\n",
       "      <th></th>\n",
       "      <th>PCI Serving</th>\n",
       "      <th>PCI Coord</th>\n",
       "      <th>JT_1 SINR [dB]</th>\n",
       "      <th>JT_2 SINR [dB]</th>\n",
       "      <th>usage</th>\n",
       "      <th>id</th>\n",
       "    </tr>\n",
       "  </thead>\n",
       "  <tbody>\n",
       "    <tr>\n",
       "      <th>0</th>\n",
       "      <td>775</td>\n",
       "      <td>133</td>\n",
       "      <td>1.409338</td>\n",
       "      <td>5.395010</td>\n",
       "      <td>0.0</td>\n",
       "      <td>0</td>\n",
       "    </tr>\n",
       "    <tr>\n",
       "      <th>1</th>\n",
       "      <td>319</td>\n",
       "      <td>320</td>\n",
       "      <td>3.176740</td>\n",
       "      <td>7.131541</td>\n",
       "      <td>0.0</td>\n",
       "      <td>1</td>\n",
       "    </tr>\n",
       "    <tr>\n",
       "      <th>2</th>\n",
       "      <td>319</td>\n",
       "      <td>133</td>\n",
       "      <td>4.419560</td>\n",
       "      <td>8.212793</td>\n",
       "      <td>0.0</td>\n",
       "      <td>2</td>\n",
       "    </tr>\n",
       "    <tr>\n",
       "      <th>3</th>\n",
       "      <td>319</td>\n",
       "      <td>133</td>\n",
       "      <td>-0.134847</td>\n",
       "      <td>4.605813</td>\n",
       "      <td>0.0</td>\n",
       "      <td>3</td>\n",
       "    </tr>\n",
       "    <tr>\n",
       "      <th>4</th>\n",
       "      <td>775</td>\n",
       "      <td>133</td>\n",
       "      <td>5.475245</td>\n",
       "      <td>9.060011</td>\n",
       "      <td>0.0</td>\n",
       "      <td>4</td>\n",
       "    </tr>\n",
       "    <tr>\n",
       "      <th>...</th>\n",
       "      <td>...</td>\n",
       "      <td>...</td>\n",
       "      <td>...</td>\n",
       "      <td>...</td>\n",
       "      <td>...</td>\n",
       "      <td>...</td>\n",
       "    </tr>\n",
       "    <tr>\n",
       "      <th>295</th>\n",
       "      <td>775</td>\n",
       "      <td>133</td>\n",
       "      <td>-0.346754</td>\n",
       "      <td>5.891884</td>\n",
       "      <td>0.0</td>\n",
       "      <td>295</td>\n",
       "    </tr>\n",
       "    <tr>\n",
       "      <th>296</th>\n",
       "      <td>775</td>\n",
       "      <td>133</td>\n",
       "      <td>5.843846</td>\n",
       "      <td>10.334992</td>\n",
       "      <td>0.0</td>\n",
       "      <td>296</td>\n",
       "    </tr>\n",
       "    <tr>\n",
       "      <th>297</th>\n",
       "      <td>319</td>\n",
       "      <td>133</td>\n",
       "      <td>3.818989</td>\n",
       "      <td>8.026236</td>\n",
       "      <td>0.0</td>\n",
       "      <td>297</td>\n",
       "    </tr>\n",
       "    <tr>\n",
       "      <th>298</th>\n",
       "      <td>775</td>\n",
       "      <td>776</td>\n",
       "      <td>5.057074</td>\n",
       "      <td>7.984402</td>\n",
       "      <td>0.0</td>\n",
       "      <td>298</td>\n",
       "    </tr>\n",
       "    <tr>\n",
       "      <th>299</th>\n",
       "      <td>776</td>\n",
       "      <td>319</td>\n",
       "      <td>0.308175</td>\n",
       "      <td>4.028959</td>\n",
       "      <td>0.0</td>\n",
       "      <td>299</td>\n",
       "    </tr>\n",
       "  </tbody>\n",
       "</table>\n",
       "<p>297 rows × 6 columns</p>\n",
       "</div>"
      ],
      "text/plain": [
       "     PCI Serving  PCI Coord  JT_1 SINR [dB]  JT_2 SINR [dB]  usage   id\n",
       "0            775        133        1.409338        5.395010    0.0    0\n",
       "1            319        320        3.176740        7.131541    0.0    1\n",
       "2            319        133        4.419560        8.212793    0.0    2\n",
       "3            319        133       -0.134847        4.605813    0.0    3\n",
       "4            775        133        5.475245        9.060011    0.0    4\n",
       "..           ...        ...             ...             ...    ...  ...\n",
       "295          775        133       -0.346754        5.891884    0.0  295\n",
       "296          775        133        5.843846       10.334992    0.0  296\n",
       "297          319        133        3.818989        8.026236    0.0  297\n",
       "298          775        776        5.057074        7.984402    0.0  298\n",
       "299          776        319        0.308175        4.028959    0.0  299\n",
       "\n",
       "[297 rows x 6 columns]"
      ]
     },
     "execution_count": 6,
     "metadata": {},
     "output_type": "execute_result"
    }
   ],
   "source": [
    "df"
   ]
  },
  {
   "cell_type": "code",
   "execution_count": 9,
   "metadata": {},
   "outputs": [],
   "source": [
    "def df_to_ue_lists(df,cluster,thr,env):\n",
    "\n",
    "    df_filter=df.groupby('PCI Serving')\n",
    "    ue_dict={}\n",
    "    for i in cluster:\n",
    "        counter=0\n",
    "        ue_list=np.array([])\n",
    "        df2=df_filter.get_group(i)\n",
    "        for j in df2.index:\n",
    "            ue_list=np.append(ue_list, eds.ue(df.loc[j]['JT_1 SINR [dB]'],df.loc[j]['JT_2 SINR [dB]'],df.loc[j]['PCI Serving'],df.loc[j]['PCI Coord'],env,df.loc[j]['usage'], thr,j))\n",
    "        ue_dict[i]= ue_list\n",
    "    return ue_dict\n",
    "\n",
    "def get_user_from_cluster(ue_dict,cluster):\n",
    "    ue_dict_red={}\n",
    "    for i in cluster:\n",
    "        liste=np.array([])\n",
    "        for j in ue_dict[i]:\n",
    "            if(i==cluster[0]):\n",
    "                if(j.cell2==cluster[1]):\n",
    "                    liste=np.append(liste,j)\n",
    "            elif(i==cluster[1]):\n",
    "                if(j.cell2==cluster[0]):\n",
    "                    liste=np.append(liste,j)\n",
    "        ue_dict_red.update({i:liste})\n",
    "    ue_dict_red2={}\n",
    "    for i in [775,133]:\n",
    "        ue_dict_red2[i]=ue_dict_red[i][0:10]\n",
    "\n",
    "    ue_all=np.array([])\n",
    "    for i in cluster:\n",
    "        ue_all=np.append(ue_all,ue_dict_red2[i])\n",
    "    return ue_dict_red2,ue_all\n"
   ]
  },
  {
   "cell_type": "code",
   "execution_count": 11,
   "metadata": {},
   "outputs": [],
   "source": [
    "env = env=simpy.Environment()\n",
    "ue_dict=eds.df_to_ue_lists2(df,cluster,6,env)\n",
    "ue_dict_red2,ue_all=eds.get_user_from_cluster(ue_dict,cluster)"
   ]
  },
  {
   "cell_type": "code",
   "execution_count": 15,
   "metadata": {},
   "outputs": [],
   "source": [
    "max_prb=50\n",
    "ue_nr=10\n",
    "metric=[1,1]\n",
    "size=4000\n",
    "\n",
    "prb_number_comp=round(eds.calculate_prb_number(ue_all,max_prb)/1.1)\n",
    "prb_number_normal=max_prb-prb_number_comp\n"
   ]
  },
  {
   "cell_type": "code",
   "execution_count": 16,
   "metadata": {},
   "outputs": [
    {
     "name": "stderr",
     "output_type": "stream",
     "text": [
      "C:\\Users\\Caroline Zoll\\EDS\\eds.py:218: RuntimeWarning: divide by zero encountered in double_scalars\n",
      "  metric=np.append(metric,((i.cp)**e1/(i.mR**e2)))\n",
      "C:\\Users\\Caroline Zoll\\EDS\\eds.py:248: RuntimeWarning: divide by zero encountered in double_scalars\n",
      "  metric=np.append(metric,((cp)**e1/(i.mR2)**e2))\n"
     ]
    },
    {
     "name": "stdout",
     "output_type": "stream",
     "text": [
      "1000\n",
      "1.0044528098205416\n",
      "1200\n",
      "1.0041473810719128\n",
      "1400\n",
      "0.9805303517480152\n",
      "1600\n",
      "0.9522358859162363\n",
      "1800\n",
      "0.9301918866665764\n",
      "2000\n",
      "0.9279102089914393\n",
      "2200\n",
      "0.9543049633288619\n",
      "2400\n",
      "0.9939893152460717\n",
      "2600\n",
      "1.0251035623860476\n",
      "2800\n",
      "1.0699086659924155\n",
      "3000\n",
      "1.0994773885961822\n",
      "3200\n",
      "1.1018732094171169\n",
      "3400\n",
      "1.0969537288172555\n",
      "3600\n",
      "1.1132814829062687\n",
      "3800\n",
      "1.1243911878454018\n",
      "4000\n",
      "1.132451193807097\n",
      "4200\n",
      "1.1379060719993483\n",
      "4400\n",
      "1.1433576589686965\n",
      "4600\n",
      "1.1460407179706311\n",
      "4800\n",
      "1.1491102263620834\n",
      "5000\n",
      "1.1513342113972982\n",
      "5200\n",
      "1.1564581431657057\n",
      "5400\n",
      "1.162300899289577\n",
      "5600\n",
      "1.1709819434303919\n",
      "5800\n",
      "1.1713765508540877\n",
      "6000\n",
      "1.1743749349470791\n",
      "6200\n",
      "1.1723989864228284\n",
      "6400\n",
      "1.174869839420365\n",
      "6600\n",
      "1.1745888777194708\n",
      "6800\n",
      "1.1731942126669967\n",
      "7000\n",
      "1.1701780020263035\n",
      "7200\n",
      "1.1740082832004797\n",
      "7400\n",
      "1.1732665852166764\n",
      "7600\n",
      "1.1712370391104712\n",
      "7800\n",
      "1.1738255159015036\n"
     ]
    }
   ],
   "source": [
    "load1=np.array([])\n",
    "load2=np.array([])\n",
    "speicher={}\n",
    "queue_len=np.array([])\n",
    "ran=np.arange(1000,8000,200)\n",
    "for k in ran:\n",
    "    prb_number_comp=37\n",
    "    prb_number_normal=max_prb-prb_number_comp\n",
    "    \n",
    "    \n",
    "    env = env=simpy.Environment()\n",
    "\n",
    "    ue_dict=eds.df_to_ue_lists(df,cluster,6,env)\n",
    "    ue_dict_red2,ue_all=eds.get_user_from_cluster(ue_dict,cluster)\n",
    "    #Start processes\n",
    "\n",
    "    SCHEDULE_T=2 #Clock des Schedulers \n",
    "    for i in cluster:\n",
    "        ue_list=ue_dict_red2[i]\n",
    "        for j in ue_list:\n",
    "            env.process(j.best_effort(env,k))\n",
    "\n",
    "    ue_comp=np.array([]) #ues that use comp -> processed by central_scheduler\n",
    "    for i in cluster:\n",
    "        ue_list=ue_dict_red2[i]\n",
    "        new_ue_list=np.array([])\n",
    "        for j in ue_list:\n",
    "            if(j.comp == 0):\n",
    "                new_ue_list=np.append(new_ue_list,j)\n",
    "            else:\n",
    "                ue_comp=np.append(ue_comp,j)\n",
    "        ue_dict[i]=new_ue_list #user without comp\n",
    "\n",
    "    env.process(eds.central_scheduler(env,ue_comp,SCHEDULE_T,cluster,prb_number_comp,metric))\n",
    "\n",
    "    counter=0\n",
    "    for i in cluster:\n",
    "        ue_list=ue_dict[i]\n",
    "        ue_sep=ue_all[counter*ue_nr:((counter+1)*ue_nr)]\n",
    "        env.process(eds.scheduler(env,ue_sep,SCHEDULE_T,cluster,max_prb,ue_list,prb_number_normal,metric))\n",
    "        counter=counter+1\n",
    "    env.run(until=1000)\n",
    "        \n",
    "    m=0\n",
    "    for i in ue_all:\n",
    "        m+=(i.mR2/i.mR)\n",
    "    print(k)\n",
    "    print(m/20)\n",
    "    \n",
    "    av=0\n",
    "    empty=0\n",
    "    liste=np.array([])\n",
    "    \n",
    "    for i in ue_all:\n",
    "        liste=np.append(liste,((i.mR2/i.mR)-1)*100)\n",
    "        av+=i.mR2/i.mR\n",
    "        if(i.queue.level!=0):\n",
    "            empty=1\n",
    "\n",
    "    queue_len=np.append(queue_len, empty)\n",
    "    av=av/(ue_nr*2)\n",
    "    speicher.update({k:liste})\n",
    "    \n",
    "    \n",
    "    count=0\n",
    "    count2=0\n",
    "    for i in ue_all[0:10]:\n",
    "        count+=np.ceil(k/i.tbs)\n",
    "    for i in ue_all[10:20]:\n",
    "        count2+=np.ceil(k/i.tbs)\n",
    "    \n",
    "    total=max_prb*5 #total number of prbs \n",
    "\n",
    "    load1=np.append(load1,count*100/total)\n",
    "    load2=np.append(load2,count2*100/total)"
   ]
  },
  {
   "cell_type": "code",
   "execution_count": 17,
   "metadata": {},
   "outputs": [],
   "source": [
    "ue_dict=eds.df_to_ue_lists2(df,cluster,6,env)"
   ]
  },
  {
   "cell_type": "code",
   "execution_count": 18,
   "metadata": {},
   "outputs": [],
   "source": [
    "l=np.array([])\n",
    "l2=np.array([])\n",
    "for i in ran:\n",
    "    x=speicher.get(i)\n",
    "    m=x[0:ue_nr].mean()\n",
    "    m2=x[ue_nr:ue_nr*2].mean()\n",
    "    l=np.append(l,m)\n",
    "    l2=np.append(l2,m2)\n",
    "min_val=min(np.append(load1,load2))\n",
    "max_val=max(np.append(load1,load2))"
   ]
  },
  {
   "cell_type": "code",
   "execution_count": 19,
   "metadata": {},
   "outputs": [
    {
     "data": {
      "text/plain": [
       "(39.2, 416.8)"
      ]
     },
     "execution_count": 19,
     "metadata": {},
     "output_type": "execute_result"
    },
    {
     "data": {
      "image/png": "[encoded data removed]",
      "text/plain": [
       "<Figure size 432x288 with 1 Axes>"
      ]
     },
     "metadata": {
      "needs_background": "light"
     },
     "output_type": "display_data"
    }
   ],
   "source": [
    "plt.plot(load1,l,)\n",
    "plt.xlabel('Auslastung [%]')\n",
    "plt.ylabel('Gain with CoMP [%]')\n",
    "ax = plt.gca()\n",
    "ax.set_xlim([min_val,max_val])"
   ]
  },
  {
   "cell_type": "code",
   "execution_count": 20,
   "metadata": {},
   "outputs": [
    {
     "data": {
      "text/plain": [
       "(39.2, 416.8)"
      ]
     },
     "execution_count": 20,
     "metadata": {},
     "output_type": "execute_result"
    },
    {
     "data": {
      "image/png": "[encoded data removed]",
      "text/plain": [
       "<Figure size 432x288 with 1 Axes>"
      ]
     },
     "metadata": {
      "needs_background": "light"
     },
     "output_type": "display_data"
    }
   ],
   "source": [
    "plt.plot(load2,l2)\n",
    "plt.xlabel('Auslastung [%]')\n",
    "plt.ylabel('Gain with CoMP [%]')\n",
    "ax = plt.gca()\n",
    "ax.set_xlim([min_val,max_val])"
   ]
  },
  {
   "cell_type": "code",
   "execution_count": 21,
   "metadata": {},
   "outputs": [
    {
     "name": "stderr",
     "output_type": "stream",
     "text": [
      "No handles with labels found to put in legend.\n"
     ]
    },
    {
     "name": "stdout",
     "output_type": "stream",
     "text": [
      "CoMP-gain 1.1738255159015036\n",
      "10% Quantil: -61.53394429495508\n",
      "90% Quantil: 120.95957354924123\n",
      "50% Quantil (Median): -45.08255347381871\n"
     ]
    },
    {
     "data": {
      "image/png": "[encoded data removed]",
      "text/plain": [
       "<Figure size 720x720 with 1 Axes>"
      ]
     },
     "metadata": {
      "needs_background": "light"
     },
     "output_type": "display_data"
    }
   ],
   "source": [
    "av=0\n",
    "liste=np.array([])\n",
    "ue=speicher[1200]\n",
    "for i in ue_all:\n",
    "    liste=np.append(liste,((i.mR2/i.mR)-1)*100)\n",
    "    av+=i.mR2/i.mR\n",
    "av=av/(ue_nr*2)\n",
    "print('CoMP-gain',av)\n",
    "\n",
    "sh.cdf_1(liste,'','red','CDF der Ratengewinne mit CoMP',min(liste),max(liste),'Gewinn [%]',60)"
   ]
  },
  {
   "cell_type": "code",
   "execution_count": 88,
   "metadata": {},
   "outputs": [
    {
     "data": {
      "image/png": "[encoded data removed]",
      "text/plain": [
       "<Figure size 864x432 with 1 Axes>"
      ]
     },
     "metadata": {
      "needs_background": "light"
     },
     "output_type": "display_data"
    }
   ],
   "source": [
    "plt.figure(figsize=(12,6))\n",
    "plt.plot(list(ue_all[2].mon.keys()),list(ue_all[2].mon.values()),label='UE1')\n",
    "plt.plot(list(ue_all[7].mon.keys()),list(ue_all[7].mon.values()),label='UE2 - RT')\n",
    "plt.xlabel('Time-Slots in [1 ms]')\n",
    "plt.ylabel('Bits in buffer')\n",
    "plt.legend(loc=\"upper left\")\n",
    "plt.grid()"
   ]
  },
  {
   "cell_type": "code",
   "execution_count": null,
   "metadata": {},
   "outputs": [],
   "source": [
    "ue_all=np.array([])\n",
    "for i in cluster:\n",
    "    ue_all=np.append(ue_all,ue_dict_red2[i]) "
   ]
  },
  {
   "cell_type": "code",
   "execution_count": null,
   "metadata": {},
   "outputs": [],
   "source": [
    "av=0\n",
    "liste=np.array([])\n",
    "for i in ue_all:\n",
    "    liste=np.append(liste,((i.mR2/i.mR)-1)*100)\n",
    "    av+=i.mR2/i.mR\n",
    "av=av/(ue_nr*2)\n",
    "print('CoMP-gain',av)\n",
    "\n",
    "sh.cdf_1(liste,'','red','CDF der Ratengewinne mit CoMP',min(liste),max(liste),'Gewinn [%]',60)"
   ]
  },
  {
   "cell_type": "code",
   "execution_count": null,
   "metadata": {},
   "outputs": [],
   "source": [
    "for i in ue_all:\n",
    "    #print(i.comp)\n",
    "    #print(i.tbs2/i.tbs)\n",
    "    print('Q1')\n",
    "    print(i.queue.level)\n",
    "    print('Q2')\n",
    "    print(i.queue2.level)\n",
    "    print(i.comp)"
   ]
  }
 ],
 "metadata": {
  "kernelspec": {
   "display_name": "Python 3",
   "language": "python",
   "name": "python3"
  },
  "language_info": {
   "codemirror_mode": {
    "name": "ipython",
    "version": 3
   },
   "file_extension": ".py",
   "mimetype": "text/x-python",
   "name": "python",
   "nbconvert_exporter": "python",
   "pygments_lexer": "ipython3",
   "version": "3.8.5"
  },
  "latex_envs": {
   "LaTeX_envs_menu_present": true,
   "autoclose": false,
   "autocomplete": true,
   "bibliofile": "biblio.bib",
   "cite_by": "apalike",
   "current_citInitial": 1,
   "eqLabelWithNumbers": true,
   "eqNumInitial": 1,
   "hotkeys": {
    "equation": "Ctrl-E",
    "itemize": "Ctrl-I"
   },
   "labels_anchors": false,
   "latex_user_defs": false,
   "report_style_numbering": false,
   "user_envs_cfg": false
  }
 },
 "nbformat": 4,
 "nbformat_minor": 4
}
