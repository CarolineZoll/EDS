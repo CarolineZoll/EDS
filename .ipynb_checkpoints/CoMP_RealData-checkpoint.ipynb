{
 "cells": [
  {
   "cell_type": "code",
   "execution_count": 49,
   "metadata": {},
   "outputs": [],
   "source": [
    "import eds\n",
    "import simpy\n",
    "import numpy as np\n",
    "import pandas as pd\n",
    "import scipy\n",
    "import matplotlib.pyplot as plt\n",
    "import show as sh"
   ]
  },
  {
   "cell_type": "code",
   "execution_count": 50,
   "metadata": {},
   "outputs": [
    {
     "name": "stdout",
     "output_type": "stream",
     "text": [
      "\f",
      "\n"
     ]
    }
   ],
   "source": [
    "clear all"
   ]
  },
  {
   "cell_type": "code",
   "execution_count": 51,
   "metadata": {},
   "outputs": [],
   "source": [
    "df=pd.read_csv('Prepro/Test-Data',index_col='Unnamed: 0')"
   ]
  },
  {
   "cell_type": "code",
   "execution_count": 52,
   "metadata": {},
   "outputs": [],
   "source": [
    "sectors=df['PCI Serving'].unique()"
   ]
  },
  {
   "cell_type": "code",
   "execution_count": 53,
   "metadata": {},
   "outputs": [],
   "source": [
    "cluster=[775,133]"
   ]
  },
  {
   "cell_type": "code",
   "execution_count": 55,
   "metadata": {},
   "outputs": [],
   "source": [
    "max_prb=50\n",
    "ue_nr=10\n",
    "metric=[1,1]\n",
    "size=4000\n",
    "\n",
    "prb_number_comp=round(eds.calculate_prb_number(ue_all,max_prb)/1.1)\n",
    "prb_number_normal=max_prb-prb_number_comp\n"
   ]
  },
  {
   "cell_type": "code",
   "execution_count": 100,
   "metadata": {},
   "outputs": [],
   "source": [
    "#check if the number of users (positions) for the serving pci is >10\n",
    "df_f=df.groupby('PCI Serving')\n",
    "count=0\n",
    "for i in cluster:\n",
    "    k=df_f.get_group(i)\n",
    "    if(len(k)<10):\n",
    "        cluster=np.delete(cluster,count) #delete cells with less than 10 positions\n",
    "        df=df[df['PCI Serving']!=i]\n",
    "    count+=1\n",
    "    \n",
    "env = simpy.rt.RealtimeEnvironment()\n",
    "thr=6\n",
    "df_filter=df.groupby('PCI Serving')\n",
    "ue_dict={}\n",
    "for i in cluster:\n",
    "    counter=0\n",
    "    ue_list=np.array([])\n",
    "    df2=df_filter.get_group(i) \n",
    "    #convert dataframe into data format that fits the EDS \n",
    "    for j in df2.index:\n",
    "        ue_list=np.append(ue_list, eds.ue(df.loc[j]['JT_1 SINR [dB]'],df.loc[j]['JT_2 SINR [dB]'],df.loc[j]['PCI Serving'],df.loc[j]['PCI Coord'],env,0, thr,j))\n",
    "    ue_dict[i]= ue_list\n",
    "\n",
    "ue_dict_red={}\n",
    "for i in [775,133]:\n",
    "    liste=np.array([])\n",
    "    for j in ue_dict[i]:\n",
    "        if(i==775):\n",
    "            if(j.cell2==133):\n",
    "                liste=np.append(liste,j)\n",
    "        elif(i==133):\n",
    "            if(j.cell2==775):\n",
    "                liste=np.append(liste,j)\n",
    "    ue_dict_red.update({i:liste})\n",
    "ue_dict_red2={}\n",
    "for i in [775,133]:\n",
    "    ue_dict_red2[i]=ue_dict_red[i][0:10]\n",
    "\n",
    "ue_all=np.array([])\n",
    "for i in cluster:\n",
    "    ue_all=np.append(ue_all,ue_dict_red2[i])"
   ]
  },
  {
   "cell_type": "code",
   "execution_count": 101,
   "metadata": {},
   "outputs": [
    {
     "name": "stderr",
     "output_type": "stream",
     "text": [
      "C:\\Users\\Caroline Zoll\\EDS\\eds.py:181: RuntimeWarning: divide by zero encountered in double_scalars\n",
      "  metric=np.append(metric,((i.cp)**e1/(i.mR**e2)))\n",
      "C:\\Users\\Caroline Zoll\\EDS\\eds.py:211: RuntimeWarning: divide by zero encountered in double_scalars\n",
      "  metric=np.append(metric,((cp)**e1/(i.mR2)**e2))\n"
     ]
    },
    {
     "name": "stdout",
     "output_type": "stream",
     "text": [
      "1000\n",
      "1.0044532108541555\n",
      "1050\n",
      "1.0049518282873247\n",
      "1100\n",
      "1.0047119912926976\n",
      "1150\n",
      "1.0046013706719434\n",
      "1200\n",
      "1.0045860082919482\n",
      "1250\n",
      "1.0006385855915716\n",
      "1300\n",
      "0.9981274134096404\n",
      "1350\n",
      "0.9893546843141966\n",
      "1400\n",
      "0.9809843558543495\n",
      "1450\n",
      "0.9730538634872445\n",
      "1500\n",
      "0.9657678634111525\n",
      "1550\n",
      "0.9590480682351468\n",
      "1600\n",
      "0.9526825553868458\n",
      "1650\n",
      "0.9465273899848331\n",
      "1700\n",
      "0.9409058731653162\n",
      "1750\n",
      "0.9356709729489076\n",
      "1800\n",
      "0.9306376079718996\n",
      "1850\n",
      "0.9214217804196354\n",
      "1900\n",
      "0.9241145471876084\n",
      "1950\n",
      "0.9315545069415432\n",
      "2000\n",
      "0.9284272430485613\n",
      "2050\n",
      "0.9361817561681184\n",
      "2100\n",
      "0.9380391855593959\n",
      "2150\n",
      "0.9508904661678613\n"
     ]
    }
   ],
   "source": [
    "load1=np.array([])\n",
    "load2=np.array([])\n",
    "speicher={}\n",
    "queue_len=np.array([])\n",
    "ran=np.arange(1000,2200,50)\n",
    "for k in ran:\n",
    "    prb_number_comp=37\n",
    "    prb_number_normal=max_prb-prb_number_comp\n",
    "    \n",
    "    \n",
    "    env=simpy.Environment()\n",
    "    #Start processes\n",
    "\n",
    "    SCHEDULE_T=2 #Clock des Schedulers \n",
    "    for i in cluster:\n",
    "        ue_list=ue_dict_red2[i]\n",
    "        for j in ue_list:\n",
    "            env.process(j.best_effort(env,k))\n",
    "\n",
    "    ue_comp=np.array([]) #ues that use comp -> processed by central_scheduler\n",
    "    for i in cluster:\n",
    "        ue_list=ue_dict_red2[i]\n",
    "        new_ue_list=np.array([])\n",
    "        for j in ue_list:\n",
    "            if(j.comp == 0):\n",
    "                new_ue_list=np.append(new_ue_list,j)\n",
    "            else:\n",
    "                ue_comp=np.append(ue_comp,j)\n",
    "        ue_dict[i]=new_ue_list #user without comp\n",
    "\n",
    "    env.process(eds.central_scheduler(env,ue_comp,SCHEDULE_T,cluster,prb_number_comp,metric))\n",
    "\n",
    "    counter=0\n",
    "    for i in cluster:\n",
    "        ue_list=ue_dict[i]\n",
    "        ue_sep=ue_all[counter*ue_nr:((counter+1)*ue_nr)]\n",
    "        env.process(eds.scheduler(env,ue_sep,SCHEDULE_T,cluster,max_prb,ue_list,prb_number_normal,metric))\n",
    "        counter=counter+1\n",
    "    env.run(until=1000)\n",
    "        \n",
    "    m=0\n",
    "    for i in ue_all:\n",
    "        m+=(i.mR2/i.mR)\n",
    "    print(k)\n",
    "    print(m/20)\n",
    "    \n",
    "    av=0\n",
    "    empty=0\n",
    "    liste=np.array([])\n",
    "    \n",
    "    for i in ue_all:\n",
    "        liste=np.append(liste,((i.mR2/i.mR)-1)*100)\n",
    "        av+=i.mR2/i.mR\n",
    "        if(i.queue.level!=0):\n",
    "            empty=1\n",
    "\n",
    "    queue_len=np.append(queue_len, empty)\n",
    "    av=av/(ue_nr*2)\n",
    "    speicher.update({k:liste})\n",
    "    \n",
    "    \n",
    "    count=0\n",
    "    count2=0\n",
    "    for i in ue_all[0:10]:\n",
    "        count+=np.ceil(k/i.tbs)\n",
    "    for i in ue_all[10:20]:\n",
    "        count2+=np.ceil(k/i.tbs)\n",
    "    \n",
    "    total=max_prb*5 #total number of prbs \n",
    "\n",
    "    load1=np.append(load1,count*100/total)\n",
    "    load2=np.append(load2,count2*100/total)"
   ]
  },
  {
   "cell_type": "code",
   "execution_count": 104,
   "metadata": {},
   "outputs": [
    {
     "name": "stdout",
     "output_type": "stream",
     "text": [
      "0.6611029498389376\n",
      "0\n",
      "0.9915370593815718\n",
      "0\n",
      "0.9909053608137628\n",
      "0\n",
      "0.9998010347273468\n",
      "0\n",
      "1.0092250711725799\n",
      "1\n",
      "0.9978872141423024\n",
      "0\n",
      "1.0105649443335998\n",
      "1\n",
      "1.008186837176817\n",
      "1\n",
      "1.0232299826525797\n",
      "1\n",
      "0.7629157652257732\n",
      "0\n",
      "1.0215819909215464\n",
      "1\n",
      "1.3660852799013496\n",
      "1\n",
      "1.0227699466083775\n",
      "1\n",
      "0.5922064972194616\n",
      "0\n",
      "0.586342611304744\n",
      "0\n",
      "0.611774753517097\n",
      "0\n",
      "0.5311090996605241\n",
      "0\n",
      "1.7374002239910058\n",
      "1\n",
      "0.6224432263348184\n",
      "0\n",
      "1.4707394744330295\n",
      "1\n"
     ]
    }
   ],
   "source": [
    "for i in ue_all:\n",
    "    print(i.mR2/i.mR)\n",
    "    print(i.comp)"
   ]
  },
  {
   "cell_type": "code",
   "execution_count": 95,
   "metadata": {},
   "outputs": [],
   "source": [
    "l=np.array([])\n",
    "l2=np.array([])\n",
    "for i in ran:\n",
    "    x=speicher.get(i)\n",
    "    m=x[0:ue_nr].mean()\n",
    "    m2=x[ue_nr:ue_nr*2].mean()\n",
    "    l=np.append(l,m)\n",
    "    l2=np.append(l2,m2)\n",
    "min_val=min(np.append(load1,load2))\n",
    "max_val=max(np.append(load1,load2))"
   ]
  },
  {
   "cell_type": "code",
   "execution_count": 96,
   "metadata": {},
   "outputs": [
    {
     "data": {
      "text/plain": [
       "(39.2, 532.8)"
      ]
     },
     "execution_count": 96,
     "metadata": {},
     "output_type": "execute_result"
    },
    {
     "data": {
      "image/png": "[encoded data removed]",
      "text/plain": [
       "<Figure size 432x288 with 1 Axes>"
      ]
     },
     "metadata": {
      "needs_background": "light"
     },
     "output_type": "display_data"
    }
   ],
   "source": [
    "plt.plot(load1,l,)\n",
    "plt.xlabel('Auslastung [%]')\n",
    "plt.ylabel('Gain with CoMP [%]')\n",
    "ax = plt.gca()\n",
    "ax.set_xlim([min_val,max_val])"
   ]
  },
  {
   "cell_type": "code",
   "execution_count": 97,
   "metadata": {},
   "outputs": [
    {
     "data": {
      "text/plain": [
       "(39.2, 532.8)"
      ]
     },
     "execution_count": 97,
     "metadata": {},
     "output_type": "execute_result"
    },
    {
     "data": {
      "image/png": "[encoded data removed]",
      "text/plain": [
       "<Figure size 432x288 with 1 Axes>"
      ]
     },
     "metadata": {
      "needs_background": "light"
     },
     "output_type": "display_data"
    }
   ],
   "source": [
    "plt.plot(load2,l2)\n",
    "plt.xlabel('Auslastung [%]')\n",
    "plt.ylabel('Gain with CoMP [%]')\n",
    "ax = plt.gca()\n",
    "ax.set_xlim([min_val,max_val])"
   ]
  },
  {
   "cell_type": "code",
   "execution_count": 91,
   "metadata": {},
   "outputs": [
    {
     "name": "stderr",
     "output_type": "stream",
     "text": [
      "No handles with labels found to put in legend.\n"
     ]
    },
    {
     "name": "stdout",
     "output_type": "stream",
     "text": [
      "CoMP-gain 1.1784105904579039\n",
      "10% Quantil: -60.66451134848842\n",
      "90% Quantil: 126.02115577416505\n",
      "50% Quantil (Median): -49.72101708292915\n"
     ]
    },
    {
     "data": {
      "image/png": "[encoded data removed]",
      "text/plain": [
       "<Figure size 720x720 with 1 Axes>"
      ]
     },
     "metadata": {
      "needs_background": "light"
     },
     "output_type": "display_data"
    }
   ],
   "source": [
    "av=0\n",
    "liste=np.array([])\n",
    "ue=speicher[1200]\n",
    "for i in ue_all:\n",
    "    liste=np.append(liste,((i.mR2/i.mR)-1)*100)\n",
    "    av+=i.mR2/i.mR\n",
    "av=av/(ue_nr*2)\n",
    "print('CoMP-gain',av)\n",
    "\n",
    "sh.cdf_1(liste,'','red','CDF der Ratengewinne mit CoMP',min(liste),max(liste),'Gewinn [%]',60)"
   ]
  },
  {
   "cell_type": "code",
   "execution_count": 88,
   "metadata": {},
   "outputs": [
    {
     "data": {
      "image/png": "[encoded data removed]",
      "text/plain": [
       "<Figure size 864x432 with 1 Axes>"
      ]
     },
     "metadata": {
      "needs_background": "light"
     },
     "output_type": "display_data"
    }
   ],
   "source": [
    "plt.figure(figsize=(12,6))\n",
    "plt.plot(list(ue_all[2].mon.keys()),list(ue_all[2].mon.values()),label='UE1')\n",
    "plt.plot(list(ue_all[7].mon.keys()),list(ue_all[7].mon.values()),label='UE2 - RT')\n",
    "plt.xlabel('Time-Slots in [1 ms]')\n",
    "plt.ylabel('Bits in buffer')\n",
    "plt.legend(loc=\"upper left\")\n",
    "plt.grid()"
   ]
  },
  {
   "cell_type": "code",
   "execution_count": null,
   "metadata": {},
   "outputs": [],
   "source": [
    "ue_all=np.array([])\n",
    "for i in cluster:\n",
    "    ue_all=np.append(ue_all,ue_dict_red2[i]) "
   ]
  },
  {
   "cell_type": "code",
   "execution_count": null,
   "metadata": {},
   "outputs": [],
   "source": [
    "av=0\n",
    "liste=np.array([])\n",
    "for i in ue_all:\n",
    "    liste=np.append(liste,((i.mR2/i.mR)-1)*100)\n",
    "    av+=i.mR2/i.mR\n",
    "av=av/(ue_nr*2)\n",
    "print('CoMP-gain',av)\n",
    "\n",
    "sh.cdf_1(liste,'','red','CDF der Ratengewinne mit CoMP',min(liste),max(liste),'Gewinn [%]',60)"
   ]
  },
  {
   "cell_type": "code",
   "execution_count": null,
   "metadata": {},
   "outputs": [],
   "source": [
    "for i in ue_all:\n",
    "    #print(i.comp)\n",
    "    #print(i.tbs2/i.tbs)\n",
    "    print('Q1')\n",
    "    print(i.queue.level)\n",
    "    print('Q2')\n",
    "    print(i.queue2.level)\n",
    "    print(i.comp)"
   ]
  }
 ],
 "metadata": {
  "kernelspec": {
   "display_name": "Python 3",
   "language": "python",
   "name": "python3"
  },
  "language_info": {
   "codemirror_mode": {
    "name": "ipython",
    "version": 3
   },
   "file_extension": ".py",
   "mimetype": "text/x-python",
   "name": "python",
   "nbconvert_exporter": "python",
   "pygments_lexer": "ipython3",
   "version": "3.8.5"
  },
  "latex_envs": {
   "LaTeX_envs_menu_present": true,
   "autoclose": false,
   "autocomplete": true,
   "bibliofile": "biblio.bib",
   "cite_by": "apalike",
   "current_citInitial": 1,
   "eqLabelWithNumbers": true,
   "eqNumInitial": 1,
   "hotkeys": {
    "equation": "Ctrl-E",
    "itemize": "Ctrl-I"
   },
   "labels_anchors": false,
   "latex_user_defs": false,
   "report_style_numbering": false,
   "user_envs_cfg": false
  }
 },
 "nbformat": 4,
 "nbformat_minor": 4
}
