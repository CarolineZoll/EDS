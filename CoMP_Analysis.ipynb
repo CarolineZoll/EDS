{
 "cells": [
  {
   "cell_type": "code",
   "execution_count": 68,
   "metadata": {},
   "outputs": [],
   "source": [
    "import eds \n",
    "import simpy\n",
    "import numpy as np\n",
    "import pandas as pd\n",
    "import scipy\n",
    "import matplotlib.pyplot as plt\n",
    "import show as sh"
   ]
  },
  {
   "cell_type": "code",
   "execution_count": 69,
   "metadata": {},
   "outputs": [
    {
     "name": "stdout",
     "output_type": "stream",
     "text": [
      "\f",
      "\n"
     ]
    }
   ],
   "source": [
    "clear all"
   ]
  },
  {
   "cell_type": "code",
   "execution_count": 70,
   "metadata": {},
   "outputs": [],
   "source": [
    "df=pd.read_csv('Prepro/Test-Data',index_col='Unnamed: 0')\n",
    "\n",
    "sectors=df['PCI Serving'].unique()\n",
    "cluster=[775,133]"
   ]
  },
  {
   "cell_type": "code",
   "execution_count": 71,
   "metadata": {},
   "outputs": [],
   "source": [
    "sectors=df['PCI Serving'].unique()"
   ]
  },
  {
   "cell_type": "code",
   "execution_count": 72,
   "metadata": {},
   "outputs": [],
   "source": [
    "cluster=[775,133]"
   ]
  },
  {
   "cell_type": "code",
   "execution_count": 75,
   "metadata": {},
   "outputs": [],
   "source": [
    "max_prb=50\n",
    "ue_nr=10\n",
    "\n",
    "\n",
    "size=4000\n",
    "env=simpy.Environment()\n",
    "ue_dict=eds.df_to_ue_lists(df,cluster,6,env)\n",
    "ue_dict_red2,ue_all=eds.get_user_from_cluster_random(ue_dict,cluster,ue_nr)"
   ]
  },
  {
   "cell_type": "code",
   "execution_count": 77,
   "metadata": {},
   "outputs": [
    {
     "name": "stderr",
     "output_type": "stream",
     "text": [
      "C:\\Users\\Caroline Zoll\\EDS\\eds.py:233: RuntimeWarning: divide by zero encountered in double_scalars\n",
      "  metric=np.append(metric,((i.cp)**e1/(i.mR**e2)))\n",
      "C:\\Users\\Caroline Zoll\\EDS\\eds.py:263: RuntimeWarning: divide by zero encountered in double_scalars\n",
      "  metric=np.append(metric,((cp)**e1/(i.mR2)**e2))\n"
     ]
    },
    {
     "ename": "KeyboardInterrupt",
     "evalue": "",
     "output_type": "error",
     "traceback": [
      "\u001b[1;31m---------------------------------------------------------------------------\u001b[0m",
      "\u001b[1;31mKeyboardInterrupt\u001b[0m                         Traceback (most recent call last)",
      "\u001b[1;32m~\\EDS\\eds.py\u001b[0m in \u001b[0;36mscheduler\u001b[1;34m(self, env, users, SCHEDULE_T, cluster, prb_number, users2, prb_number2, sched_metric)\u001b[0m\n\u001b[0;32m    418\u001b[0m                 \u001b[1;32mfor\u001b[0m \u001b[0mi\u001b[0m \u001b[1;32min\u001b[0m \u001b[0musers\u001b[0m\u001b[1;33m:\u001b[0m\u001b[1;33m\u001b[0m\u001b[1;33m\u001b[0m\u001b[0m\n\u001b[1;32m--> 419\u001b[1;33m                     \u001b[0mue_re\u001b[0m\u001b[1;33m=\u001b[0m\u001b[0mnp\u001b[0m\u001b[1;33m.\u001b[0m\u001b[0mappend\u001b[0m\u001b[1;33m(\u001b[0m\u001b[0mue_re\u001b[0m\u001b[1;33m,\u001b[0m\u001b[0mi\u001b[0m\u001b[1;33m.\u001b[0m\u001b[0mqueue\u001b[0m\u001b[1;33m.\u001b[0m\u001b[0mlevel\u001b[0m\u001b[1;33m/\u001b[0m\u001b[0mi\u001b[0m\u001b[1;33m.\u001b[0m\u001b[0mtbs\u001b[0m\u001b[1;33m)\u001b[0m\u001b[1;33m\u001b[0m\u001b[1;33m\u001b[0m\u001b[0m\n\u001b[0m\u001b[0;32m    420\u001b[0m                 \u001b[0mself\u001b[0m\u001b[1;33m.\u001b[0m\u001b[0mrem_req\u001b[0m\u001b[1;33m=\u001b[0m\u001b[0mmonitor\u001b[0m\u001b[1;33m(\u001b[0m\u001b[0msum\u001b[0m\u001b[1;33m(\u001b[0m\u001b[0mue_re\u001b[0m\u001b[1;33m)\u001b[0m\u001b[1;33m,\u001b[0m\u001b[0mself\u001b[0m\u001b[1;33m.\u001b[0m\u001b[0mrem_req\u001b[0m\u001b[1;33m,\u001b[0m\u001b[0menv\u001b[0m\u001b[1;33m)\u001b[0m\u001b[1;33m\u001b[0m\u001b[1;33m\u001b[0m\u001b[0m\n",
      "\u001b[1;32m<__array_function__ internals>\u001b[0m in \u001b[0;36mappend\u001b[1;34m(*args, **kwargs)\u001b[0m\n",
      "\u001b[1;32m~\\anaconda3\\lib\\site-packages\\numpy\\lib\\function_base.py\u001b[0m in \u001b[0;36mappend\u001b[1;34m(arr, values, axis)\u001b[0m\n\u001b[0;32m   4670\u001b[0m         \u001b[0maxis\u001b[0m \u001b[1;33m=\u001b[0m \u001b[0marr\u001b[0m\u001b[1;33m.\u001b[0m\u001b[0mndim\u001b[0m\u001b[1;33m-\u001b[0m\u001b[1;36m1\u001b[0m\u001b[1;33m\u001b[0m\u001b[1;33m\u001b[0m\u001b[0m\n\u001b[1;32m-> 4671\u001b[1;33m     \u001b[1;32mreturn\u001b[0m \u001b[0mconcatenate\u001b[0m\u001b[1;33m(\u001b[0m\u001b[1;33m(\u001b[0m\u001b[0marr\u001b[0m\u001b[1;33m,\u001b[0m \u001b[0mvalues\u001b[0m\u001b[1;33m)\u001b[0m\u001b[1;33m,\u001b[0m \u001b[0maxis\u001b[0m\u001b[1;33m=\u001b[0m\u001b[0maxis\u001b[0m\u001b[1;33m)\u001b[0m\u001b[1;33m\u001b[0m\u001b[1;33m\u001b[0m\u001b[0m\n\u001b[0m\u001b[0;32m   4672\u001b[0m \u001b[1;33m\u001b[0m\u001b[0m\n",
      "\u001b[1;32m<__array_function__ internals>\u001b[0m in \u001b[0;36mconcatenate\u001b[1;34m(*args, **kwargs)\u001b[0m\n",
      "\u001b[1;31mKeyboardInterrupt\u001b[0m: ",
      "\nThe above exception was the direct cause of the following exception:\n",
      "\u001b[1;31mKeyboardInterrupt\u001b[0m                         Traceback (most recent call last)",
      "\u001b[1;32m<ipython-input-77-56d3ab5bfffe>\u001b[0m in \u001b[0;36m<module>\u001b[1;34m\u001b[0m\n\u001b[0;32m     47\u001b[0m         \u001b[0mcounter\u001b[0m\u001b[1;33m=\u001b[0m\u001b[0mcounter\u001b[0m\u001b[1;33m+\u001b[0m\u001b[1;36m1\u001b[0m\u001b[1;33m\u001b[0m\u001b[1;33m\u001b[0m\u001b[0m\n\u001b[0;32m     48\u001b[0m     \u001b[0mtimer\u001b[0m\u001b[1;33m=\u001b[0m\u001b[1;36m10000\u001b[0m\u001b[1;33m\u001b[0m\u001b[1;33m\u001b[0m\u001b[0m\n\u001b[1;32m---> 49\u001b[1;33m     \u001b[0menv\u001b[0m\u001b[1;33m.\u001b[0m\u001b[0mrun\u001b[0m\u001b[1;33m(\u001b[0m\u001b[0muntil\u001b[0m\u001b[1;33m=\u001b[0m\u001b[0mtimer\u001b[0m\u001b[1;33m)\u001b[0m\u001b[1;33m\u001b[0m\u001b[1;33m\u001b[0m\u001b[0m\n\u001b[0m\u001b[0;32m     50\u001b[0m     \u001b[0mliste\u001b[0m\u001b[1;33m=\u001b[0m\u001b[0mnp\u001b[0m\u001b[1;33m.\u001b[0m\u001b[0marray\u001b[0m\u001b[1;33m(\u001b[0m\u001b[1;33m[\u001b[0m\u001b[1;33m]\u001b[0m\u001b[1;33m)\u001b[0m\u001b[1;33m\u001b[0m\u001b[1;33m\u001b[0m\u001b[0m\n\u001b[0;32m     51\u001b[0m \u001b[1;33m\u001b[0m\u001b[0m\n",
      "\u001b[1;32m~\\anaconda3\\lib\\site-packages\\simpy\\core.py\u001b[0m in \u001b[0;36mrun\u001b[1;34m(self, until)\u001b[0m\n\u001b[0;32m    252\u001b[0m         \u001b[1;32mtry\u001b[0m\u001b[1;33m:\u001b[0m\u001b[1;33m\u001b[0m\u001b[1;33m\u001b[0m\u001b[0m\n\u001b[0;32m    253\u001b[0m             \u001b[1;32mwhile\u001b[0m \u001b[1;32mTrue\u001b[0m\u001b[1;33m:\u001b[0m\u001b[1;33m\u001b[0m\u001b[1;33m\u001b[0m\u001b[0m\n\u001b[1;32m--> 254\u001b[1;33m                 \u001b[0mself\u001b[0m\u001b[1;33m.\u001b[0m\u001b[0mstep\u001b[0m\u001b[1;33m(\u001b[0m\u001b[1;33m)\u001b[0m\u001b[1;33m\u001b[0m\u001b[1;33m\u001b[0m\u001b[0m\n\u001b[0m\u001b[0;32m    255\u001b[0m         \u001b[1;32mexcept\u001b[0m \u001b[0mStopSimulation\u001b[0m \u001b[1;32mas\u001b[0m \u001b[0mexc\u001b[0m\u001b[1;33m:\u001b[0m\u001b[1;33m\u001b[0m\u001b[1;33m\u001b[0m\u001b[0m\n\u001b[0;32m    256\u001b[0m             \u001b[1;32mreturn\u001b[0m \u001b[0mexc\u001b[0m\u001b[1;33m.\u001b[0m\u001b[0margs\u001b[0m\u001b[1;33m[\u001b[0m\u001b[1;36m0\u001b[0m\u001b[1;33m]\u001b[0m  \u001b[1;31m# == until.value\u001b[0m\u001b[1;33m\u001b[0m\u001b[1;33m\u001b[0m\u001b[0m\n",
      "\u001b[1;32m~\\anaconda3\\lib\\site-packages\\simpy\\core.py\u001b[0m in \u001b[0;36mstep\u001b[1;34m(self)\u001b[0m\n\u001b[0;32m    204\u001b[0m             \u001b[0mexc\u001b[0m \u001b[1;33m=\u001b[0m \u001b[0mtype\u001b[0m\u001b[1;33m(\u001b[0m\u001b[0mevent\u001b[0m\u001b[1;33m.\u001b[0m\u001b[0m_value\u001b[0m\u001b[1;33m)\u001b[0m\u001b[1;33m(\u001b[0m\u001b[1;33m*\u001b[0m\u001b[0mevent\u001b[0m\u001b[1;33m.\u001b[0m\u001b[0m_value\u001b[0m\u001b[1;33m.\u001b[0m\u001b[0margs\u001b[0m\u001b[1;33m)\u001b[0m\u001b[1;33m\u001b[0m\u001b[1;33m\u001b[0m\u001b[0m\n\u001b[0;32m    205\u001b[0m             \u001b[0mexc\u001b[0m\u001b[1;33m.\u001b[0m\u001b[0m__cause__\u001b[0m \u001b[1;33m=\u001b[0m \u001b[0mevent\u001b[0m\u001b[1;33m.\u001b[0m\u001b[0m_value\u001b[0m\u001b[1;33m\u001b[0m\u001b[1;33m\u001b[0m\u001b[0m\n\u001b[1;32m--> 206\u001b[1;33m             \u001b[1;32mraise\u001b[0m \u001b[0mexc\u001b[0m\u001b[1;33m\u001b[0m\u001b[1;33m\u001b[0m\u001b[0m\n\u001b[0m\u001b[0;32m    207\u001b[0m \u001b[1;33m\u001b[0m\u001b[0m\n\u001b[0;32m    208\u001b[0m     def run(\n",
      "\u001b[1;31mKeyboardInterrupt\u001b[0m: "
     ]
    }
   ],
   "source": [
    "load1_l=np.array([])\n",
    "load2_l=np.array([])\n",
    "speicher={}\n",
    "ran=np.arange(1,40,1)\n",
    "metric=[1,1]\n",
    "prb_number_comp=eds.calculate_prb_number2(ue_all,max_prb)\n",
    "prb_number_normal=max_prb-prb_number_comp\n",
    "for k in ran:\n",
    "    env=simpy.Environment()\n",
    "    sched1=eds.sched_inst(env)\n",
    "    sched2=eds.sched_inst(env)\n",
    "    sched3=eds.sched_inst(env)\n",
    "    sched_l=[sched1,sched2]\n",
    "    \n",
    "\n",
    "    ue_dict=eds.df_to_ue_lists(df,cluster,6,env)\n",
    "    ue_dict_red2,ue_all=eds.get_user_from_cluster(ue_dict,cluster,ue_nr)\n",
    "    \n",
    "    env=simpy.Environment()\n",
    "    #Start processes\n",
    "\n",
    "    SCHEDULE_T=2 #Clock des Schedulers \n",
    "    for i in cluster:\n",
    "        ue_list=ue_dict_red2[i]\n",
    "        for j in ue_list:\n",
    "            env.process(j.best_effort_stat(env,k))\n",
    "\n",
    "    ue_comp=np.array([]) #ues that use comp -> processed by central_scheduler\n",
    "    for i in cluster:\n",
    "        ue_list=ue_dict_red2[i]\n",
    "        new_ue_list=np.array([])\n",
    "        for j in ue_list:\n",
    "            if(j.comp == 0):\n",
    "                new_ue_list=np.append(new_ue_list,j)\n",
    "            else:\n",
    "                ue_comp=np.append(ue_comp,j)\n",
    "        ue_dict[i]=new_ue_list #user without comp\n",
    "\n",
    "    env.process(sched3.central_scheduler(env,ue_comp,SCHEDULE_T,cluster,prb_number_comp,metric))\n",
    "\n",
    "    counter=0\n",
    "    for i in cluster:\n",
    "        ue_list=ue_dict[i]\n",
    "        ue_sep=ue_all[counter*ue_nr:((counter+1)*ue_nr)]\n",
    "        sched=sched_l[counter]\n",
    "        env.process(sched.scheduler(env,ue_sep,SCHEDULE_T,cluster,max_prb,ue_list,prb_number_normal,metric))\n",
    "        counter=counter+1\n",
    "    timer=10000\n",
    "    env.run(until=timer)\n",
    "    liste=np.array([])\n",
    "    \n",
    "    av=0\n",
    "    for i in ue_all:\n",
    "        liste=np.append(liste,((i.mR2/i.mR)-1)*100)\n",
    "        av+=i.mR2/i.mR\n",
    "    av=av/(ue_nr*2)\n",
    "    speicher.update({k:liste})\n",
    "    \n",
    "    rem1=0\n",
    "    req1=0\n",
    "    load1=0\n",
    "    rem2=0\n",
    "    req2=0\n",
    "    load2=0\n",
    "    ind=int(timer/2-2)\n",
    "    for i in np.arange(100,ind):\n",
    "        rem1+=sched1.rem_prb[ind]\n",
    "        req1+=sched1.rem_req[ind]\n",
    "        load1+=(sched1.rem_req[ind]+(max_prb-sched1.rem_prb[ind])*(timer/2))/((max_prb)*timer/2)\n",
    "        \n",
    "        rem2+=sched2.rem_prb[ind]\n",
    "        req2+=sched2.rem_req[ind]\n",
    "        load2+=(sched2.rem_req[ind]+(max_prb-sched2.rem_prb[ind])*(timer/2))/((max_prb)*timer/2)\n",
    "        \n",
    "    load1_l=np.append(load1_l,load1/len(np.arange(100,ind)))\n",
    "    load2_l=np.append(load2_l,load2/len(np.arange(100,ind)))\n",
    "    \n",
    "    "
   ]
  },
  {
   "cell_type": "code",
   "execution_count": null,
   "metadata": {},
   "outputs": [],
   "source": [
    "l=np.array([])\n",
    "l2=np.array([])\n",
    "for i in ran:\n",
    "    x=speicher.get(i)\n",
    "    m=x[0:ue_nr].mean()\n",
    "    m2=x[ue_nr:ue_nr*2].mean()\n",
    "    l=np.append(l,m)\n",
    "    l2=np.append(l2,m2)\n",
    "min_val=min(np.append(load1_l,load2_l))\n",
    "max_val=max(np.append(load1_l,load2_l))"
   ]
  },
  {
   "cell_type": "code",
   "execution_count": null,
   "metadata": {},
   "outputs": [],
   "source": [
    "from matplotlib.pyplot import figure\n",
    "figure(figsize=(8, 6), dpi=80)\n",
    "plt.plot(ran,l,label=str(i*100/max_prb)+'% of prbs for comp')\n",
    "#plt.axvline(x=ran[14], color='red', label='full load of the cell')\n",
    "plt.xlabel('Av. packet arrival [ms]')\n",
    "plt.ylabel('Gain with CoMP [%]')\n",
    "plt.legend(loc='upper right')\n"
   ]
  },
  {
   "cell_type": "code",
   "execution_count": null,
   "metadata": {},
   "outputs": [],
   "source": [
    "from matplotlib.pyplot import figure\n",
    "figure(figsize=(8, 6), dpi=80)\n",
    "plt.plot(ran,l2,label='cell1',color='orange')\n",
    "plt.xlabel('Av. packet arrival [ms]')\n",
    "plt.title('Comparison of both cells in the cluster with 62% of the prbs for comp')\n",
    "plt.ylabel('Gain with CoMP [%]')\n",
    "plt.legend(loc='upper right')\n"
   ]
  },
  {
   "cell_type": "code",
   "execution_count": null,
   "metadata": {},
   "outputs": [],
   "source": [
    "from matplotlib.pyplot import figure\n",
    "figure(figsize=(8, 6), dpi=80)\n",
    "plt.plot(ran,(l+l2)/,label='cell1',color='orange')\n",
    "plt.xlabel('Av. packet arrival [ms]')\n",
    "plt.title('Comparison of both cells in the cluster with 62% of the prbs for comp')\n",
    "plt.ylabel('Gain with CoMP [%]')\n",
    "plt.legend(loc='upper right')\n"
   ]
  },
  {
   "cell_type": "code",
   "execution_count": 88,
   "metadata": {},
   "outputs": [
    {
     "name": "stderr",
     "output_type": "stream",
     "text": [
      "C:\\Users\\Caroline Zoll\\EDS\\eds.py:233: RuntimeWarning: divide by zero encountered in double_scalars\n",
      "  metric=np.append(metric,((i.cp)**e1/(i.mR**e2)))\n",
      "C:\\Users\\Caroline Zoll\\EDS\\eds.py:263: RuntimeWarning: divide by zero encountered in double_scalars\n",
      "  metric=np.append(metric,((cp)**e1/(i.mR2)**e2))\n"
     ]
    }
   ],
   "source": [
    "load1_l=np.array([])\n",
    "load2_l=np.array([])\n",
    "speicher={}\n",
    "k=4\n",
    "metric=[1,1]\n",
    "prb_number_comp=eds.calculate_prb_number2(ue_all,max_prb)\n",
    "prb_number_normal=max_prb-prb_number_comp\n",
    "env=simpy.Environment()\n",
    "sched1=eds.sched_inst(env)\n",
    "sched2=eds.sched_inst(env)\n",
    "sched3=eds.sched_inst(env)\n",
    "sched_l=[sched1,sched2]\n",
    "    \n",
    "\n",
    "ue_dict=eds.df_to_ue_lists(df,cluster,6,env)\n",
    "ue_dict_red2,ue_all=eds.get_user_from_cluster_random(ue_dict,cluster,ue_nr)\n",
    "    \n",
    "env=simpy.Environment()\n",
    "    #Start processes\n",
    "\n",
    "SCHEDULE_T=2 #Clock des Schedulers \n",
    "for i in cluster:\n",
    "    ue_list=ue_dict_red2[i]\n",
    "    for j in ue_list:\n",
    "        env.process(j.best_effort_stat(env,k))\n",
    "\n",
    "ue_comp=np.array([]) #ues that use comp -> processed by central_scheduler\n",
    "for i in cluster:\n",
    "    ue_list=ue_dict_red2[i]\n",
    "    new_ue_list=np.array([])\n",
    "    for j in ue_list:\n",
    "        if(j.comp == 0):\n",
    "            new_ue_list=np.append(new_ue_list,j)\n",
    "        else:\n",
    "            ue_comp=np.append(ue_comp,j)\n",
    "    ue_dict[i]=new_ue_list #user without comp\n",
    "\n",
    "env.process(sched3.central_scheduler(env,ue_comp,SCHEDULE_T,cluster,prb_number_comp,metric))\n",
    "\n",
    "counter=0\n",
    "for i in cluster:\n",
    "    ue_list=ue_dict[i]\n",
    "    ue_sep=ue_all[counter*ue_nr:((counter+1)*ue_nr)]\n",
    "    sched=sched_l[counter]\n",
    "    env.process(sched.scheduler(env,ue_sep,SCHEDULE_T,cluster,max_prb,ue_list,prb_number_normal,metric))\n",
    "    counter=counter+1\n",
    "timer=4000\n",
    "env.run(until=timer)\n",
    "liste=np.array([])\n",
    "    \n",
    "av=0\n",
    "for i in ue_all:\n",
    "    liste=np.append(liste,((i.mR2/i.mR)-1)*100)\n",
    "    av+=i.mR2/i.mR\n",
    "av=av/(ue_nr*2)\n",
    "speicher.update({k:liste})\n",
    "    \n",
    "rem1=0\n",
    "req1=0\n",
    "load1=0\n",
    "rem2=0\n",
    "req2=0\n",
    "load2=0\n",
    "ind=int(timer/2-2)\n",
    "for i in np.arange(100,ind):\n",
    "    rem1+=sched1.rem_prb[ind]\n",
    "    req1+=sched1.rem_req[ind]\n",
    "    load1+=(sched1.rem_req[ind]+(max_prb-sched1.rem_prb[ind])*(timer/2))/((max_prb)*timer/2)\n",
    "        \n",
    "    rem2+=sched2.rem_prb[ind]\n",
    "    req2+=sched2.rem_req[ind]\n",
    "    load2+=(sched2.rem_req[ind]+(max_prb-sched2.rem_prb[ind])*(timer/2))/((max_prb)*timer/2)\n",
    "        \n",
    "load1_l=np.append(load1_l,load1/len(np.arange(100,ind)))\n",
    "load2_l=np.append(load2_l,load2/len(np.arange(100,ind)))\n",
    "    "
   ]
  },
  {
   "cell_type": "code",
   "execution_count": 89,
   "metadata": {},
   "outputs": [
    {
     "name": "stdout",
     "output_type": "stream",
     "text": [
      "gain cell1: 14.687683541243546\n",
      "gain cell2: 7.049195161038302\n"
     ]
    }
   ],
   "source": [
    "m=0\n",
    "for i in ue_all[0:10]:\n",
    "    m+=i.mR2/i.mR\n",
    "m=((m/10)-1)*100\n",
    "\n",
    "m2=0\n",
    "for i in ue_all[10:20]:\n",
    "    m2+=i.mR2/i.mR\n",
    "m2=((m2/10)-1)*100\n",
    "\n",
    "print('gain cell1:',m)\n",
    "print('gain cell2:',m2)"
   ]
  },
  {
   "cell_type": "code",
   "execution_count": 90,
   "metadata": {},
   "outputs": [
    {
     "name": "stdout",
     "output_type": "stream",
     "text": [
      "775.0\n",
      "775.0\n",
      "775.0\n",
      "775.0\n",
      "133.0\n",
      "133.0\n",
      "133.0\n",
      "133.0\n"
     ]
    }
   ],
   "source": [
    "for i in ue_comp:\n",
    "    #print('comp:',i.comp)\n",
    "    print(i.cell1)\n",
    "    #print('comp:',i.tbs2/i.tbs)\n",
    "    #print('gain:',(i.mR2/i.mR-1)*100)\n",
    "    #print('gain:',(i.sinr2-i.sinr))"
   ]
  },
  {
   "cell_type": "code",
   "execution_count": 91,
   "metadata": {},
   "outputs": [],
   "source": [
    "x=np.array([])\n",
    "y=np.array([])\n",
    "z=np.array([])\n",
    "for i in ue_all:\n",
    "    if(i.comp==0):\n",
    "        z=np.append(z,i.mR2/i.mR)\n",
    "    if(i.comp==1):\n",
    "        y=np.append(y,i.mR2/i.mR)\n",
    "    x=np.append(x,i.mR2/i.mR)\n",
    "x=(x-1)*100\n",
    "y=(y-1)*100    \n",
    "z=(z-1)*100"
   ]
  },
  {
   "cell_type": "code",
   "execution_count": 92,
   "metadata": {},
   "outputs": [
    {
     "name": "stdout",
     "output_type": "stream",
     "text": [
      "all ues\n",
      "10% Quantil: -16.574214827700462\n",
      "90% Quantil: 60.39335771758474\n",
      "50% Quantil (Median): -13.61307913908072\n",
      "comp ues\n",
      "10% Quantil: 26.738361352735097\n",
      "90% Quantil: 79.87955828896354\n",
      "50% Quantil (Median): 45.92300206067091\n",
      "no_comp ues\n",
      "10% Quantil: -16.66753833117961\n",
      "90% Quantil: -13.593688550399836\n",
      "50% Quantil (Median): -15.171408165570293\n"
     ]
    },
    {
     "data": {
      "image/png": "[encoded data removed]",
      "text/plain": [
       "<Figure size 720x720 with 1 Axes>"
      ]
     },
     "metadata": {
      "needs_background": "light"
     },
     "output_type": "display_data"
    }
   ],
   "source": [
    "sh.cdf_3(x,'all ues','blue',y,'comp ues','green',z,'no_comp ues','red','CDF of the rate gain',min(liste),max(liste),'Gewinn [%]',60)"
   ]
  },
  {
   "cell_type": "code",
   "execution_count": 95,
   "metadata": {},
   "outputs": [
    {
     "name": "stderr",
     "output_type": "stream",
     "text": [
      "C:\\Users\\Caroline Zoll\\EDS\\eds.py:233: RuntimeWarning: divide by zero encountered in double_scalars\n",
      "  metric=np.append(metric,((i.cp)**e1/(i.mR**e2)))\n",
      "C:\\Users\\Caroline Zoll\\EDS\\eds.py:263: RuntimeWarning: divide by zero encountered in double_scalars\n",
      "  metric=np.append(metric,((cp)**e1/(i.mR2)**e2))\n"
     ]
    }
   ],
   "source": [
    "load1_l=np.array([])\n",
    "load2_l=np.array([])\n",
    "speicher={}\n",
    "k=4\n",
    "metric=[0,1]\n",
    "prb_number_comp=eds.calculate_prb_number2(ue_all,max_prb)+1\n",
    "prb_number_normal=max_prb-prb_number_comp\n",
    "env=simpy.Environment()\n",
    "sched1=eds.sched_inst(env)\n",
    "sched2=eds.sched_inst(env)\n",
    "sched3=eds.sched_inst(env)\n",
    "sched_l=[sched1,sched2]\n",
    "    \n",
    "\n",
    "ue_dict=eds.df_to_ue_lists(df,cluster,6,env)\n",
    "ue_dict_red2,ue_all=eds.get_user_from_cluster(ue_dict,cluster,ue_nr)\n",
    "    \n",
    "env=simpy.Environment()\n",
    "    #Start processes\n",
    "\n",
    "SCHEDULE_T=2 #Clock des Schedulers \n",
    "for i in cluster:\n",
    "    ue_list=ue_dict_red2[i]\n",
    "    for j in ue_list:\n",
    "        env.process(j.best_effort_stat(env,k))\n",
    "\n",
    "ue_comp=np.array([]) #ues that use comp -> processed by central_scheduler\n",
    "for i in cluster:\n",
    "    ue_list=ue_dict_red2[i]\n",
    "    new_ue_list=np.array([])\n",
    "    for j in ue_list:\n",
    "        if(j.comp == 0):\n",
    "            new_ue_list=np.append(new_ue_list,j)\n",
    "        else:\n",
    "            ue_comp=np.append(ue_comp,j)\n",
    "    ue_dict[i]=new_ue_list #user without comp\n",
    "\n",
    "env.process(sched3.central_scheduler(env,ue_comp,SCHEDULE_T,cluster,prb_number_comp,metric))\n",
    "\n",
    "counter=0\n",
    "for i in cluster:\n",
    "    ue_list=ue_dict[i]\n",
    "    ue_sep=ue_all[counter*ue_nr:((counter+1)*ue_nr)]\n",
    "    sched=sched_l[counter]\n",
    "    env.process(sched.scheduler(env,ue_sep,SCHEDULE_T,cluster,max_prb,ue_list,prb_number_normal,metric))\n",
    "    counter=counter+1\n",
    "timer=4000\n",
    "env.run(until=timer)\n",
    "liste=np.array([])\n",
    "    \n",
    "av=0\n",
    "for i in ue_all:\n",
    "    liste=np.append(liste,((i.mR2/i.mR)-1)*100)\n",
    "    av+=i.mR2/i.mR\n",
    "av=av/(ue_nr*2)\n",
    "speicher.update({k:liste})\n",
    "    \n",
    "rem1=0\n",
    "req1=0\n",
    "load1=0\n",
    "rem2=0\n",
    "req2=0\n",
    "load2=0\n",
    "ind=int(timer/2-2)\n",
    "for i in np.arange(100,ind):\n",
    "    rem1+=sched1.rem_prb[ind]\n",
    "    req1+=sched1.rem_req[ind]\n",
    "    load1+=(sched1.rem_req[ind]+(max_prb-sched1.rem_prb[ind])*(timer/2))/((max_prb)*timer/2)\n",
    "        \n",
    "    rem2+=sched2.rem_prb[ind]\n",
    "    req2+=sched2.rem_req[ind]\n",
    "    load2+=(sched2.rem_req[ind]+(max_prb-sched2.rem_prb[ind])*(timer/2))/((max_prb)*timer/2)\n",
    "        \n",
    "load1_l=np.append(load1_l,load1/len(np.arange(100,ind)))\n",
    "load2_l=np.append(load2_l,load2/len(np.arange(100,ind)))\n",
    "    "
   ]
  },
  {
   "cell_type": "code",
   "execution_count": null,
   "metadata": {},
   "outputs": [],
   "source": [
    "m=0\n",
    "for i in ue_all[0:10]:\n",
    "    m+=i.mR2/i.mR\n",
    "m=((m/10)-1)*100\n",
    "\n",
    "m2=0\n",
    "for i in ue_all[10:20]:\n",
    "    m2+=i.mR2/i.mR\n",
    "m2=((m2/10)-1)*100\n",
    "\n",
    "print('gain cell1:',m)\n",
    "print('gain cell2:',m2)"
   ]
  },
  {
   "cell_type": "code",
   "execution_count": null,
   "metadata": {},
   "outputs": [],
   "source": [
    "m=0\n",
    "for i in ue_all[0:10]:\n",
    "    m+=i.mR\n",
    "m2=0\n",
    "for i in ue_all[0:10]:\n",
    "    m2+=i.mR2\n",
    "print('av. mean rate cell 1')\n",
    "print('no comp:',m/10)\n",
    "print('comp:',m2/10)\n",
    "m=0\n",
    "for i in ue_all[10:20]:\n",
    "    m+=i.mR\n",
    "m2=0\n",
    "for i in ue_all[10:20]:\n",
    "    m2+=i.mR2 \n",
    "print('av. mean rate cell 2')\n",
    "print('no comp:', m/10)\n",
    "print('comp:',m2/10)"
   ]
  },
  {
   "cell_type": "code",
   "execution_count": null,
   "metadata": {},
   "outputs": [],
   "source": [
    "x=np.array([])\n",
    "y=np.array([])\n",
    "z=np.array([])\n",
    "for i in ue_all:\n",
    "    if(i.comp==0):\n",
    "        z=np.append(z,i.mR2/i.mR)\n",
    "    if(i.comp==1):\n",
    "        y=np.append(y,i.mR2/i.mR)\n",
    "    x=np.append(x,i.mR2/i.mR)\n",
    "x=(x-1)*100\n",
    "y=(y-1)*100    \n",
    "z=(z-1)*100"
   ]
  },
  {
   "cell_type": "code",
   "execution_count": null,
   "metadata": {},
   "outputs": [],
   "source": [
    "sh.cdf_3(x,'all ues','blue',y,'comp ues','green',z,'no_comp ues','red','CDF of the rate gain',min(liste),max(liste),'Gewinn [%]',60)"
   ]
  },
  {
   "cell_type": "code",
   "execution_count": null,
   "metadata": {},
   "outputs": [],
   "source": [
    "m=0\n",
    "for i in ue_all[0:10]:\n",
    "    m+=i.mR\n",
    "m2=0\n",
    "for i in ue_all[0:10]:\n",
    "    m2+=i.mR2\n",
    "print('av. mean rate cell 1')\n",
    "print('no comp:',m/10)\n",
    "print('comp:',m2/10)\n",
    "m=0\n",
    "for i in ue_all[10:20]:\n",
    "    m+=i.mR\n",
    "m2=0\n",
    "for i in ue_all[10:20]:\n",
    "    m2+=i.mR2 \n",
    "print('av. mean rate cell 2')\n",
    "print('no comp:', m/10)\n",
    "print('comp:',m2/10)"
   ]
  },
  {
   "cell_type": "markdown",
   "metadata": {},
   "source": [
    "### Graph Visualization"
   ]
  },
  {
   "cell_type": "code",
   "execution_count": 96,
   "metadata": {},
   "outputs": [
    {
     "data": {
      "image/png": "[encoded data removed]",
      "text/plain": [
       "<Figure size 1080x360 with 1 Axes>"
      ]
     },
     "metadata": {},
     "output_type": "display_data"
    }
   ],
   "source": [
    "import plotly.graph_objects as go\n",
    "import networkx as nx\n",
    "\n",
    "df2 = pd.read_json(\"Prepro/cell_data.txt\")\n",
    "d={}\n",
    "for i in df2.index:\n",
    "    c=df2.loc[i]['cell']\n",
    "    d.update({c['pci']:df2.loc[i]['pos']})\n",
    "    \n",
    "BS_pos=np.array([])\n",
    "for i in cluster:\n",
    "    BS_pos=np.append(BS_pos,d[i])\n",
    "\n",
    "G=nx.Graph()\n",
    "\n",
    "x=np.arange(1,ue_nr*2)\n",
    "G.add_node('cs')\n",
    "G.add_node('c-1')\n",
    "G.add_node('c-2')\n",
    "\n",
    "loc_dic={}\n",
    "loc_dic.update({'cs':[(BS_pos[1]+BS_pos[3])/2,(BS_pos[0]+BS_pos[2])/2]})\n",
    "loc_dic.update({'c-1':[BS_pos[1],BS_pos[0]]}) \n",
    "loc_dic.update({'c-2':[BS_pos[3],BS_pos[2]]})     \n",
    "counter=1\n",
    "for i in ue_all:\n",
    "    loc_dic.update({counter:[i.y,i.x]})\n",
    "    counter+=1\n",
    "\n",
    "G.add_nodes_from(x)\n",
    "\n",
    "n_c=np.array(['orange','firebrick','green'])\n",
    "counter=1\n",
    "for i in ue_all:\n",
    "    #loc_dic.update({counter:[i.x,i.y]})\n",
    "    if(i.comp==1):\n",
    "        G.add_edge(counter,'cs')\n",
    "        if(i.cell1==cluster[0]):\n",
    "            n_c=np.append(n_c,'orangered')\n",
    "        elif(i.cell1==cluster[1]):\n",
    "            n_c=np.append(n_c,'y')\n",
    "    else:\n",
    "        if(i.cell1==cluster[0]):\n",
    "            G.add_edge(counter,'c-1')\n",
    "            n_c=np.append(n_c,'firebrick')\n",
    "        elif(i.cell1==cluster[1]):\n",
    "            G.add_edge(counter,'c-2')\n",
    "            n_c=np.append(n_c,'darkgreen')\n",
    "    counter+=1\n",
    "            \n",
    "n_s=np.ones(ue_nr*2+3)*300\n",
    "n_s[0:3]=1000\n",
    "\n",
    "plt.figure(3,figsize=(15,5)) \n",
    "nx.draw(G,pos=loc_dic,with_labels=True,node_color=n_c,font_color='white',node_size=n_s)\n",
    "plt.draw()\n",
    "plt.show()"
   ]
  },
  {
   "cell_type": "code",
   "execution_count": null,
   "metadata": {},
   "outputs": [],
   "source": []
  }
 ],
 "metadata": {
  "kernelspec": {
   "display_name": "Python 3",
   "language": "python",
   "name": "python3"
  },
  "latex_envs": {
   "LaTeX_envs_menu_present": true,
   "autoclose": false,
   "autocomplete": true,
   "bibliofile": "biblio.bib",
   "cite_by": "apalike",
   "current_citInitial": 1,
   "eqLabelWithNumbers": true,
   "eqNumInitial": 1,
   "hotkeys": {
    "equation": "Ctrl-E",
    "itemize": "Ctrl-I"
   },
   "labels_anchors": false,
   "latex_user_defs": false,
   "report_style_numbering": false,
   "user_envs_cfg": false
  }
 },
 "nbformat": 4,
 "nbformat_minor": 4
}
