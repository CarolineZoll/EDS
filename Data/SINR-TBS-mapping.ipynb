{
 "cells": [
  {
   "cell_type": "markdown",
   "metadata": {},
   "source": [
    "Create SINR-TBS Mapping\n",
    "\n",
    "https://www.researchgate.net/publication/308868405_DL_performance_evaluation_of_a_combined_cell_in_LTE_network"
   ]
  },
  {
   "cell_type": "code",
   "execution_count": 1,
   "metadata": {},
   "outputs": [
    {
     "data": {
      "text/html": [
       "<img src=\"images/SINR-TBS.JPG\" width=\"600\" height=\"300\"/>"
      ],
      "text/plain": [
       "<IPython.core.display.Image object>"
      ]
     },
     "execution_count": 1,
     "metadata": {},
     "output_type": "execute_result"
    }
   ],
   "source": [
    "from IPython.display import Image\n",
    "  \n",
    "# get the image\n",
    "Image(url=\"images/SINR-TBS.JPG\", width=600, height=300)"
   ]
  },
  {
   "cell_type": "code",
   "execution_count": 2,
   "metadata": {},
   "outputs": [
    {
     "data": {
      "text/html": [
       "<img src=\"images/SINR-TBS-lin.JPG\" width=\"600\" height=\"300\"/>"
      ],
      "text/plain": [
       "<IPython.core.display.Image object>"
      ]
     },
     "execution_count": 2,
     "metadata": {},
     "output_type": "execute_result"
    }
   ],
   "source": [
    "from IPython.display import Image\n",
    "  \n",
    "# get the image\n",
    "Image(url=\"images/SINR-TBS-lin.JPG\", width=600, height=300)"
   ]
  },
  {
   "cell_type": "code",
   "execution_count": 3,
   "metadata": {},
   "outputs": [],
   "source": [
    "import numpy as np\n",
    "import matplotlib.pyplot as plt\n",
    "import pandas as pd"
   ]
  },
  {
   "cell_type": "code",
   "execution_count": 4,
   "metadata": {},
   "outputs": [],
   "source": [
    "tbs1=np.linspace(10,50,6)\n",
    "tbs2=np.linspace(55,100,5)\n",
    "tbs3=np.linspace(105,180,5)\n",
    "tbs4=np.linspace(200,320,5)\n",
    "tbs5=np.linspace(350,460,4)\n",
    "tbs6=np.linspace(500,640,4)\n",
    "tbs7=np.linspace(680,800,4)\n",
    "tbs8=np.linspace(850,980,4)\n",
    "tbs9=np.linspace(1025,1140,4)"
   ]
  },
  {
   "cell_type": "code",
   "execution_count": 5,
   "metadata": {},
   "outputs": [],
   "source": [
    "tbs1=np.linspace(10,50,6*2)\n",
    "tbs2=np.linspace(55,100,5*2)\n",
    "tbs3=np.linspace(105,180,5*2)\n",
    "tbs4=np.linspace(200,320,5*2)\n",
    "tbs5=np.linspace(350,460,4*2)\n",
    "tbs6=np.linspace(500,640,4*2)\n",
    "tbs7=np.linspace(680,800,4*2)\n",
    "tbs8=np.linspace(850,980,4*2)\n",
    "tbs9=np.linspace(1025,1140,4*2)"
   ]
  },
  {
   "cell_type": "code",
   "execution_count": 35,
   "metadata": {},
   "outputs": [],
   "source": [
    "tbs1=np.linspace(10,50,6*2)\n",
    "tbs2=np.linspace(52,100,5*2)\n",
    "tbs3=np.linspace(102,180,5*2)\n",
    "tbs4=np.linspace(190,320,5*2)\n",
    "tbs5=np.linspace(335,460,4*2)\n",
    "tbs6=np.linspace(480,640,4*2)\n",
    "tbs7=np.linspace(660,800,4*2)\n",
    "tbs8=np.linspace(825,980,4*2)\n",
    "tbs9=np.linspace(1005,1140,4*2)"
   ]
  },
  {
   "cell_type": "code",
   "execution_count": 36,
   "metadata": {},
   "outputs": [],
   "source": [
    "sinr=np.arange(-10,31,0.5)"
   ]
  },
  {
   "cell_type": "code",
   "execution_count": 37,
   "metadata": {},
   "outputs": [],
   "source": [
    "tbs=np.append(tbs1,tbs2)\n",
    "tbs=np.append(tbs,tbs3)\n",
    "tbs=np.append(tbs,tbs4)\n",
    "tbs=np.append(tbs,tbs5)\n",
    "tbs=np.append(tbs,tbs6)\n",
    "tbs=np.append(tbs,tbs7)\n",
    "tbs=np.append(tbs,tbs8)\n",
    "tbs=np.append(tbs,tbs9)"
   ]
  },
  {
   "cell_type": "code",
   "execution_count": 38,
   "metadata": {},
   "outputs": [],
   "source": [
    "sinr_tbs= pd.DataFrame(data=np.round(tbs), index=sinr, columns=None, dtype=None, copy=None)\n",
    "sinr_tbs= sinr_tbs.rename({0: 'tbs'}, axis=1) "
   ]
  },
  {
   "cell_type": "code",
   "execution_count": 39,
   "metadata": {},
   "outputs": [
    {
     "data": {
      "text/html": [
       "<div>\n",
       "<style scoped>\n",
       "    .dataframe tbody tr th:only-of-type {\n",
       "        vertical-align: middle;\n",
       "    }\n",
       "\n",
       "    .dataframe tbody tr th {\n",
       "        vertical-align: top;\n",
       "    }\n",
       "\n",
       "    .dataframe thead th {\n",
       "        text-align: right;\n",
       "    }\n",
       "</style>\n",
       "<table border=\"1\" class=\"dataframe\">\n",
       "  <thead>\n",
       "    <tr style=\"text-align: right;\">\n",
       "      <th></th>\n",
       "      <th>tbs</th>\n",
       "    </tr>\n",
       "  </thead>\n",
       "  <tbody>\n",
       "    <tr>\n",
       "      <th>-10.0</th>\n",
       "      <td>10.0</td>\n",
       "    </tr>\n",
       "    <tr>\n",
       "      <th>-9.5</th>\n",
       "      <td>14.0</td>\n",
       "    </tr>\n",
       "    <tr>\n",
       "      <th>-9.0</th>\n",
       "      <td>17.0</td>\n",
       "    </tr>\n",
       "    <tr>\n",
       "      <th>-8.5</th>\n",
       "      <td>21.0</td>\n",
       "    </tr>\n",
       "    <tr>\n",
       "      <th>-8.0</th>\n",
       "      <td>25.0</td>\n",
       "    </tr>\n",
       "    <tr>\n",
       "      <th>...</th>\n",
       "      <td>...</td>\n",
       "    </tr>\n",
       "    <tr>\n",
       "      <th>28.5</th>\n",
       "      <td>1063.0</td>\n",
       "    </tr>\n",
       "    <tr>\n",
       "      <th>29.0</th>\n",
       "      <td>1082.0</td>\n",
       "    </tr>\n",
       "    <tr>\n",
       "      <th>29.5</th>\n",
       "      <td>1101.0</td>\n",
       "    </tr>\n",
       "    <tr>\n",
       "      <th>30.0</th>\n",
       "      <td>1121.0</td>\n",
       "    </tr>\n",
       "    <tr>\n",
       "      <th>30.5</th>\n",
       "      <td>1140.0</td>\n",
       "    </tr>\n",
       "  </tbody>\n",
       "</table>\n",
       "<p>82 rows × 1 columns</p>\n",
       "</div>"
      ],
      "text/plain": [
       "          tbs\n",
       "-10.0    10.0\n",
       "-9.5     14.0\n",
       "-9.0     17.0\n",
       "-8.5     21.0\n",
       "-8.0     25.0\n",
       "...       ...\n",
       " 28.5  1063.0\n",
       " 29.0  1082.0\n",
       " 29.5  1101.0\n",
       " 30.0  1121.0\n",
       " 30.5  1140.0\n",
       "\n",
       "[82 rows x 1 columns]"
      ]
     },
     "execution_count": 39,
     "metadata": {},
     "output_type": "execute_result"
    }
   ],
   "source": [
    "sinr_tbs"
   ]
  },
  {
   "cell_type": "code",
   "execution_count": 40,
   "metadata": {},
   "outputs": [
    {
     "data": {
      "image/png": "[encoded data removed]",
      "text/plain": [
       "<Figure size 432x288 with 1 Axes>"
      ]
     },
     "metadata": {
      "needs_background": "light"
     },
     "output_type": "display_data"
    }
   ],
   "source": [
    "plt.plot(sinr_tbs.index,sinr_tbs['tbs'])\n",
    "plt.grid()"
   ]
  },
  {
   "cell_type": "code",
   "execution_count": 41,
   "metadata": {},
   "outputs": [
    {
     "data": {
      "text/plain": [
       "tbs    306.0\n",
       "Name: 10.0, dtype: float64"
      ]
     },
     "execution_count": 41,
     "metadata": {},
     "output_type": "execute_result"
    }
   ],
   "source": [
    "sinr_tbs.iloc[40]"
   ]
  },
  {
   "cell_type": "markdown",
   "metadata": {},
   "source": [
    "TBS/PRB -> TBS/PRBP (for scheduling) -> for 1 ms"
   ]
  },
  {
   "cell_type": "code",
   "execution_count": 21,
   "metadata": {},
   "outputs": [],
   "source": [
    "sinr_tbs['tbs']=sinr_tbs['tbs']*2"
   ]
  },
  {
   "cell_type": "code",
   "execution_count": 23,
   "metadata": {},
   "outputs": [],
   "source": [
    "sinr_tbs.to_csv('sinr-tbs-mapping2.csv')"
   ]
  }
 ],
 "metadata": {
  "kernelspec": {
   "display_name": "Python 3",
   "language": "python",
   "name": "python3"
  },
  "language_info": {
   "codemirror_mode": {
    "name": "ipython",
    "version": 3
   },
   "file_extension": ".py",
   "mimetype": "text/x-python",
   "name": "python",
   "nbconvert_exporter": "python",
   "pygments_lexer": "ipython3",
   "version": "3.8.5"
  },
  "latex_envs": {
   "LaTeX_envs_menu_present": true,
   "autoclose": false,
   "autocomplete": true,
   "bibliofile": "biblio.bib",
   "cite_by": "apalike",
   "current_citInitial": 1,
   "eqLabelWithNumbers": true,
   "eqNumInitial": 1,
   "hotkeys": {
    "equation": "Ctrl-E",
    "itemize": "Ctrl-I"
   },
   "labels_anchors": false,
   "latex_user_defs": false,
   "report_style_numbering": false,
   "user_envs_cfg": false
  }
 },
 "nbformat": 4,
 "nbformat_minor": 4
}
