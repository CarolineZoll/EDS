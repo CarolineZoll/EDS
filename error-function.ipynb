{
 "cells": [
  {
   "cell_type": "code",
   "execution_count": 7,
   "metadata": {},
   "outputs": [],
   "source": [
    "import math\n",
    "from numpy.random import rand\n",
    "import matplotlib.pyplot as plt\n",
    "from mpl_toolkits.mplot3d.axes3d import Axes3D\n",
    "from matplotlib import cm\n",
    "import numpy as np\n",
    "from scipy.special import erf, erfc"
   ]
  },
  {
   "cell_type": "code",
   "execution_count": null,
   "metadata": {},
   "outputs": [],
   "source": [
    "def F(x,std):\n",
    "    F=1-erf(np.arccos(x/2-1)/(np.sqrt(2)*std))\n",
    "    return F"
   ]
  },
  {
   "cell_type": "code",
   "execution_count": 50,
   "metadata": {},
   "outputs": [
    {
     "data": {
      "text/plain": [
       "<matplotlib.legend.Legend at 0x1f6138233d0>"
      ]
     },
     "execution_count": 50,
     "metadata": {},
     "output_type": "execute_result"
    },
    {
     "data": {
      "image/png": "[encoded data removed]",
      "text/plain": [
       "<Figure size 432x288 with 1 Axes>"
      ]
     },
     "metadata": {
      "needs_background": "light"
     },
     "output_type": "display_data"
    }
   ],
   "source": [
    "x = np.linspace(0, 4, 64)\n",
    "plt.plot(x, F(x,math.pi/2), color=\"#A60628\", linewidth = 2, label='std= pi/2')\n",
    "plt.plot(x, F(x,math.pi/4), color='green', linewidth = 2, label='std= pi/4')\n",
    "plt.plot(x, F(x,math.pi/8), color=\"blue\", linewidth = 2, label='std= pi/8')\n",
    "plt.legend()\n",
    "\n"
   ]
  },
  {
   "cell_type": "code",
   "execution_count": 61,
   "metadata": {},
   "outputs": [],
   "source": [
    "import scipy\n",
    "from scipy.optimize import linprog"
   ]
  },
  {
   "cell_type": "code",
   "execution_count": 73,
   "metadata": {},
   "outputs": [],
   "source": [
    "x=scipy.optimize.linprog(m,I,q_div_tbs,C,prb)"
   ]
  },
  {
   "cell_type": "code",
   "execution_count": 64,
   "metadata": {},
   "outputs": [],
   "source": [
    "q=np.array([20,30,10])\n",
    "C=np.array([[1,1,0],[1,0,0],[0,1,1]])"
   ]
  },
  {
   "cell_type": "code",
   "execution_count": 65,
   "metadata": {},
   "outputs": [],
   "source": [
    "tbs=np.array([20,15,10])"
   ]
  },
  {
   "cell_type": "code",
   "execution_count": 66,
   "metadata": {},
   "outputs": [],
   "source": [
    "m=[1,2,1.5]\n",
    "I=np.array([[1,0,0],[0,1,0],[0,0,1]])\n",
    "prb=[]"
   ]
  },
  {
   "cell_type": "code",
   "execution_count": 67,
   "metadata": {},
   "outputs": [],
   "source": [
    "q_div_tbs=q/tbs"
   ]
  },
  {
   "cell_type": "code",
   "execution_count": 70,
   "metadata": {},
   "outputs": [],
   "source": [
    "prb=[1,1,1]"
   ]
  },
  {
   "cell_type": "code",
   "execution_count": 82,
   "metadata": {},
   "outputs": [
    {
     "data": {
      "text/plain": [
       "array([[<ortools.linear_solver.linear_solver_natural_api.ProductCst object at 0x000001F6146CE8B0>,\n",
       "        <ortools.linear_solver.linear_solver_natural_api.ProductCst object at 0x000001F6146CE940>,\n",
       "        <ortools.linear_solver.linear_solver_natural_api.ProductCst object at 0x000001F614689370>],\n",
       "       [<ortools.linear_solver.linear_solver_natural_api.ProductCst object at 0x000001F6146894F0>,\n",
       "        <ortools.linear_solver.linear_solver_natural_api.ProductCst object at 0x000001F614689940>,\n",
       "        <ortools.linear_solver.linear_solver_natural_api.ProductCst object at 0x000001F614689A90>],\n",
       "       [<ortools.linear_solver.linear_solver_natural_api.ProductCst object at 0x000001F614689FD0>,\n",
       "        <ortools.linear_solver.linear_solver_natural_api.ProductCst object at 0x000001F614340A00>,\n",
       "        <ortools.linear_solver.linear_solver_natural_api.ProductCst object at 0x000001F6146F1AC0>]],\n",
       "      dtype=object)"
      ]
     },
     "execution_count": 82,
     "metadata": {},
     "output_type": "execute_result"
    }
   ],
   "source": [
    "from scipy.optimize import LinearConstraint\n",
    "\n",
    "constraints = LinearConstraint(I, b_l)"
   ]
  }
 ],
 "metadata": {
  "kernelspec": {
   "display_name": "Python 3",
   "language": "python",
   "name": "python3"
  },
  "language_info": {
   "codemirror_mode": {
    "name": "ipython",
    "version": 3
   },
   "file_extension": ".py",
   "mimetype": "text/x-python",
   "name": "python",
   "nbconvert_exporter": "python",
   "pygments_lexer": "ipython3",
   "version": "3.8.5"
  },
  "latex_envs": {
   "LaTeX_envs_menu_present": true,
   "autoclose": false,
   "autocomplete": true,
   "bibliofile": "biblio.bib",
   "cite_by": "apalike",
   "current_citInitial": 1,
   "eqLabelWithNumbers": true,
   "eqNumInitial": 1,
   "hotkeys": {
    "equation": "Ctrl-E",
    "itemize": "Ctrl-I"
   },
   "labels_anchors": false,
   "latex_user_defs": false,
   "report_style_numbering": false,
   "user_envs_cfg": false
  }
 },
 "nbformat": 4,
 "nbformat_minor": 4
}
